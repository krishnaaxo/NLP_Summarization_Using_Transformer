{
  "nbformat": 4,
  "nbformat_minor": 0,
  "metadata": {
    "colab": {
      "name": "Summarize Stock News using Python and Deep Learning from  Web Scraping .ipynb",
      "provenance": [],
      "collapsed_sections": [],
      "include_colab_link": true
    },
    "kernelspec": {
      "display_name": "Python 3",
      "language": "python",
      "name": "python3"
    },
    "language_info": {
      "codemirror_mode": {
        "name": "ipython",
        "version": 3
      },
      "file_extension": ".py",
      "mimetype": "text/x-python",
      "name": "python",
      "nbconvert_exporter": "python",
      "pygments_lexer": "ipython3",
      "version": "3.7.3"
    }
  },
  "cells": [
    {
      "cell_type": "markdown",
      "metadata": {
        "id": "view-in-github",
        "colab_type": "text"
      },
      "source": [
        "<a href=\"https://colab.research.google.com/github/krishnaaxo/NLP_Summarization_Using_Transformer/blob/main/Summarize_Stock_News_using_Python_and_Deep_Learning_from_Web_Scraping_.ipynb\" target=\"_parent\"><img src=\"https://colab.research.google.com/assets/colab-badge.svg\" alt=\"Open In Colab\"/></a>"
      ]
    },
    {
      "cell_type": "markdown",
      "metadata": {
        "id": "lQ9e9SxVq4cr"
      },
      "source": [
        "# 1. Install and Import Baseline Dependencies"
      ]
    },
    {
      "cell_type": "code",
      "metadata": {
        "colab": {
          "base_uri": "https://localhost:8080/"
        },
        "collapsed": true,
        "id": "yxUVjiBJq4cs",
        "outputId": "d22f00f7-f418-4e17-c256-498d611afcec"
      },
      "source": [
        "!pip install transformers"
      ],
      "execution_count": 1,
      "outputs": [
        {
          "output_type": "stream",
          "text": [
            "Requirement already satisfied: transformers in /usr/local/lib/python3.7/dist-packages (4.6.1)\n",
            "Requirement already satisfied: huggingface-hub==0.0.8 in /usr/local/lib/python3.7/dist-packages (from transformers) (0.0.8)\n",
            "Requirement already satisfied: tokenizers<0.11,>=0.10.1 in /usr/local/lib/python3.7/dist-packages (from transformers) (0.10.3)\n",
            "Requirement already satisfied: tqdm>=4.27 in /usr/local/lib/python3.7/dist-packages (from transformers) (4.41.1)\n",
            "Requirement already satisfied: filelock in /usr/local/lib/python3.7/dist-packages (from transformers) (3.0.12)\n",
            "Requirement already satisfied: numpy>=1.17 in /usr/local/lib/python3.7/dist-packages (from transformers) (1.19.5)\n",
            "Requirement already satisfied: sacremoses in /usr/local/lib/python3.7/dist-packages (from transformers) (0.0.45)\n",
            "Requirement already satisfied: packaging in /usr/local/lib/python3.7/dist-packages (from transformers) (20.9)\n",
            "Requirement already satisfied: importlib-metadata; python_version < \"3.8\" in /usr/local/lib/python3.7/dist-packages (from transformers) (4.0.1)\n",
            "Requirement already satisfied: regex!=2019.12.17 in /usr/local/lib/python3.7/dist-packages (from transformers) (2019.12.20)\n",
            "Requirement already satisfied: requests in /usr/local/lib/python3.7/dist-packages (from transformers) (2.23.0)\n",
            "Requirement already satisfied: six in /usr/local/lib/python3.7/dist-packages (from sacremoses->transformers) (1.15.0)\n",
            "Requirement already satisfied: joblib in /usr/local/lib/python3.7/dist-packages (from sacremoses->transformers) (1.0.1)\n",
            "Requirement already satisfied: click in /usr/local/lib/python3.7/dist-packages (from sacremoses->transformers) (7.1.2)\n",
            "Requirement already satisfied: pyparsing>=2.0.2 in /usr/local/lib/python3.7/dist-packages (from packaging->transformers) (2.4.7)\n",
            "Requirement already satisfied: typing-extensions>=3.6.4; python_version < \"3.8\" in /usr/local/lib/python3.7/dist-packages (from importlib-metadata; python_version < \"3.8\"->transformers) (3.7.4.3)\n",
            "Requirement already satisfied: zipp>=0.5 in /usr/local/lib/python3.7/dist-packages (from importlib-metadata; python_version < \"3.8\"->transformers) (3.4.1)\n",
            "Requirement already satisfied: chardet<4,>=3.0.2 in /usr/local/lib/python3.7/dist-packages (from requests->transformers) (3.0.4)\n",
            "Requirement already satisfied: idna<3,>=2.5 in /usr/local/lib/python3.7/dist-packages (from requests->transformers) (2.10)\n",
            "Requirement already satisfied: certifi>=2017.4.17 in /usr/local/lib/python3.7/dist-packages (from requests->transformers) (2020.12.5)\n",
            "Requirement already satisfied: urllib3!=1.25.0,!=1.25.1,<1.26,>=1.21.1 in /usr/local/lib/python3.7/dist-packages (from requests->transformers) (1.24.3)\n"
          ],
          "name": "stdout"
        }
      ]
    },
    {
      "cell_type": "code",
      "metadata": {
        "colab": {
          "base_uri": "https://localhost:8080/"
        },
        "id": "OSRv2R4ErlNg",
        "outputId": "52ae0001-4926-424f-fbbe-8606db13e18a"
      },
      "source": [
        "pip install sentencepiece"
      ],
      "execution_count": 2,
      "outputs": [
        {
          "output_type": "stream",
          "text": [
            "Requirement already satisfied: sentencepiece in /usr/local/lib/python3.7/dist-packages (0.1.95)\n"
          ],
          "name": "stdout"
        }
      ]
    },
    {
      "cell_type": "code",
      "metadata": {
        "id": "FHXyLr3pq4ct"
      },
      "source": [
        "from transformers import PegasusTokenizer, PegasusForConditionalGeneration\n",
        "from bs4 import BeautifulSoup\n",
        "import requests"
      ],
      "execution_count": 3,
      "outputs": []
    },
    {
      "cell_type": "markdown",
      "metadata": {
        "id": "aN3f8HR2q4ct"
      },
      "source": [
        "# 2. Setup Summarization Model"
      ]
    },
    {
      "cell_type": "code",
      "metadata": {
        "id": "SO94yRvrq4cu"
      },
      "source": [
        "model_name = \"human-centered-summarization/financial-summarization-pegasus\"\n",
        "tokenizer = PegasusTokenizer.from_pretrained(model_name)\n",
        "model = PegasusForConditionalGeneration.from_pretrained(model_name) "
      ],
      "execution_count": 4,
      "outputs": []
    },
    {
      "cell_type": "markdown",
      "metadata": {
        "id": "jnffEqPgq4cu"
      },
      "source": [
        "# 3. Summarize a Single Article"
      ]
    },
    {
      "cell_type": "code",
      "metadata": {
        "id": "0QRtZ6xAq4cu"
      },
      "source": [
        "url = \"https://au.finance.yahoo.com/news/china-restricting-tesla-use-uncovers-a-significant-challenge-for-elon-musk-expert-161921664.html\"\n",
        "r = requests.get(url)\n",
        "soup = BeautifulSoup(r.text, 'html.parser')\n",
        "paragraphs = soup.find_all('p')"
      ],
      "execution_count": 5,
      "outputs": []
    },
    {
      "cell_type": "code",
      "metadata": {
        "colab": {
          "base_uri": "https://localhost:8080/"
        },
        "id": "1ScbDERVI5nG",
        "outputId": "4ebbdcbd-b937-4c3d-c1dc-e8ff64317df3"
      },
      "source": [
        "paragraphs"
      ],
      "execution_count": 6,
      "outputs": [
        {
          "output_type": "execute_result",
          "data": {
            "text/plain": [
              "[<p class=\"Fz(14px) LineClamp(1,1.3em) M(0)\">Experts share where the profits will be in the next 12 months. Don't miss this free event.</p>,\n",
              " <p>Renewed political tensions between the U.S. and China — which came to light this week as the Biden administration sat down with their Chinese counterparts for the first time to discuss a range of issues — could ensnarl vehicle maker Tesla (<a class=\"link rapid-noclick-resp\" data-ylk=\"slk:TSLA\" href=\"https://finance.yahoo.com/quote/TSLA?p=TSLA&amp;.tsrc=fin-srch\">TSLA</a>), which has pushed successfully into China in recent years.</p>,\n",
              " <p>In fact, the heightened rhetoric between the two super economic superpowers may have already had blowback on Elon Musk's electric car company.</p>,\n",
              " <p>The Chinese government is restricting the use of Tesla vehicles by military staff and employees of vital state-owned companies, <a class=\"link rapid-noclick-resp\" data-ylk=\"slk:The Wall Street Journal reported Friday\" href=\"https://www.wsj.com/articles/china-to-restrict-tesla-usage-by-military-and-state-personnel-11616155643\" rel=\"nofollow noopener\" target=\"_blank\">The Wall Street Journal reported Friday</a>. Chinese officials reportedly have concerns that Tesla's cars — outfitted with various data collecting capabilities — could serve as leakers of national security secrets.</p>,\n",
              " <p>\"I have been saying for months now that Tesla's level of integration of their business, of their research, of their sort of geo-tracking for which there is integration with Chinese maps, their development of A.I. with Chinese firms, and electric battery technology that's not sustainable in China given the trajectory [on policy] that we are now on,\" policy expert and <a class=\"link rapid-noclick-resp\" data-ylk=\"slk:Eurasia Group\" href=\"https://www.eurasiagroup.net/people/ibremmer\" rel=\"nofollow noopener\" target=\"_blank\">Eurasia Group</a> founder Ian Bremmer <a class=\"link rapid-noclick-resp\" data-ylk=\"slk:said on Yahoo Finance Live\" href=\"https://finance.yahoo.com/videos\">said on Yahoo Finance Live</a>. \"Most American A.I. and technology companies are seen as critical for national security, they don't have access in China — companies like Amazon, Google and Facebook. Tesla is the outlier.\"</p>,\n",
              " <p>That outlier status has made China an incredibly important market for Tesla, and a key part of the investment thesis in the stock.</p>,\n",
              " <p>Tesla's sales in China clocked in at $6.66 billion in 2020, up 123% from a year earlier powered by strength in the Model 3. The business made up about 21% of Tesla's overall 2020 sales. Tesla began deliveries of its China-made Model Y to Chinese consumers earlier this year.</p>,\n",
              " <p>Bremmer warns Tesla now has a challenging road ahead in China in light of the recent development by the military. Musk's response to the Chinese actions are important for investors to watch, suggests Bremmer.</p>,\n",
              " <p>\"At a moment of some white knuckle tensions between the U.S. and China, Musk &amp; Co. find themselves in a unique position (along with Apple) of being caught in the crossfire,\" Wedbush tech analyst Dan Ives said.</p>,\n",
              " <p><a class=\"link rapid-noclick-resp\" data-ylk=\"slk:Tesla shares fell about 2% on the report\" href=\"http://finance.yahoo.com/premium-marketing?ncid=editoriald_yhm5ec0oo8o\">Tesla shares fell about 2% on the report</a>, as investors pondered if China will take a harder line on Tesla's sales to consumers.</p>,\n",
              " <p>\"One thing we know about Elon Musk is that he is not exactly Mr. Sensitivity when it comes to government relations and how he engages with say, the S.E.C. or with Congress. I think that this is a significant challenge for him and the firm going forward,\" Bremmer said.</p>,\n",
              " <p><a class=\"link rapid-noclick-resp\" data-ylk=\"slk:Brian Sozzi\" href=\"https://www.yahoo.com/author/brian-sozzi/\"><strong><em>Brian Sozzi</em></strong></a><strong><em> is an editor-at-large and </em></strong><a class=\"link rapid-noclick-resp\" data-ylk=\"slk:anchor at Yahoo Finance\" href=\"https://finance.yahoo.com/videos/\"><strong><em>anchor at Yahoo Finance</em></strong></a><strong><em>. Follow Sozzi on Twitter </em></strong><a class=\"link rapid-noclick-resp\" data-ylk=\"slk:@BrianSozzi\" href=\"https://twitter.com/BrianSozzi\" rel=\"nofollow noopener\" target=\"_blank\"><strong><em>@BrianSozzi</em></strong></a><strong><em> and on </em></strong><a class=\"link rapid-noclick-resp\" data-ylk=\"slk:LinkedIn\" href=\"https://www.linkedin.com/in/briansozzi/\" rel=\"nofollow noopener\" target=\"_blank\"><strong><em>LinkedIn</em></strong></a><strong><em>.</em></strong></p>,\n",
              " <p><strong>What’s hot from Sozzi:</strong></p>,\n",
              " <p><a class=\"link rapid-noclick-resp yahoo-link\" data-ylk=\"slk:Cigna CEO on the future of healthcare post-pandemic;outcm:mb_qualified_link;_E:mb_qualified_link;ct:story;\" href=\"https://finance.yahoo.com/news/how-cigna-plans-to-spend-billions-of-dollars-in-cash-beyond-the-covid-19-pandemic-132948361.html\"><strong>Cigna CEO on the future of healthcare post-pandemic</strong></a></p>,\n",
              " <p><a class=\"link rapid-noclick-resp yahoo-link\" data-ylk=\"slk:Rocket Companies CEO: why rising rates won't slow housing boom;outcm:mb_qualified_link;_E:mb_qualified_link;ct:story;\" href=\"https://finance.yahoo.com/news/quicken-loans-parent-companys-stock-skyrockets-ceo-weighs-in-on-rising-rates-165703198.html\"><strong>Rocket Companies CEO: why rising rates won't slow housing boom</strong></a></p>,\n",
              " <p><a class=\"link rapid-noclick-resp yahoo-link\" data-ylk=\"slk:AutoNation CEO: we have no plans to accept bitcoin like Tesla;outcm:mb_qualified_link;_E:mb_qualified_link;ct:story;\" href=\"https://finance.yahoo.com/video/autonation-ceo-chip-shortage-ve-143205132.html\"><strong>AutoNation CEO: we have no plans to accept bitcoin like Tesla</strong></a></p>,\n",
              " <p><a class=\"link rapid-noclick-resp yahoo-link\" data-ylk=\"slk:NBA great Ray Allen: how the country could come together post Trump;outcm:mb_qualified_link;_E:mb_qualified_link;ct:story;\" href=\"https://finance.yahoo.com/news/nba-legend-ray-allen-politicians-need-to-put-their-differences-aside-and-work-together-154514521.html\"><strong>NBA great Ray Allen: how the country could come together post Trump</strong></a></p>,\n",
              " <p><a class=\"link rapid-noclick-resp yahoo-link\" data-ylk=\"slk:Grammy award winner Ciara: here is my hope for the country;outcm:mb_qualified_link;_E:mb_qualified_link;ct:story;\" href=\"https://www.yahoo.com/entertainment/ciara-on-biden-administration-there-is-new-hope-i-have-faith-we-are-going-to-get-better-180615355.html\"><strong>Grammy award winner Ciara: here is my hope for the country</strong></a></p>,\n",
              " <p><a class=\"link rapid-noclick-resp yahoo-link\" data-ylk=\"slk:Melinda Gates: we are giving $250 million more to the COVID-19 relief effort;outcm:mb_qualified_link;_E:mb_qualified_link;ct:story;\" href=\"https://finance.yahoo.com/news/melinda-gates-half-the-us-could-be-vaccinated-by-mid-2021-153906900.html\"><strong>Melinda Gates: we are giving $250 million more to the COVID-19 relief effort</strong></a></p>,\n",
              " <p><a class=\"link rapid-noclick-resp yahoo-link\" data-ylk=\"slk:Olympics great Michael Phelps: the COVID-19 pandemic hasn’t been all smiles for me;outcm:mb_qualified_link;_E:mb_qualified_link;ct:story;\" href=\"https://finance.yahoo.com/news/olympic-great-michael-phelps-says-you-are-not-alone-if-you-are-struggling-during-covid-19-pandemic-110958470.html\"><strong>Olympics great Michael Phelps: the COVID-19 pandemic hasn’t been all smiles for me</strong></a></p>,\n",
              " <p><strong><em>Watch Yahoo Finance’s live programming on </em></strong><a class=\"link rapid-noclick-resp\" data-ylk=\"slk:Verizon FIOS channel 604\" href=\"https://www.facebook.com/yahoofinance/posts/yahoo-finance-is-live-on-verizon-fios-channel-604-watch-247-bell-to-bell-live-ma/3015619208448976/\" rel=\"nofollow noopener\" target=\"_blank\"><strong><em>Verizon FIOS channel 604</em></strong></a><strong><em>, </em></strong><a class=\"link rapid-noclick-resp yahoo-link\" data-ylk=\"slk:Apple TV;outcm:mb_qualified_link;_E:mb_qualified_link;ct:story;\" href=\"https://finance.yahoo.com/news/yahoo-finance-now-available-apple-tv-120428076.html\"><strong><em>Apple TV</em></strong></a><strong><em>, </em></strong><a class=\"link rapid-noclick-resp yahoo-link\" data-ylk=\"slk:Amazon Fire TV;outcm:mb_qualified_link;_E:mb_qualified_link;ct:story;\" href=\"https://finance.yahoo.com/news/yahoo-finance-now-available-apple-tv-120428076.html\"><strong><em>Amazon Fire TV</em></strong></a><strong><em>, </em></strong><a class=\"link rapid-noclick-resp yahoo-link\" data-ylk=\"slk:Roku;outcm:mb_qualified_link;_E:mb_qualified_link;ct:story;\" href=\"https://finance.yahoo.com/news/yahoo-finance-now-available-apple-tv-120428076.html\"><strong><em>Roku</em></strong></a><strong><em>, Samsung TV, Pluto TV, and </em></strong><a class=\"link rapid-noclick-resp\" data-ylk=\"slk:YouTube\" href=\"https://www.youtube.com/watch?v=FGSOVAYWYNA\" rel=\"nofollow noopener\" target=\"_blank\"><strong><em>YouTube</em></strong></a><strong><em>. Online catch Yahoo Finance on </em></strong><a class=\"link rapid-noclick-resp\" data-ylk=\"slk:Twitter\" href=\"https://twitter.com/YahooFinance\" rel=\"nofollow noopener\" target=\"_blank\"><strong><em>Twitter</em></strong></a><strong><em>, </em></strong><a class=\"link rapid-noclick-resp\" data-ylk=\"slk:Facebook\" href=\"https://www.facebook.com/yahoofinance/\" rel=\"nofollow noopener\" target=\"_blank\"><strong><em>Facebook</em></strong></a><strong><em>, </em></strong><a class=\"link rapid-noclick-resp\" data-ylk=\"slk:Instagram\" href=\"https://www.instagram.com/yahoofinance/?hl=en\" rel=\"nofollow noopener\" target=\"_blank\"><strong><em>Instagram</em></strong></a><strong><em>, </em></strong><a class=\"link rapid-noclick-resp\" data-ylk=\"slk:Flipboard\" href=\"https://flipboard.com/topic/yahoofinance\" rel=\"nofollow noopener\" target=\"_blank\"><strong><em>Flipboard</em></strong></a><strong><em>, </em></strong><a class=\"link rapid-noclick-resp\" data-ylk=\"slk:SmartNews\" href=\"https://b.smartnews.be/sr/22KpZt3f1a6FAmNimBiSnzqADfTE1m2w3q3o69J\" rel=\"nofollow noopener\" target=\"_blank\"><strong><em>SmartNews</em></strong></a><strong><em>, and LinkedIn.</em></strong></p>,\n",
              " <p class=\"M(0) C($summaryColor) Fz(14px) Lh(1.43em) LineClamp(3,60px)\">Some of the market's fastest-growing companies are still trading at least 20% off their highs. They're starting to move higher again.</p>,\n",
              " <p class=\"M(0) C($summaryColor) Fz(14px) Lh(1.43em) LineClamp(3,60px)\">Russia has tested a nasal spray form of its COVID-19 vaccine that is suitable for children aged 8-12, and plans to launch the new product in September, the scientist who led the development of the Sputnik V vaccine said on Saturday.  Alexander Gintsburg, who heads the Gamaleya Institute that developed Sputnik V, said the spray for children used the same vaccine \"only instead of a needle, a nozzle is put on\", the TASS news agency reported.</p>,\n",
              " <p class=\"M(0) C($summaryColor) Fz(14px) Lh(1.43em) LineClamp(3,60px)\">Though it's best to keep your housing costs to 30% of your income, in some cases, you can get away with exceeding that limit.</p>,\n",
              " <p class=\"M(0) C($summaryColor) Fz(14px) Lh(1.43em) LineClamp(3,60px)\">SANTA MONICA, Calif., Jun 12, 2021--Kite, a Gilead Company (Nasdaq: GILD), today announced follow-up results from the pivotal ZUMA-5 trial of Yescarta® (axicabtagene ciloleucel) – the first and only CAR T-cell therapy approved in patients with relapsed or refractory indolent follicular lymphoma (FL). At a minimum follow-up of 18 months, 94% of patients had achieved a response, and secondary endpoints of median progression-free survival (PFS) and overall survival (OS) were not yet reached. In a w</p>,\n",
              " <p class=\"M(0) C($summaryColor) Fz(14px) Lh(1.43em) LineClamp(3,60px)\">Services linking Belfast City airport with Birmingham, East Midlands, Edinburgh, Exeter, Leeds Bradford and Manchester are all cancelled</p>,\n",
              " <p class=\"M(0) C($summaryColor) Fz(14px) Lh(1.43em) LineClamp(3,60px)\">Killer is said to have told taxi driver to film his arrest</p>,\n",
              " <p class=\"M(0) C($summaryColor) Fz(14px) Lh(1.43em) LineClamp(3,60px)\">Exclusive: “It is a message that our experiences, as Black people, matter,” said Kevin Maxwell, a former Met Police officer-turned-whistleblower.</p>,\n",
              " <p class=\"M(0) C($summaryColor) Fz(14px) Lh(1.43em) LineClamp(3,60px)\">(Bloomberg) -- Group of Seven leaders debated how strongly to respond to China’s effort to win influence around the world and rebuke it over alleged forced labor practices -- with U.S. President Joe Biden taking a more hawkish stance and some other leaders wary of the risk the group is seen as an outright anti-China bloc.Saturday’s talks at the G-7 summit on the Cornish coast of southern England have focused in part on China. During that session Biden, along with U.K. host Boris Johnson and Cana</p>,\n",
              " <p class=\"M(0) C($summaryColor) Fz(14px) Lh(1.43em) LineClamp(3,60px)\">Gareth Southgate has great depth in the attacking department with the potential to change the game for the Three Lions from the bench</p>,\n",
              " <p class=\"M(0) C($summaryColor) Fz(14px) Lh(1.43em) LineClamp(3,60px)\">Shooter’s lawyer says without gun, ‘I don’t think what happened that night would have happened that night’</p>,\n",
              " <p class=\"M(0) C($summaryColor) Fz(14px) Lh(1.43em) LineClamp(3,60px)\">The U.S. Transportation Security Administration (TSA) said it screened 2.02 million passengers on Friday at U.S. airports, the highest number since March 2020 when the coronavirus pandemic slashed travel demand.  It was the first time daily U.S. airport passengers screened had topped 2 million since March 7, 2020, the TSA said.  Still, Friday's demand is still just 74% of pre-pandemic air travel on the equivalent day in June 2019, when 2.7 million passengers were screened.</p>,\n",
              " <p class=\"M(0) C($summaryColor) Fz(14px) Lh(1.43em) LineClamp(3,60px)\">‘Your last album reached No 63. You lost your deposit at election. England don’t support you, mate’</p>,\n",
              " <p class=\"M(0) C($summaryColor) Fz(14px) Lh(1.43em) LineClamp(3,60px)\">Group B begins in Copenhagen as Christian Eriksen and co take on the Finnish</p>,\n",
              " <p class=\"M(0) C($summaryColor) Fz(14px) Lh(1.43em) LineClamp(3,60px)\">All the important info around the group-stage game</p>,\n",
              " <p class=\"M(0) C($summaryColor) Fz(14px) Lh(1.43em) LineClamp(3,60px)\">All there is to know before the group-stage meeting</p>,\n",
              " <p class=\"M(0) C($summaryColor) Fz(14px) Lh(1.43em) LineClamp(3,60px)\">Everything you need to know about the group-stage clash</p>,\n",
              " <p class=\"M(0) C($summaryColor) Fz(14px) Lh(1.43em) LineClamp(3,60px)\">A murder investigation has been launched following the death of a 58-year-old woman in Manchester.  Greater Manchester Police (GMP) were called to an address in Holker Close, Longsight, just before 2pm on Friday following reports that a body had been found.  Emergency services attended the scene and an investigation has been launched into the circumstances surrounding her death.</p>,\n",
              " <p class=\"M(0) C($summaryColor) Fz(14px) Lh(1.43em) LineClamp(3,60px)\">Follow all the latest updates from Baku as day two of Euro 2020 gets under way</p>,\n",
              " <p class=\"M(0) C($summaryColor) Fz(14px) Lh(1.43em) LineClamp(3,60px)\">After all, if Ford is simply defending its pickup-truck turf from new entrants as the world transitions to electric vehicles, how could that be bullish?  In this Motley Fool Live broadcast, recorded on May 27, Industry Focus host Nick Sciple and Motley Fool senior auto specialist John Rosevear take a closer look at how the F-150 Lightning fits into Ford's profit-growth plan -- and why even defending its turf is arguably bullish for Ford's stock right now.</p>,\n",
              " <p class=\"M(0) C($summaryColor) Fz(14px) Lh(1.43em) LineClamp(3,60px)\">The first quarter 2021 Household Debt and Credit Report from the Federal Reserve Bank of New York shows that most sections of the economy have felt the impacts of the pandemic.  The credit card industry, in particular, has seen a few twists over the last 18 months.  For example, the combination of sluggish retail and stimulus checks helped average credit card balances hit historic lows as cardholders both charged less and paid off debt.</p>]"
            ]
          },
          "metadata": {
            "tags": []
          },
          "execution_count": 6
        }
      ]
    },
    {
      "cell_type": "code",
      "metadata": {
        "colab": {
          "base_uri": "https://localhost:8080/",
          "height": 35
        },
        "id": "homfUr1Nq4cv",
        "outputId": "eb65672e-382a-45be-9ac0-9d246e8d00bf"
      },
      "source": [
        "paragraphs[0].text"
      ],
      "execution_count": 7,
      "outputs": [
        {
          "output_type": "execute_result",
          "data": {
            "application/vnd.google.colaboratory.intrinsic+json": {
              "type": "string"
            },
            "text/plain": [
              "\"Experts share where the profits will be in the next 12 months. Don't miss this free event.\""
            ]
          },
          "metadata": {
            "tags": []
          },
          "execution_count": 7
        }
      ]
    },
    {
      "cell_type": "code",
      "metadata": {
        "id": "4Iv7UG9Pq4cv"
      },
      "source": [
        "text = [paragraph.text for paragraph in paragraphs]\n",
        "words = ' '.join(text).split(' ')[:400]\n",
        "ARTICLE = ' '.join(words)"
      ],
      "execution_count": 8,
      "outputs": []
    },
    {
      "cell_type": "code",
      "metadata": {
        "colab": {
          "base_uri": "https://localhost:8080/",
          "height": 120
        },
        "id": "eHFJu_8Fq4cv",
        "outputId": "5ba8953b-ffb6-4168-ec3d-21d99ab52ab9"
      },
      "source": [
        "ARTICLE"
      ],
      "execution_count": 9,
      "outputs": [
        {
          "output_type": "execute_result",
          "data": {
            "application/vnd.google.colaboratory.intrinsic+json": {
              "type": "string"
            },
            "text/plain": [
              "'Experts share where the profits will be in the next 12 months. Don\\'t miss this free event. Renewed political tensions between the U.S. and China — which came to light this week as the Biden administration sat down with their Chinese counterparts for the first time to discuss a range of issues — could ensnarl vehicle maker Tesla (TSLA), which has pushed successfully into China in recent years. In fact, the heightened rhetoric between the two super economic superpowers may have already had blowback on Elon Musk\\'s electric car company. The Chinese government is restricting the use of Tesla vehicles by military staff and employees of vital state-owned companies, The Wall Street Journal reported Friday. Chinese officials reportedly have concerns that Tesla\\'s cars — outfitted with various data collecting capabilities — could serve as leakers of national security secrets. \"I have been saying for months now that Tesla\\'s level of integration of their business, of their research, of their sort of geo-tracking for which there is integration with Chinese maps, their development of A.I. with Chinese firms, and electric battery technology that\\'s not sustainable in China given the trajectory [on policy] that we are now on,\" policy expert and Eurasia Group founder Ian Bremmer said on Yahoo Finance Live. \"Most American A.I. and technology companies are seen as critical for national security, they don\\'t have access in China — companies like Amazon, Google and Facebook. Tesla is the outlier.\" That outlier status has made China an incredibly important market for Tesla, and a key part of the investment thesis in the stock. Tesla\\'s sales in China clocked in at $6.66 billion in 2020, up 123% from a year earlier powered by strength in the Model 3. The business made up about 21% of Tesla\\'s overall 2020 sales. Tesla began deliveries of its China-made Model Y to Chinese consumers earlier this year. Bremmer warns Tesla now has a challenging road ahead in China in light of the recent development by the military. Musk\\'s response to the Chinese actions are important for investors to watch, suggests Bremmer. \"At a moment of some white knuckle tensions between the U.S. and China, Musk & Co. find themselves in a unique position (along with Apple) of being caught in the crossfire,\" Wedbush tech analyst Dan Ives said. Tesla shares fell about 2% on the report, as investors pondered if China will take a harder line'"
            ]
          },
          "metadata": {
            "tags": []
          },
          "execution_count": 9
        }
      ]
    },
    {
      "cell_type": "code",
      "metadata": {
        "id": "3lpzyLtrq4cw"
      },
      "source": [
        "input_ids = tokenizer.encode(ARTICLE, return_tensors='pt')\n",
        "output = model.generate(input_ids, max_length=110, num_beams=5, early_stopping=True)\n",
        "summary = tokenizer.decode(output[0], skip_special_tokens=True)"
      ],
      "execution_count": 10,
      "outputs": []
    },
    {
      "cell_type": "code",
      "metadata": {
        "colab": {
          "base_uri": "https://localhost:8080/",
          "height": 35
        },
        "id": "Hcp_hM2pq4cw",
        "outputId": "406bf4fc-ba7a-44b7-c3d9-f44d722fd70f"
      },
      "source": [
        "summary"
      ],
      "execution_count": 11,
      "outputs": [
        {
          "output_type": "execute_result",
          "data": {
            "application/vnd.google.colaboratory.intrinsic+json": {
              "type": "string"
            },
            "text/plain": [
              "'Tensions between U.S. and China may have already had blowback. Tesla has been successful in China in recent years'"
            ]
          },
          "metadata": {
            "tags": []
          },
          "execution_count": 11
        }
      ]
    },
    {
      "cell_type": "markdown",
      "metadata": {
        "id": "EgPVnj8lq4cw"
      },
      "source": [
        "# 4. Building a News and Sentiment Pipeline"
      ]
    },
    {
      "cell_type": "code",
      "metadata": {
        "id": "NGgqPZqgq4cx"
      },
      "source": [
        "monitored_tickers = ['DOGE', 'TSLA', 'BTC']"
      ],
      "execution_count": 12,
      "outputs": []
    },
    {
      "cell_type": "markdown",
      "metadata": {
        "id": "Y5UUmQLhq4cx"
      },
      "source": [
        "## 4.1. Search for Stock News using Google and Yahoo Finance"
      ]
    },
    {
      "cell_type": "code",
      "metadata": {
        "id": "BsFlNvhHq4cx"
      },
      "source": [
        "def search_for_stock_news_urls(ticker):\n",
        "    search_url = \"https://www.google.com/search?q=yahoo+finance+{}&tbm=nws\".format(ticker)\n",
        "    r = requests.get(search_url)\n",
        "    soup = BeautifulSoup(r.text, 'html.parser')\n",
        "    atags = soup.find_all('a')\n",
        "    hrefs = [link['href'] for link in atags]\n",
        "    return hrefs "
      ],
      "execution_count": 13,
      "outputs": []
    },
    {
      "cell_type": "code",
      "metadata": {
        "colab": {
          "base_uri": "https://localhost:8080/"
        },
        "collapsed": true,
        "id": "4YsiOHApq4cx",
        "outputId": "61e22ff5-f313-4ae7-e8d7-5e58d94c8bf9"
      },
      "source": [
        "raw_urls = {ticker:search_for_stock_news_urls(ticker) for ticker in monitored_tickers}\n",
        "raw_urls"
      ],
      "execution_count": 14,
      "outputs": [
        {
          "output_type": "execute_result",
          "data": {
            "text/plain": [
              "{'BTC': ['/?sa=X&ved=0ahUKEwiI9_24o5LxAhWBFzQIHVFMA0oQOwgC',\n",
              "  '/?output=search&ie=UTF-8&tbm=nws&sa=X&ved=0ahUKEwiI9_24o5LxAhWBFzQIHVFMA0oQPAgE',\n",
              "  '/search?q=yahoo+finance+BTC&tbm=nws&ie=UTF-8&gbv=1&sei=0MDEYIjPJoGv0PEP0ZiN0AQ',\n",
              "  '/search?q=yahoo+finance+BTC&ie=UTF-8&source=lnms&sa=X&ved=0ahUKEwiI9_24o5LxAhWBFzQIHVFMA0oQ_AUIBygA',\n",
              "  '/search?q=yahoo+finance+BTC&ie=UTF-8&tbm=shop&source=lnms&sa=X&ved=0ahUKEwiI9_24o5LxAhWBFzQIHVFMA0oQ_AUICSgC',\n",
              "  '/search?q=yahoo+finance+BTC&ie=UTF-8&tbm=vid&source=lnms&sa=X&ved=0ahUKEwiI9_24o5LxAhWBFzQIHVFMA0oQ_AUICigD',\n",
              "  '/search?q=yahoo+finance+BTC&ie=UTF-8&tbm=isch&source=lnms&sa=X&ved=0ahUKEwiI9_24o5LxAhWBFzQIHVFMA0oQ_AUICygE',\n",
              "  'https://maps.google.com/maps?q=yahoo+finance+BTC&um=1&ie=UTF-8&sa=X&ved=0ahUKEwiI9_24o5LxAhWBFzQIHVFMA0oQ_AUIDCgF',\n",
              "  '/search?q=yahoo+finance+BTC&ie=UTF-8&tbm=bks&source=lnms&sa=X&ved=0ahUKEwiI9_24o5LxAhWBFzQIHVFMA0oQ_AUIDSgG',\n",
              "  '/advanced_search',\n",
              "  '/search?q=yahoo+finance+BTC&ie=UTF-8&tbm=nws&source=lnt&tbs=qdr:h&sa=X&ved=0ahUKEwiI9_24o5LxAhWBFzQIHVFMA0oQpwUIDw',\n",
              "  '/search?q=yahoo+finance+BTC&ie=UTF-8&tbm=nws&source=lnt&tbs=qdr:d&sa=X&ved=0ahUKEwiI9_24o5LxAhWBFzQIHVFMA0oQpwUIEA',\n",
              "  '/search?q=yahoo+finance+BTC&ie=UTF-8&tbm=nws&source=lnt&tbs=qdr:w&sa=X&ved=0ahUKEwiI9_24o5LxAhWBFzQIHVFMA0oQpwUIEQ',\n",
              "  '/search?q=yahoo+finance+BTC&ie=UTF-8&tbm=nws&source=lnt&tbs=qdr:m&sa=X&ved=0ahUKEwiI9_24o5LxAhWBFzQIHVFMA0oQpwUIEg',\n",
              "  '/search?q=yahoo+finance+BTC&ie=UTF-8&tbm=nws&source=lnt&tbs=qdr:y&sa=X&ved=0ahUKEwiI9_24o5LxAhWBFzQIHVFMA0oQpwUIEw',\n",
              "  '/search?q=yahoo+finance+BTC&ie=UTF-8&tbm=nws&source=lnt&tbs=ar:1&sa=X&ved=0ahUKEwiI9_24o5LxAhWBFzQIHVFMA0oQpwUIFA',\n",
              "  '/search?q=yahoo+finance+BTC&ie=UTF-8&tbm=nws&source=lnt&tbs=sbd:1&sa=X&ved=0ahUKEwiI9_24o5LxAhWBFzQIHVFMA0oQpwUIFg',\n",
              "  '/url?q=https://finance.yahoo.com/news/wannabe-bitcoin-etfs-mushrooming-getting-130000561.html&sa=U&ved=2ahUKEwiI9_24o5LxAhWBFzQIHVFMA0oQxfQBMAB6BAgEEAE&usg=AOvVaw1ou6Trd6RhLVIL4bcefN6D',\n",
              "  '/url?q=https://finance.yahoo.com/news/wannabe-bitcoin-etfs-mushrooming-getting-130000561.html&sa=U&ved=2ahUKEwiI9_24o5LxAhWBFzQIHVFMA0oQ0Y8FMAB6BAgEEAI&usg=AOvVaw3Ek9-d_m27fTR39dX6QVRr',\n",
              "  '/url?q=https://finance.yahoo.com/news/locked-bitcoin-taproot-upgrade-gets-120837972.html&sa=U&ved=2ahUKEwiI9_24o5LxAhWBFzQIHVFMA0oQxfQBMAF6BAgHEAE&usg=AOvVaw3mjiWSXC37MgDnCiQ9Excx',\n",
              "  '/url?q=https://finance.yahoo.com/news/locked-bitcoin-taproot-upgrade-gets-120837972.html&sa=U&ved=2ahUKEwiI9_24o5LxAhWBFzQIHVFMA0oQ0Y8FMAF6BAgHEAI&usg=AOvVaw0HFa0IT5_XCADDtflPGydb',\n",
              "  '/url?q=https://finance.yahoo.com/news/using-macd-analyze-btc-price-111400297.html&sa=U&ved=2ahUKEwiI9_24o5LxAhWBFzQIHVFMA0oQxfQBMAJ6BAgIEAE&usg=AOvVaw096TbczhjdksCvXobb3oaE',\n",
              "  '/url?q=https://finance.yahoo.com/news/using-macd-analyze-btc-price-111400297.html&sa=U&ved=2ahUKEwiI9_24o5LxAhWBFzQIHVFMA0oQ0Y8FMAJ6BAgIEAI&usg=AOvVaw19WC04RzUkEH6IGTQtehjT',\n",
              "  '/url?q=https://finance.yahoo.com/news/jpmorgan-predicts-bitcoin-2021-slide-101400075.html&sa=U&ved=2ahUKEwiI9_24o5LxAhWBFzQIHVFMA0oQxfQBMAN6BAgJEAE&usg=AOvVaw3r0gcXOA4gzTgkVtkXyFR6',\n",
              "  '/url?q=https://finance.yahoo.com/news/jpmorgan-predicts-bitcoin-2021-slide-101400075.html&sa=U&ved=2ahUKEwiI9_24o5LxAhWBFzQIHVFMA0oQ0Y8FMAN6BAgJEAI&usg=AOvVaw0ktl2iUsnLY6mRFe9R3hkv',\n",
              "  '/url?q=https://finance.yahoo.com/news/chinas-cryptocurrency-mining-crackdown-spreads-091422332.html&sa=U&ved=2ahUKEwiI9_24o5LxAhWBFzQIHVFMA0oQxfQBMAR6BAgDEAE&usg=AOvVaw3hWqFjKJI2NZRF8iAHTXFx',\n",
              "  '/url?q=https://finance.yahoo.com/news/chinas-cryptocurrency-mining-crackdown-spreads-091422332.html&sa=U&ved=2ahUKEwiI9_24o5LxAhWBFzQIHVFMA0oQ0Y8FMAR6BAgDEAI&usg=AOvVaw1Ctdsz8jYI5Wre09QIaYco',\n",
              "  '/url?q=https://finance.yahoo.com/news/south-koreans-pay-bitcoin-stacks-222632410.html&sa=U&ved=2ahUKEwiI9_24o5LxAhWBFzQIHVFMA0oQxfQBMAV6BAgBEAE&usg=AOvVaw3Re3TekW_Pkz6v9uGhL9re',\n",
              "  '/url?q=https://finance.yahoo.com/news/south-koreans-pay-bitcoin-stacks-222632410.html&sa=U&ved=2ahUKEwiI9_24o5LxAhWBFzQIHVFMA0oQ0Y8FMAV6BAgBEAI&usg=AOvVaw2hPLrmakxVw4qiilrgE6iB',\n",
              "  '/url?q=https://finance.yahoo.com/news/bitcoin-is-bad-for-crime-says-crypto-asset-manager-210045513.html&sa=U&ved=2ahUKEwiI9_24o5LxAhWBFzQIHVFMA0oQxfQBMAZ6BAgAEAE&usg=AOvVaw2B5_rOwNjTu3qSZ1eeTtJG',\n",
              "  '/url?q=https://finance.yahoo.com/news/bitcoin-is-bad-for-crime-says-crypto-asset-manager-210045513.html&sa=U&ved=2ahUKEwiI9_24o5LxAhWBFzQIHVFMA0oQ0Y8FMAZ6BAgAEAI&usg=AOvVaw1i3i6912d_84-GbOur5Bot',\n",
              "  '/url?q=https://finance.yahoo.com/video/although-bitcoin-very-volatile-only-204141433.html&sa=U&ved=2ahUKEwiI9_24o5LxAhWBFzQIHVFMA0oQxfQBMAd6BAgCEAE&usg=AOvVaw1fnxXZcCGvuH7sILfhGV7h',\n",
              "  '/url?q=https://finance.yahoo.com/video/although-bitcoin-very-volatile-only-204141433.html&sa=U&ved=2ahUKEwiI9_24o5LxAhWBFzQIHVFMA0oQ0Y8FMAd6BAgCEAI&usg=AOvVaw2JMBZSstBzA13Q1ly-CJsM',\n",
              "  '/url?q=https://finance.yahoo.com/news/bitcoin-200k-end-crypto-options-144311059.html&sa=U&ved=2ahUKEwiI9_24o5LxAhWBFzQIHVFMA0oQxfQBMAh6BAgFEAE&usg=AOvVaw2bxjNykbhoQU3nHZe1pGMe',\n",
              "  '/url?q=https://finance.yahoo.com/news/bitcoin-200k-end-crypto-options-144311059.html&sa=U&ved=2ahUKEwiI9_24o5LxAhWBFzQIHVFMA0oQ0Y8FMAh6BAgFEAI&usg=AOvVaw39xlbahEuLG4i0IlzdQJxM',\n",
              "  '/url?q=https://finance.yahoo.com/news/betting-markets-see-more-pain-for-bitcoin-investors-bet-on-drop-to-10-k-oddsmakers-142311201.html&sa=U&ved=2ahUKEwiI9_24o5LxAhWBFzQIHVFMA0oQxfQBMAl6BAgGEAE&usg=AOvVaw1435mfbzOx6cNN2YiJvTUI',\n",
              "  '/url?q=https://finance.yahoo.com/news/betting-markets-see-more-pain-for-bitcoin-investors-bet-on-drop-to-10-k-oddsmakers-142311201.html&sa=U&ved=2ahUKEwiI9_24o5LxAhWBFzQIHVFMA0oQ0Y8FMAl6BAgGEAI&usg=AOvVaw3m1Gos3tLCSC9_MabcskII',\n",
              "  '/search?q=yahoo+finance+BTC&ie=UTF-8&tbm=nws&ei=0MDEYIjPJoGv0PEP0ZiN0AQ&start=10&sa=N',\n",
              "  '/url?q=https://support.google.com/websearch%3Fp%3Dws_settings_location%26hl%3Den&sa=U&ved=0ahUKEwiI9_24o5LxAhWBFzQIHVFMA0oQty4IVQ&usg=AOvVaw0cqYj4NlZzeP9vgmSenkTd',\n",
              "  '/url?q=https://accounts.google.com/ServiceLogin%3Fcontinue%3Dhttps://www.google.com/search%253Fq%253Dyahoo%252Bfinance%252BBTC%2526tbm%253Dnws%26hl%3Den&sa=U&ved=0ahUKEwiI9_24o5LxAhWBFzQIHVFMA0oQxs8CCFY&usg=AOvVaw1OiW_APNGVoIfGJbK7o4mR',\n",
              "  'https://www.google.com/preferences?hl=en&fg=1&sa=X&ved=0ahUKEwiI9_24o5LxAhWBFzQIHVFMA0oQ5fUCCFc',\n",
              "  'https://policies.google.com/privacy?hl=en&fg=1',\n",
              "  'https://policies.google.com/terms?hl=en&fg=1'],\n",
              " 'DOGE': ['/?sa=X&ved=0ahUKEwjFysu4o5LxAhWbHzQIHbw5CV4QOwgC',\n",
              "  '/?output=search&ie=UTF-8&tbm=nws&sa=X&ved=0ahUKEwjFysu4o5LxAhWbHzQIHbw5CV4QPAgE',\n",
              "  '/search?q=yahoo+finance+DOGE&tbm=nws&ie=UTF-8&gbv=1&sei=z8DEYIWnMZu_0PEPvPOk8AU',\n",
              "  '/search?q=yahoo+finance+DOGE&ie=UTF-8&source=lnms&sa=X&ved=0ahUKEwjFysu4o5LxAhWbHzQIHbw5CV4Q_AUIBygA',\n",
              "  '/search?q=yahoo+finance+DOGE&ie=UTF-8&tbm=shop&source=lnms&sa=X&ved=0ahUKEwjFysu4o5LxAhWbHzQIHbw5CV4Q_AUICSgC',\n",
              "  '/search?q=yahoo+finance+DOGE&ie=UTF-8&tbm=vid&source=lnms&sa=X&ved=0ahUKEwjFysu4o5LxAhWbHzQIHbw5CV4Q_AUICigD',\n",
              "  '/search?q=yahoo+finance+DOGE&ie=UTF-8&tbm=isch&source=lnms&sa=X&ved=0ahUKEwjFysu4o5LxAhWbHzQIHbw5CV4Q_AUICygE',\n",
              "  'https://maps.google.com/maps?q=yahoo+finance+DOGE&um=1&ie=UTF-8&sa=X&ved=0ahUKEwjFysu4o5LxAhWbHzQIHbw5CV4Q_AUIDCgF',\n",
              "  '/search?q=yahoo+finance+DOGE&ie=UTF-8&tbm=bks&source=lnms&sa=X&ved=0ahUKEwjFysu4o5LxAhWbHzQIHbw5CV4Q_AUIDSgG',\n",
              "  '/advanced_search',\n",
              "  '/search?q=yahoo+finance+DOGE&ie=UTF-8&tbm=nws&source=lnt&tbs=qdr:h&sa=X&ved=0ahUKEwjFysu4o5LxAhWbHzQIHbw5CV4QpwUIDw',\n",
              "  '/search?q=yahoo+finance+DOGE&ie=UTF-8&tbm=nws&source=lnt&tbs=qdr:d&sa=X&ved=0ahUKEwjFysu4o5LxAhWbHzQIHbw5CV4QpwUIEA',\n",
              "  '/search?q=yahoo+finance+DOGE&ie=UTF-8&tbm=nws&source=lnt&tbs=qdr:w&sa=X&ved=0ahUKEwjFysu4o5LxAhWbHzQIHbw5CV4QpwUIEQ',\n",
              "  '/search?q=yahoo+finance+DOGE&ie=UTF-8&tbm=nws&source=lnt&tbs=qdr:m&sa=X&ved=0ahUKEwjFysu4o5LxAhWbHzQIHbw5CV4QpwUIEg',\n",
              "  '/search?q=yahoo+finance+DOGE&ie=UTF-8&tbm=nws&source=lnt&tbs=qdr:y&sa=X&ved=0ahUKEwjFysu4o5LxAhWbHzQIHbw5CV4QpwUIEw',\n",
              "  '/search?q=yahoo+finance+DOGE&ie=UTF-8&tbm=nws&source=lnt&tbs=ar:1&sa=X&ved=0ahUKEwjFysu4o5LxAhWbHzQIHbw5CV4QpwUIFA',\n",
              "  '/search?q=yahoo+finance+DOGE&ie=UTF-8&tbm=nws&source=lnt&tbs=sbd:1&sa=X&ved=0ahUKEwjFysu4o5LxAhWbHzQIHbw5CV4QpwUIFg',\n",
              "  '/url?q=https://finance.yahoo.com/news/cryptocurrency-bitcoin-ethereum-dogecoin-basel-committee-regulation-080051879.html&sa=U&ved=2ahUKEwjFysu4o5LxAhWbHzQIHbw5CV4QxfQBMAB6BAgBEAE&usg=AOvVaw3LxEYgIH1o4pEg82MwCrhS',\n",
              "  '/url?q=https://finance.yahoo.com/news/cryptocurrency-bitcoin-ethereum-dogecoin-basel-committee-regulation-080051879.html&sa=U&ved=2ahUKEwjFysu4o5LxAhWbHzQIHbw5CV4Q0Y8FMAB6BAgBEAI&usg=AOvVaw1oEFm3eYEJAVaJwmgYS3YR',\n",
              "  '/url?q=https://finance.yahoo.com/news/dogecoin-popularity-still-worth-investment-110021113.html&sa=U&ved=2ahUKEwjFysu4o5LxAhWbHzQIHbw5CV4QxfQBMAF6BAgHEAE&usg=AOvVaw3p9ybXyH-ThKI2YKQmY70X',\n",
              "  '/url?q=https://finance.yahoo.com/news/dogecoin-popularity-still-worth-investment-110021113.html&sa=U&ved=2ahUKEwjFysu4o5LxAhWbHzQIHbw5CV4Q0Y8FMAF6BAgHEAI&usg=AOvVaw0ONWNH-DBA9x8WsLeTp1gJ',\n",
              "  '/url?q=https://finance.yahoo.com/news/dogecoin-daily-tech-analysis-june-004641031.html&sa=U&ved=2ahUKEwjFysu4o5LxAhWbHzQIHbw5CV4QxfQBMAJ6BAgJEAE&usg=AOvVaw1t5IjtO8XuzY7yDhz10hOp',\n",
              "  '/url?q=https://finance.yahoo.com/news/dogecoin-daily-tech-analysis-june-004641031.html&sa=U&ved=2ahUKEwjFysu4o5LxAhWbHzQIHbw5CV4Q0Y8FMAJ6BAgJEAI&usg=AOvVaw3LWDkelg-BqE7EKmVSDBe2',\n",
              "  '/url?q=https://finance.yahoo.com/news/dogecoin-follows-bitcoin-lead-flips-135422542.html&sa=U&ved=2ahUKEwjFysu4o5LxAhWbHzQIHbw5CV4QxfQBMAN6BAgIEAE&usg=AOvVaw0aRYZI9svlix4-TffB53i9',\n",
              "  '/url?q=https://finance.yahoo.com/news/dogecoin-follows-bitcoin-lead-flips-135422542.html&sa=U&ved=2ahUKEwjFysu4o5LxAhWbHzQIHbw5CV4Q0Y8FMAN6BAgIEAI&usg=AOvVaw2CxWSTcJJ6MN6coDaP5j8W',\n",
              "  '/url?q=https://finance.yahoo.com/news/dogecoin-doge-available-itrustcapital-crypto-124859279.html&sa=U&ved=2ahUKEwjFysu4o5LxAhWbHzQIHbw5CV4QxfQBMAR6BAgFEAE&usg=AOvVaw3wDHFlnFvNVGP1wuD-cd_D',\n",
              "  '/url?q=https://finance.yahoo.com/news/dogecoin-doge-available-itrustcapital-crypto-124859279.html&sa=U&ved=2ahUKEwjFysu4o5LxAhWbHzQIHbw5CV4Q0Y8FMAR6BAgFEAI&usg=AOvVaw3zSHVa3FZTaJMB-Ow0j9mX',\n",
              "  '/url?q=https://finance.yahoo.com/news/meme-stock-frenzy-is-distracting-investors-from-huge-opportunities-datatrek-says-173646965.html&sa=U&ved=2ahUKEwjFysu4o5LxAhWbHzQIHbw5CV4QxfQBMAV6BAgGEAE&usg=AOvVaw16qeYVky9HsT5m9IbiTJUS',\n",
              "  '/url?q=https://finance.yahoo.com/news/meme-stock-frenzy-is-distracting-investors-from-huge-opportunities-datatrek-says-173646965.html&sa=U&ved=2ahUKEwjFysu4o5LxAhWbHzQIHbw5CV4Q0Y8FMAV6BAgGEAI&usg=AOvVaw01TYrLa59BnZCEZ2KO1xU2',\n",
              "  '/url?q=https://finance.yahoo.com/news/doge-price-finds-green-bitcoin-134109136.html&sa=U&ved=2ahUKEwjFysu4o5LxAhWbHzQIHbw5CV4QxfQBMAZ6BAgCEAE&usg=AOvVaw0ao8bsC6X83hPB2vK4mYi0',\n",
              "  '/url?q=https://finance.yahoo.com/news/doge-price-finds-green-bitcoin-134109136.html&sa=U&ved=2ahUKEwjFysu4o5LxAhWbHzQIHbw5CV4Q0Y8FMAZ6BAgCEAI&usg=AOvVaw1AjgYg0JvbH_IHyMPsBdo1',\n",
              "  '/url?q=https://finance.yahoo.com/news/dogecoin-bolstered-coinbase-addition-musk-070126645.html&sa=U&ved=2ahUKEwjFysu4o5LxAhWbHzQIHbw5CV4QxfQBMAd6BAgAEAE&usg=AOvVaw194xFj0HnfUSOy76NX7JrC',\n",
              "  '/url?q=https://finance.yahoo.com/news/dogecoin-bolstered-coinbase-addition-musk-070126645.html&sa=U&ved=2ahUKEwjFysu4o5LxAhWbHzQIHbw5CV4Q0Y8FMAd6BAgAEAI&usg=AOvVaw3tDqyHhiKQ4x4MAMvHmbdY',\n",
              "  '/url?q=https://finance.yahoo.com/news/amc-reddit-meme-stocks-blackberry-gamestop-nokia-vanda-track-retail-flows-peak-stock-price-085430511.html&sa=U&ved=2ahUKEwjFysu4o5LxAhWbHzQIHbw5CV4QxfQBMAh6BAgDEAE&usg=AOvVaw1muNNBK86FGsfm_eQ3rCFs',\n",
              "  '/url?q=https://finance.yahoo.com/news/amc-reddit-meme-stocks-blackberry-gamestop-nokia-vanda-track-retail-flows-peak-stock-price-085430511.html&sa=U&ved=2ahUKEwjFysu4o5LxAhWbHzQIHbw5CV4Q0Y8FMAh6BAgDEAI&usg=AOvVaw3zWtrSKFOvvOxBq5fNP-lc',\n",
              "  '/url?q=https://finance.yahoo.com/news/yahoo-finance-users-love-dogecoin-morning-brief-101645082.html&sa=U&ved=2ahUKEwjFysu4o5LxAhWbHzQIHbw5CV4QxfQBMAl6BAgEEAE&usg=AOvVaw1Vo2ruWcG2PZRTkCxP9qcQ',\n",
              "  '/url?q=https://finance.yahoo.com/news/yahoo-finance-users-love-dogecoin-morning-brief-101645082.html&sa=U&ved=2ahUKEwjFysu4o5LxAhWbHzQIHbw5CV4Q0Y8FMAl6BAgEEAI&usg=AOvVaw2PZ6b7x9O1EbjuNpq456ND',\n",
              "  '/search?q=yahoo+finance+DOGE&ie=UTF-8&tbm=nws&ei=z8DEYIWnMZu_0PEPvPOk8AU&start=10&sa=N',\n",
              "  '/url?q=https://support.google.com/websearch%3Fp%3Dws_settings_location%26hl%3Den&sa=U&ved=0ahUKEwjFysu4o5LxAhWbHzQIHbw5CV4Qty4IVQ&usg=AOvVaw3Qx5wUi4Zcq9ttyC6TIAYG',\n",
              "  '/url?q=https://accounts.google.com/ServiceLogin%3Fcontinue%3Dhttps://www.google.com/search%253Fq%253Dyahoo%252Bfinance%252BDOGE%2526tbm%253Dnws%26hl%3Den&sa=U&ved=0ahUKEwjFysu4o5LxAhWbHzQIHbw5CV4Qxs8CCFY&usg=AOvVaw0rG1YcSSW4shpxLhqif1YL',\n",
              "  'https://www.google.com/preferences?hl=en&fg=1&sa=X&ved=0ahUKEwjFysu4o5LxAhWbHzQIHbw5CV4Q5fUCCFc',\n",
              "  'https://policies.google.com/privacy?hl=en&fg=1',\n",
              "  'https://policies.google.com/terms?hl=en&fg=1'],\n",
              " 'TSLA': ['/?sa=X&ved=0ahUKEwiovua4o5LxAhXFITQIHbA8Aj4QOwgC',\n",
              "  '/?output=search&ie=UTF-8&tbm=nws&sa=X&ved=0ahUKEwiovua4o5LxAhXFITQIHbA8Aj4QPAgE',\n",
              "  '/search?q=yahoo+finance+TSLA&tbm=nws&ie=UTF-8&gbv=1&sei=0MDEYKiWD8XD0PEPsPmI8AM',\n",
              "  '/search?q=yahoo+finance+TSLA&ie=UTF-8&source=lnms&sa=X&ved=0ahUKEwiovua4o5LxAhXFITQIHbA8Aj4Q_AUIBygA',\n",
              "  '/search?q=yahoo+finance+TSLA&ie=UTF-8&tbm=bks&source=lnms&sa=X&ved=0ahUKEwiovua4o5LxAhXFITQIHbA8Aj4Q_AUICSgC',\n",
              "  '/search?q=yahoo+finance+TSLA&ie=UTF-8&tbm=shop&source=lnms&sa=X&ved=0ahUKEwiovua4o5LxAhXFITQIHbA8Aj4Q_AUICigD',\n",
              "  '/search?q=yahoo+finance+TSLA&ie=UTF-8&tbm=isch&source=lnms&sa=X&ved=0ahUKEwiovua4o5LxAhXFITQIHbA8Aj4Q_AUICygE',\n",
              "  'https://maps.google.com/maps?q=yahoo+finance+TSLA&um=1&ie=UTF-8&sa=X&ved=0ahUKEwiovua4o5LxAhXFITQIHbA8Aj4Q_AUIDCgF',\n",
              "  '/search?q=yahoo+finance+TSLA&ie=UTF-8&tbm=vid&source=lnms&sa=X&ved=0ahUKEwiovua4o5LxAhXFITQIHbA8Aj4Q_AUIDSgG',\n",
              "  '/advanced_search',\n",
              "  '/search?q=yahoo+finance+TSLA&ie=UTF-8&tbm=nws&source=lnt&tbs=qdr:h&sa=X&ved=0ahUKEwiovua4o5LxAhXFITQIHbA8Aj4QpwUIDw',\n",
              "  '/search?q=yahoo+finance+TSLA&ie=UTF-8&tbm=nws&source=lnt&tbs=qdr:d&sa=X&ved=0ahUKEwiovua4o5LxAhXFITQIHbA8Aj4QpwUIEA',\n",
              "  '/search?q=yahoo+finance+TSLA&ie=UTF-8&tbm=nws&source=lnt&tbs=qdr:w&sa=X&ved=0ahUKEwiovua4o5LxAhXFITQIHbA8Aj4QpwUIEQ',\n",
              "  '/search?q=yahoo+finance+TSLA&ie=UTF-8&tbm=nws&source=lnt&tbs=qdr:m&sa=X&ved=0ahUKEwiovua4o5LxAhXFITQIHbA8Aj4QpwUIEg',\n",
              "  '/search?q=yahoo+finance+TSLA&ie=UTF-8&tbm=nws&source=lnt&tbs=qdr:y&sa=X&ved=0ahUKEwiovua4o5LxAhXFITQIHbA8Aj4QpwUIEw',\n",
              "  '/search?q=yahoo+finance+TSLA&ie=UTF-8&tbm=nws&source=lnt&tbs=ar:1&sa=X&ved=0ahUKEwiovua4o5LxAhXFITQIHbA8Aj4QpwUIFA',\n",
              "  '/search?q=yahoo+finance+TSLA&ie=UTF-8&tbm=nws&source=lnt&tbs=sbd:1&sa=X&ved=0ahUKEwiovua4o5LxAhXFITQIHbA8Aj4QpwUIFg',\n",
              "  '/url?q=https://finance.yahoo.com/video/gravity-brings-tesla-yellow-taxis-131657644.html&sa=U&ved=2ahUKEwiovua4o5LxAhXFITQIHbA8Aj4QxfQBMAB6BAgGEAE&usg=AOvVaw3Cio6iWOM_Ft6z_1qcgGK1',\n",
              "  '/url?q=https://finance.yahoo.com/video/gravity-brings-tesla-yellow-taxis-131657644.html&sa=U&ved=2ahUKEwiovua4o5LxAhXFITQIHbA8Aj4Q0Y8FMAB6BAgGEAI&usg=AOvVaw2sO8W6fLLORG8kgxhustLk',\n",
              "  '/url?q=https://finance.yahoo.com/news/elon-musks-china-nemesis-survived-063010688.html&sa=U&ved=2ahUKEwiovua4o5LxAhXFITQIHbA8Aj4QxfQBMAF6BAgJEAE&usg=AOvVaw2zrp31nIsUyQRpPIVmqLI0',\n",
              "  '/url?q=https://finance.yahoo.com/news/elon-musks-china-nemesis-survived-063010688.html&sa=U&ved=2ahUKEwiovua4o5LxAhXFITQIHbA8Aj4Q0Y8FMAF6BAgJEAI&usg=AOvVaw3nQEHki17Z7kjdCNXtiKJy',\n",
              "  '/url?q=https://finance.yahoo.com/news/california-startup-now-offers-full-154803601.html&sa=U&ved=2ahUKEwiovua4o5LxAhXFITQIHbA8Aj4QxfQBMAJ6BAgHEAE&usg=AOvVaw3eJT1-ZyDEMmYlY3BnsnIZ',\n",
              "  '/url?q=https://finance.yahoo.com/news/california-startup-now-offers-full-154803601.html&sa=U&ved=2ahUKEwiovua4o5LxAhXFITQIHbA8Aj4Q0Y8FMAJ6BAgHEAI&usg=AOvVaw3WmPauwbONruYm0k1Uc_72',\n",
              "  '/url?q=https://finance.yahoo.com/news/tesla-could-geared-upside-135916325.html&sa=U&ved=2ahUKEwiovua4o5LxAhXFITQIHbA8Aj4QxfQBMAN6BAgIEAE&usg=AOvVaw1vwGOcXfgvShiA07n8fkjP',\n",
              "  '/url?q=https://finance.yahoo.com/news/tesla-could-geared-upside-135916325.html&sa=U&ved=2ahUKEwiovua4o5LxAhXFITQIHbA8Aj4Q0Y8FMAN6BAgIEAI&usg=AOvVaw20EjipDe7JtPVWEGYOicgL',\n",
              "  '/url?q=https://finance.yahoo.com/news/tesla-battery-supplier-jumps-record-065416370.html&sa=U&ved=2ahUKEwiovua4o5LxAhXFITQIHbA8Aj4QxfQBMAR6BAgDEAE&usg=AOvVaw2NZQCZ9xSb8q1cC3sQN0J9',\n",
              "  '/url?q=https://finance.yahoo.com/news/tesla-battery-supplier-jumps-record-065416370.html&sa=U&ved=2ahUKEwiovua4o5LxAhXFITQIHbA8Aj4Q0Y8FMAR6BAgDEAI&usg=AOvVaw3BjXEMW1E2KyjaAb63tfC7',\n",
              "  '/url?q=https://finance.yahoo.com/news/telsa-executive-top-musk-lieutenant-225536969.html&sa=U&ved=2ahUKEwiovua4o5LxAhXFITQIHbA8Aj4QxfQBMAV6BAgAEAE&usg=AOvVaw1ytlEm_OASfoQqRtwghePc',\n",
              "  '/url?q=https://finance.yahoo.com/news/telsa-executive-top-musk-lieutenant-225536969.html&sa=U&ved=2ahUKEwiovua4o5LxAhXFITQIHbA8Aj4Q0Y8FMAV6BAgAEAI&usg=AOvVaw0ddSRfpBLEHoOz3DK5DU2O',\n",
              "  '/url?q=https://finance.yahoo.com/video/tesla-china-deliveries-surge-29-133917490.html&sa=U&ved=2ahUKEwiovua4o5LxAhXFITQIHbA8Aj4QxfQBMAZ6BAgCEAE&usg=AOvVaw040Gc66XU-KG920mQB91eV',\n",
              "  '/url?q=https://finance.yahoo.com/video/tesla-china-deliveries-surge-29-133917490.html&sa=U&ved=2ahUKEwiovua4o5LxAhXFITQIHbA8Aj4Q0Y8FMAZ6BAgCEAI&usg=AOvVaw0pg4ZTTznCRKSDgly85KqX',\n",
              "  '/url?q=https://finance.yahoo.com/news/tesla-tsla-pulls-plug-model-130501352.html&sa=U&ved=2ahUKEwiovua4o5LxAhXFITQIHbA8Aj4QxfQBMAd6BAgEEAE&usg=AOvVaw1QbFkoFV8CB_Eo5DdLM45L',\n",
              "  '/url?q=https://finance.yahoo.com/news/tesla-tsla-pulls-plug-model-130501352.html&sa=U&ved=2ahUKEwiovua4o5LxAhXFITQIHbA8Aj4Q0Y8FMAd6BAgEEAI&usg=AOvVaw3OfbIo1fQFMj7Z1FizpmWo',\n",
              "  '/url?q=https://finance.yahoo.com/news/1-tesla-veteran-trucking-chief-002022879.html&sa=U&ved=2ahUKEwiovua4o5LxAhXFITQIHbA8Aj4QxfQBMAh6BAgBEAE&usg=AOvVaw3UMle--OCZnW9ItLrQys7w',\n",
              "  '/url?q=https://finance.yahoo.com/news/1-tesla-veteran-trucking-chief-002022879.html&sa=U&ved=2ahUKEwiovua4o5LxAhXFITQIHbA8Aj4Q0Y8FMAh6BAgBEAI&usg=AOvVaw1tiuZW6A7QCZaS8ulqqHqr',\n",
              "  '/url?q=https://finance.yahoo.com/news/teslas-heavy-trucking-unit-chief-220647362.html&sa=U&ved=2ahUKEwiovua4o5LxAhXFITQIHbA8Aj4QxfQBMAl6BAgFEAE&usg=AOvVaw0In7QO2UKaVaeMg9Sv_ORw',\n",
              "  '/url?q=https://finance.yahoo.com/news/teslas-heavy-trucking-unit-chief-220647362.html&sa=U&ved=2ahUKEwiovua4o5LxAhXFITQIHbA8Aj4Q0Y8FMAl6BAgFEAI&usg=AOvVaw15qOqeyON4eFYckS46JhfB',\n",
              "  '/search?q=yahoo+finance+TSLA&ie=UTF-8&tbm=nws&ei=0MDEYKiWD8XD0PEPsPmI8AM&start=10&sa=N',\n",
              "  '/url?q=https://support.google.com/websearch%3Fp%3Dws_settings_location%26hl%3Den&sa=U&ved=0ahUKEwiovua4o5LxAhXFITQIHbA8Aj4Qty4IVQ&usg=AOvVaw0TWlFJToncJhG5T0JGBf_8',\n",
              "  '/url?q=https://accounts.google.com/ServiceLogin%3Fcontinue%3Dhttps://www.google.com/search%253Fq%253Dyahoo%252Bfinance%252BTSLA%2526tbm%253Dnws%26hl%3Den&sa=U&ved=0ahUKEwiovua4o5LxAhXFITQIHbA8Aj4Qxs8CCFY&usg=AOvVaw2KGikIrvSG_uwVE366dR6b',\n",
              "  'https://www.google.com/preferences?hl=en&fg=1&sa=X&ved=0ahUKEwiovua4o5LxAhXFITQIHbA8Aj4Q5fUCCFc',\n",
              "  'https://policies.google.com/privacy?hl=en&fg=1',\n",
              "  'https://policies.google.com/terms?hl=en&fg=1']}"
            ]
          },
          "metadata": {
            "tags": []
          },
          "execution_count": 14
        }
      ]
    },
    {
      "cell_type": "code",
      "metadata": {
        "colab": {
          "base_uri": "https://localhost:8080/"
        },
        "collapsed": true,
        "id": "OMuX0GjSq4cy",
        "outputId": "7b8652d5-aad0-41fd-e915-a93e1f026eb8"
      },
      "source": [
        "raw_urls['DOGE']"
      ],
      "execution_count": 15,
      "outputs": [
        {
          "output_type": "execute_result",
          "data": {
            "text/plain": [
              "['/?sa=X&ved=0ahUKEwjFysu4o5LxAhWbHzQIHbw5CV4QOwgC',\n",
              " '/?output=search&ie=UTF-8&tbm=nws&sa=X&ved=0ahUKEwjFysu4o5LxAhWbHzQIHbw5CV4QPAgE',\n",
              " '/search?q=yahoo+finance+DOGE&tbm=nws&ie=UTF-8&gbv=1&sei=z8DEYIWnMZu_0PEPvPOk8AU',\n",
              " '/search?q=yahoo+finance+DOGE&ie=UTF-8&source=lnms&sa=X&ved=0ahUKEwjFysu4o5LxAhWbHzQIHbw5CV4Q_AUIBygA',\n",
              " '/search?q=yahoo+finance+DOGE&ie=UTF-8&tbm=shop&source=lnms&sa=X&ved=0ahUKEwjFysu4o5LxAhWbHzQIHbw5CV4Q_AUICSgC',\n",
              " '/search?q=yahoo+finance+DOGE&ie=UTF-8&tbm=vid&source=lnms&sa=X&ved=0ahUKEwjFysu4o5LxAhWbHzQIHbw5CV4Q_AUICigD',\n",
              " '/search?q=yahoo+finance+DOGE&ie=UTF-8&tbm=isch&source=lnms&sa=X&ved=0ahUKEwjFysu4o5LxAhWbHzQIHbw5CV4Q_AUICygE',\n",
              " 'https://maps.google.com/maps?q=yahoo+finance+DOGE&um=1&ie=UTF-8&sa=X&ved=0ahUKEwjFysu4o5LxAhWbHzQIHbw5CV4Q_AUIDCgF',\n",
              " '/search?q=yahoo+finance+DOGE&ie=UTF-8&tbm=bks&source=lnms&sa=X&ved=0ahUKEwjFysu4o5LxAhWbHzQIHbw5CV4Q_AUIDSgG',\n",
              " '/advanced_search',\n",
              " '/search?q=yahoo+finance+DOGE&ie=UTF-8&tbm=nws&source=lnt&tbs=qdr:h&sa=X&ved=0ahUKEwjFysu4o5LxAhWbHzQIHbw5CV4QpwUIDw',\n",
              " '/search?q=yahoo+finance+DOGE&ie=UTF-8&tbm=nws&source=lnt&tbs=qdr:d&sa=X&ved=0ahUKEwjFysu4o5LxAhWbHzQIHbw5CV4QpwUIEA',\n",
              " '/search?q=yahoo+finance+DOGE&ie=UTF-8&tbm=nws&source=lnt&tbs=qdr:w&sa=X&ved=0ahUKEwjFysu4o5LxAhWbHzQIHbw5CV4QpwUIEQ',\n",
              " '/search?q=yahoo+finance+DOGE&ie=UTF-8&tbm=nws&source=lnt&tbs=qdr:m&sa=X&ved=0ahUKEwjFysu4o5LxAhWbHzQIHbw5CV4QpwUIEg',\n",
              " '/search?q=yahoo+finance+DOGE&ie=UTF-8&tbm=nws&source=lnt&tbs=qdr:y&sa=X&ved=0ahUKEwjFysu4o5LxAhWbHzQIHbw5CV4QpwUIEw',\n",
              " '/search?q=yahoo+finance+DOGE&ie=UTF-8&tbm=nws&source=lnt&tbs=ar:1&sa=X&ved=0ahUKEwjFysu4o5LxAhWbHzQIHbw5CV4QpwUIFA',\n",
              " '/search?q=yahoo+finance+DOGE&ie=UTF-8&tbm=nws&source=lnt&tbs=sbd:1&sa=X&ved=0ahUKEwjFysu4o5LxAhWbHzQIHbw5CV4QpwUIFg',\n",
              " '/url?q=https://finance.yahoo.com/news/cryptocurrency-bitcoin-ethereum-dogecoin-basel-committee-regulation-080051879.html&sa=U&ved=2ahUKEwjFysu4o5LxAhWbHzQIHbw5CV4QxfQBMAB6BAgBEAE&usg=AOvVaw3LxEYgIH1o4pEg82MwCrhS',\n",
              " '/url?q=https://finance.yahoo.com/news/cryptocurrency-bitcoin-ethereum-dogecoin-basel-committee-regulation-080051879.html&sa=U&ved=2ahUKEwjFysu4o5LxAhWbHzQIHbw5CV4Q0Y8FMAB6BAgBEAI&usg=AOvVaw1oEFm3eYEJAVaJwmgYS3YR',\n",
              " '/url?q=https://finance.yahoo.com/news/dogecoin-popularity-still-worth-investment-110021113.html&sa=U&ved=2ahUKEwjFysu4o5LxAhWbHzQIHbw5CV4QxfQBMAF6BAgHEAE&usg=AOvVaw3p9ybXyH-ThKI2YKQmY70X',\n",
              " '/url?q=https://finance.yahoo.com/news/dogecoin-popularity-still-worth-investment-110021113.html&sa=U&ved=2ahUKEwjFysu4o5LxAhWbHzQIHbw5CV4Q0Y8FMAF6BAgHEAI&usg=AOvVaw0ONWNH-DBA9x8WsLeTp1gJ',\n",
              " '/url?q=https://finance.yahoo.com/news/dogecoin-daily-tech-analysis-june-004641031.html&sa=U&ved=2ahUKEwjFysu4o5LxAhWbHzQIHbw5CV4QxfQBMAJ6BAgJEAE&usg=AOvVaw1t5IjtO8XuzY7yDhz10hOp',\n",
              " '/url?q=https://finance.yahoo.com/news/dogecoin-daily-tech-analysis-june-004641031.html&sa=U&ved=2ahUKEwjFysu4o5LxAhWbHzQIHbw5CV4Q0Y8FMAJ6BAgJEAI&usg=AOvVaw3LWDkelg-BqE7EKmVSDBe2',\n",
              " '/url?q=https://finance.yahoo.com/news/dogecoin-follows-bitcoin-lead-flips-135422542.html&sa=U&ved=2ahUKEwjFysu4o5LxAhWbHzQIHbw5CV4QxfQBMAN6BAgIEAE&usg=AOvVaw0aRYZI9svlix4-TffB53i9',\n",
              " '/url?q=https://finance.yahoo.com/news/dogecoin-follows-bitcoin-lead-flips-135422542.html&sa=U&ved=2ahUKEwjFysu4o5LxAhWbHzQIHbw5CV4Q0Y8FMAN6BAgIEAI&usg=AOvVaw2CxWSTcJJ6MN6coDaP5j8W',\n",
              " '/url?q=https://finance.yahoo.com/news/dogecoin-doge-available-itrustcapital-crypto-124859279.html&sa=U&ved=2ahUKEwjFysu4o5LxAhWbHzQIHbw5CV4QxfQBMAR6BAgFEAE&usg=AOvVaw3wDHFlnFvNVGP1wuD-cd_D',\n",
              " '/url?q=https://finance.yahoo.com/news/dogecoin-doge-available-itrustcapital-crypto-124859279.html&sa=U&ved=2ahUKEwjFysu4o5LxAhWbHzQIHbw5CV4Q0Y8FMAR6BAgFEAI&usg=AOvVaw3zSHVa3FZTaJMB-Ow0j9mX',\n",
              " '/url?q=https://finance.yahoo.com/news/meme-stock-frenzy-is-distracting-investors-from-huge-opportunities-datatrek-says-173646965.html&sa=U&ved=2ahUKEwjFysu4o5LxAhWbHzQIHbw5CV4QxfQBMAV6BAgGEAE&usg=AOvVaw16qeYVky9HsT5m9IbiTJUS',\n",
              " '/url?q=https://finance.yahoo.com/news/meme-stock-frenzy-is-distracting-investors-from-huge-opportunities-datatrek-says-173646965.html&sa=U&ved=2ahUKEwjFysu4o5LxAhWbHzQIHbw5CV4Q0Y8FMAV6BAgGEAI&usg=AOvVaw01TYrLa59BnZCEZ2KO1xU2',\n",
              " '/url?q=https://finance.yahoo.com/news/doge-price-finds-green-bitcoin-134109136.html&sa=U&ved=2ahUKEwjFysu4o5LxAhWbHzQIHbw5CV4QxfQBMAZ6BAgCEAE&usg=AOvVaw0ao8bsC6X83hPB2vK4mYi0',\n",
              " '/url?q=https://finance.yahoo.com/news/doge-price-finds-green-bitcoin-134109136.html&sa=U&ved=2ahUKEwjFysu4o5LxAhWbHzQIHbw5CV4Q0Y8FMAZ6BAgCEAI&usg=AOvVaw1AjgYg0JvbH_IHyMPsBdo1',\n",
              " '/url?q=https://finance.yahoo.com/news/dogecoin-bolstered-coinbase-addition-musk-070126645.html&sa=U&ved=2ahUKEwjFysu4o5LxAhWbHzQIHbw5CV4QxfQBMAd6BAgAEAE&usg=AOvVaw194xFj0HnfUSOy76NX7JrC',\n",
              " '/url?q=https://finance.yahoo.com/news/dogecoin-bolstered-coinbase-addition-musk-070126645.html&sa=U&ved=2ahUKEwjFysu4o5LxAhWbHzQIHbw5CV4Q0Y8FMAd6BAgAEAI&usg=AOvVaw3tDqyHhiKQ4x4MAMvHmbdY',\n",
              " '/url?q=https://finance.yahoo.com/news/amc-reddit-meme-stocks-blackberry-gamestop-nokia-vanda-track-retail-flows-peak-stock-price-085430511.html&sa=U&ved=2ahUKEwjFysu4o5LxAhWbHzQIHbw5CV4QxfQBMAh6BAgDEAE&usg=AOvVaw1muNNBK86FGsfm_eQ3rCFs',\n",
              " '/url?q=https://finance.yahoo.com/news/amc-reddit-meme-stocks-blackberry-gamestop-nokia-vanda-track-retail-flows-peak-stock-price-085430511.html&sa=U&ved=2ahUKEwjFysu4o5LxAhWbHzQIHbw5CV4Q0Y8FMAh6BAgDEAI&usg=AOvVaw3zWtrSKFOvvOxBq5fNP-lc',\n",
              " '/url?q=https://finance.yahoo.com/news/yahoo-finance-users-love-dogecoin-morning-brief-101645082.html&sa=U&ved=2ahUKEwjFysu4o5LxAhWbHzQIHbw5CV4QxfQBMAl6BAgEEAE&usg=AOvVaw1Vo2ruWcG2PZRTkCxP9qcQ',\n",
              " '/url?q=https://finance.yahoo.com/news/yahoo-finance-users-love-dogecoin-morning-brief-101645082.html&sa=U&ved=2ahUKEwjFysu4o5LxAhWbHzQIHbw5CV4Q0Y8FMAl6BAgEEAI&usg=AOvVaw2PZ6b7x9O1EbjuNpq456ND',\n",
              " '/search?q=yahoo+finance+DOGE&ie=UTF-8&tbm=nws&ei=z8DEYIWnMZu_0PEPvPOk8AU&start=10&sa=N',\n",
              " '/url?q=https://support.google.com/websearch%3Fp%3Dws_settings_location%26hl%3Den&sa=U&ved=0ahUKEwjFysu4o5LxAhWbHzQIHbw5CV4Qty4IVQ&usg=AOvVaw3Qx5wUi4Zcq9ttyC6TIAYG',\n",
              " '/url?q=https://accounts.google.com/ServiceLogin%3Fcontinue%3Dhttps://www.google.com/search%253Fq%253Dyahoo%252Bfinance%252BDOGE%2526tbm%253Dnws%26hl%3Den&sa=U&ved=0ahUKEwjFysu4o5LxAhWbHzQIHbw5CV4Qxs8CCFY&usg=AOvVaw0rG1YcSSW4shpxLhqif1YL',\n",
              " 'https://www.google.com/preferences?hl=en&fg=1&sa=X&ved=0ahUKEwjFysu4o5LxAhWbHzQIHbw5CV4Q5fUCCFc',\n",
              " 'https://policies.google.com/privacy?hl=en&fg=1',\n",
              " 'https://policies.google.com/terms?hl=en&fg=1']"
            ]
          },
          "metadata": {
            "tags": []
          },
          "execution_count": 15
        }
      ]
    },
    {
      "cell_type": "markdown",
      "metadata": {
        "id": "ez7B3xmAq4cy"
      },
      "source": [
        "## 4.2. Strip out unwanted URLs"
      ]
    },
    {
      "cell_type": "code",
      "metadata": {
        "id": "T2UfyqJcq4cy"
      },
      "source": [
        "import re"
      ],
      "execution_count": 16,
      "outputs": []
    },
    {
      "cell_type": "code",
      "metadata": {
        "id": "p9EKdAWvq4cz"
      },
      "source": [
        "exclude_list = ['maps', 'policies', 'preferences', 'accounts', 'support']"
      ],
      "execution_count": 17,
      "outputs": []
    },
    {
      "cell_type": "code",
      "metadata": {
        "id": "os9oXW2Zq4cz"
      },
      "source": [
        "def strip_unwanted_urls(urls, exclude_list):\n",
        "    val = []\n",
        "    for url in urls: \n",
        "        if 'https://' in url and not any(exclude_word in url for exclude_word in exclude_list):\n",
        "            res = re.findall(r'(https?://\\S+)', url)[0].split('&')[0]\n",
        "            val.append(res)\n",
        "    return list(set(val))"
      ],
      "execution_count": 18,
      "outputs": []
    },
    {
      "cell_type": "code",
      "metadata": {
        "colab": {
          "base_uri": "https://localhost:8080/"
        },
        "collapsed": true,
        "id": "qH7JS0zcq4cz",
        "outputId": "464d1055-7fcf-4517-b152-40772dc9c466"
      },
      "source": [
        "cleaned_urls = {ticker:strip_unwanted_urls(raw_urls[ticker], exclude_list) for ticker in monitored_tickers}\n",
        "cleaned_urls"
      ],
      "execution_count": 19,
      "outputs": [
        {
          "output_type": "execute_result",
          "data": {
            "text/plain": [
              "{'BTC': ['https://finance.yahoo.com/news/bitcoin-is-bad-for-crime-says-crypto-asset-manager-210045513.html',\n",
              "  'https://finance.yahoo.com/news/using-macd-analyze-btc-price-111400297.html',\n",
              "  'https://finance.yahoo.com/video/although-bitcoin-very-volatile-only-204141433.html',\n",
              "  'https://finance.yahoo.com/news/chinas-cryptocurrency-mining-crackdown-spreads-091422332.html',\n",
              "  'https://finance.yahoo.com/news/south-koreans-pay-bitcoin-stacks-222632410.html',\n",
              "  'https://finance.yahoo.com/news/wannabe-bitcoin-etfs-mushrooming-getting-130000561.html',\n",
              "  'https://finance.yahoo.com/news/locked-bitcoin-taproot-upgrade-gets-120837972.html',\n",
              "  'https://finance.yahoo.com/news/betting-markets-see-more-pain-for-bitcoin-investors-bet-on-drop-to-10-k-oddsmakers-142311201.html',\n",
              "  'https://finance.yahoo.com/news/jpmorgan-predicts-bitcoin-2021-slide-101400075.html',\n",
              "  'https://finance.yahoo.com/news/bitcoin-200k-end-crypto-options-144311059.html'],\n",
              " 'DOGE': ['https://finance.yahoo.com/news/dogecoin-follows-bitcoin-lead-flips-135422542.html',\n",
              "  'https://finance.yahoo.com/news/yahoo-finance-users-love-dogecoin-morning-brief-101645082.html',\n",
              "  'https://finance.yahoo.com/news/dogecoin-bolstered-coinbase-addition-musk-070126645.html',\n",
              "  'https://finance.yahoo.com/news/doge-price-finds-green-bitcoin-134109136.html',\n",
              "  'https://finance.yahoo.com/news/meme-stock-frenzy-is-distracting-investors-from-huge-opportunities-datatrek-says-173646965.html',\n",
              "  'https://finance.yahoo.com/news/dogecoin-daily-tech-analysis-june-004641031.html',\n",
              "  'https://finance.yahoo.com/news/amc-reddit-meme-stocks-blackberry-gamestop-nokia-vanda-track-retail-flows-peak-stock-price-085430511.html',\n",
              "  'https://finance.yahoo.com/news/dogecoin-doge-available-itrustcapital-crypto-124859279.html',\n",
              "  'https://finance.yahoo.com/news/dogecoin-popularity-still-worth-investment-110021113.html',\n",
              "  'https://finance.yahoo.com/news/cryptocurrency-bitcoin-ethereum-dogecoin-basel-committee-regulation-080051879.html'],\n",
              " 'TSLA': ['https://finance.yahoo.com/news/tesla-could-geared-upside-135916325.html',\n",
              "  'https://finance.yahoo.com/news/telsa-executive-top-musk-lieutenant-225536969.html',\n",
              "  'https://finance.yahoo.com/news/tesla-battery-supplier-jumps-record-065416370.html',\n",
              "  'https://finance.yahoo.com/video/tesla-china-deliveries-surge-29-133917490.html',\n",
              "  'https://finance.yahoo.com/news/elon-musks-china-nemesis-survived-063010688.html',\n",
              "  'https://finance.yahoo.com/video/gravity-brings-tesla-yellow-taxis-131657644.html',\n",
              "  'https://finance.yahoo.com/news/1-tesla-veteran-trucking-chief-002022879.html',\n",
              "  'https://finance.yahoo.com/news/teslas-heavy-trucking-unit-chief-220647362.html',\n",
              "  'https://finance.yahoo.com/news/tesla-tsla-pulls-plug-model-130501352.html',\n",
              "  'https://finance.yahoo.com/news/california-startup-now-offers-full-154803601.html']}"
            ]
          },
          "metadata": {
            "tags": []
          },
          "execution_count": 19
        }
      ]
    },
    {
      "cell_type": "markdown",
      "metadata": {
        "id": "iAscCbEUq4cz"
      },
      "source": [
        "## 4.3. Search and Scrape Cleaned URLs"
      ]
    },
    {
      "cell_type": "code",
      "metadata": {
        "id": "lD2FFhcgq4c0"
      },
      "source": [
        "def scrape_and_process(URLs):\n",
        "    ARTICLES = []\n",
        "    for url in URLs: \n",
        "        r = requests.get(url)\n",
        "        soup = BeautifulSoup(r.text, 'html.parser')\n",
        "        paragraphs = soup.find_all('p')\n",
        "        text = [paragraph.text for paragraph in paragraphs]\n",
        "        words = ' '.join(text).split(' ')[:350]\n",
        "        ARTICLE = ' '.join(words)\n",
        "        ARTICLES.append(ARTICLE)\n",
        "    return ARTICLES"
      ],
      "execution_count": 20,
      "outputs": []
    },
    {
      "cell_type": "code",
      "metadata": {
        "colab": {
          "base_uri": "https://localhost:8080/"
        },
        "id": "GZXFFTqaq4c0",
        "outputId": "3a2784ff-b633-4b14-f795-cd582f5b0ff0"
      },
      "source": [
        "articles = {ticker:scrape_and_process(cleaned_urls[ticker]) for ticker in monitored_tickers}\n",
        "articles"
      ],
      "execution_count": 21,
      "outputs": [
        {
          "output_type": "execute_result",
          "data": {
            "text/plain": [
              "{'BTC': ['The Justice Department was recently able to recover $2.3 million worth of bitcoin (BTC-USD) extorted from Colonial Pipeline, suggesting that digital currency may not always be the best tool for criminals. “It’s not intuitive to a lot of people, but it\\'s a thing that the public is learning more and more,” Hunter Horsley, cofounder and CEO for Bitwise Asset Management, said about the rise in recovery of stolen cryptocurrency, such as part of the bitcoin ransom paid by Colonial Pipeline to cyberhackers. Put simply, he said, \"Bitcoin is bad for crime.\" Speaking to Yahoo Finance Live this week, Horsley pointed to data from U.S. cybersecurity analysis firm Chainalysis, which shows a downward trend in the use of cryptocurrencies by cybercriminals. “In fact, between 2019 and 2020, the occurrence of crypto use in those scenarios is down about 80%,” he said. “So I think that criminals are getting smarter that crypto is a pretty poor tool for them, and with Colonial we saw that in full force.” In prior years, cryptocurrency theft had been ballooning. In the first half of 2018, CipherTrace, a firm that aids financial institutions and cryptocurrency exchanges to combat money laundering, reported that $761 million worth of cryptocurrency was stolen from exchanges, representing a 300% increase year over year. Fast forward to 2021 and the landscape is changing, Pamela Clegg, VP of Financial Investigations and Education at CipherTrace, told Yahoo Finance. Still, she said, not every crypto transaction is equally transparent.\\xa0\\xa0\\xa0 \"Law enforcement is honing their investigative skills, and that is very clear from reading the FBI agent\\'s affidavit filed with the District Court to obtain the search warrant,\" Clegg said.\\xa0 The hack on Colonial Pipeline last month cut off fuel supplies along the East Coast, leading to panic buying and price surges. Testifying before Congress this week, Colonial CEO Joseph Blount said paying the $4.4 million in ransom was the toughest decision he\\'d made in his career. In announcing the return of a portion of that ransom to Colonial Pipeline, Justice Department officials said it wasn’t the first time they recuperated illegally obtained crypto funds. \"While',\n",
              "  'In this article, BeInCrypto will take a look at the previous times, in which the weekly MACD gave a bearish reversal signal, and analyze the effect it had on the bitcoin (BTC) price movement afterwards.  A bearish MACD reversal signal is created by consecutive lower momentum bars and a bearish weekly close. The first two such occurrences transpired in 2013 (red icons). The first one was in June 2013. It led to a 47% decrease in 28 days, after which the price began to increase, eventually reaching a new high. Interestingly, the MACD did not cross into negative territory. The second bearish reversal signal occurred in January 2014. The price decreased by 59.55% in 77 days, and began to move upwards afterwards. The bounce transpired right after the MACD crossed into negative territory. However, the bounce was short-lived and new lows were reached afterwards. Another bearish reversal signal was seen in February 2016. Despite this, BTC moved upwards immediately afterwards and reached new highs. This was the first case of a false signal, in which the reversal had no bearish effects on the price whatsoever. Afterwards, there was a bearish reversal signal in July 2016. BTC decreased by 27.11% in 13 days, but created a long lower wick and moved upwards, following it. The MACD did not cross into negative territory that time either. Therefore, the 2013 and 2016 movements have the same pattern, in which corrections last for a shorter period of time if the MACD does not cross into negative territory. Another bearish reversal signal transpired in January 2018. What ensued was a decrease of 56.38% in 21 days, followed by a strong bounce. Nevertheless, the MACD crossed into negative territory afterwards, leading to a long corrective period. This fits with the previously outlined pattern. On Sept. 3 of the same year, the signal line crossed negative, leading to a 98-day corrective period, in which BTC fell by 57%. The final bearish reversal signal prior to the current one transpired in August 2019. It initiated a 98-days corrective period, in which BTC deceased by 37.80%. It bounced',\n",
              "  \"Pantera Capital CEO & Co-Chief Investment Officer, Dan Morehead, joined Yahoo Finance Live to break down his thoughts on Bitcoin's volatility and why the upside may outweigh the risk. Colin Rusch, Oppenheimer Sr. Research Analyst, joined Yahoo Finance Live to break down why he believes Tesla's Model S Plaid is a 'major step forward' and how this leap will impact other EVs. The rise of private cryptocurrencies motivated the Fed to start considering a digital dollar to be used alongside the traditional paper currency. China's crackdown on cryptocurrencies has spread to the country's southwest with a campaign against misuse of electricity by bitcoin miners in Yunnan province, local media reported on Saturday.  In addition to concerns about the huge amounts of energy needed for the computing power to create cryptocurrencies, the central government is also concerned about speculation after a surge in the price of bitcoin.  China accounts for a over half of global bitcoin production, but some miners have been considering moving elsewhere after the State Council, China's cabinet, vowed to clamp down on bitcoin mining and trading last month. Taproot opens up new possibilities for privacy, multisignature wallets and security, as well as scaling. Representative Kevin Brady, the ranking member of the House Ways and Means Committee warns that making COVID-19 benefits part of the permanent federal budget will lead to a financial crisis. Tesla chief Elon Musk is conspicuously absent at the Bitcoin Mining Council spearheaded by Michael Saylor. A report by Forkast News appears to have been incorrect, a number of mining sources tell CoinDesk. A group of House lawmakers put forward a sweeping legislative package Friday that could curb the market power of Big Tech companies and force Facebook, Google, Amazon or Apple to sever their dominant platforms from their other lines of business.  The bipartisan proposals are the culmination of a 15-month investigation by the House Judiciary Committee’s antitrust subcommittee, led by Democratic Rep. David Cicilline of Rhode Island.  It concluded that the four tech giants have abused their market power by charging excessive fees, imposing tough contract terms and\",\n",
              "  \"SHANGHAI (Reuters) - China's crackdown on cryptocurrencies has spread to the country's southwest with a campaign against misuse of electricity by bitcoin miners in Yunnan province, local media reported on Saturday. In addition to concerns about the huge amounts of energy needed for the computing power to create cryptocurrencies, the central government is also concerned about speculation after a surge in the price of bitcoin. China accounts for a over half of global bitcoin production, but some miners have been considering moving elsewhere after the State Council, China's cabinet, vowed to clamp down on bitcoin mining and trading last month. The Energy Administration of Yunnan on Friday issued a notice ordering a probe into misappropriation and unauthorized use of electricity by bitcoin miners, vowing punishment, the Science and Technology Innovation Express News said. A copy of the notice, which sets an end-June deadline, was circulating on Chinese social media. Calls to the Energy Administration of Yunnan were not answered on Saturday. The probe in Yunnan, China's fourth-biggest bitcoin mining hub, follows restrictions in several other areas. The northwestern province of Qinghai and a district in neighbouring Xinjiang have ordered cryptocurrency mining projects to close. Inner Mongolia has unveiled measures to root out cryptomining, while Sichuan is probing the industry. An increasing number of Chinese crypto miners are considering folding the business in China, and moving offshore, said Lei Tong, managing director for financial services at Babel Finance, a Hong Kong-based crypto lender and asset manager. (Reporting by Samuel Shen and Emily Chow; Editing by William Mallard) The Group of Seven richest democracies on Saturday sought to counter China's growing influence by offering developing nations an infrastructure plan that would rival President Xi Jinping's multi-trillion-dollar Belt and Road initiative.  The G7, whose leaders are meeting in southwestern England and who discussed strategic competition with Beijing, has been searching for a coherent response to the growing assertiveness of Xi after China's surging economic and military rise over the past 40 years. The big takeaway from the past week in business news is that A) secretly released documents show that billionaires aren’t\",\n",
              "  'Stacks is partnering with South Korean e-commerce protocol Paycoin to support transactions with its currency STX. This integration means that merchants who accommodate Paycoin will soon accept STX and Bitcoin as methods of payment, the Stacks Foundation, which builds apps on top of the Bitcoin blockchain, announced. Businesses that accept Paycoin, such as Domino’s Pizza, KFC and 7-Eleven, will allow for customers to transact in these cryptocurrencies.\\xa0 There are 1 million users of the Paycoin application and 70,000 businesses that accept this cryptocurrency.\\xa0 Related: Locked In: Bitcoin&#8217;s Taproot Upgrade Gets Its 90% Mandate Users can hold STX and collect returns in Bitcoin within the application, Stacks said in its release. This encourages users to transact in STX in order to gain rewards in digital currency to continue spending in the app.\\xa0 The partnership of Paycoin and STX will allow for businesses and consumers to use cryptocurrency every day, according to the Paycoin Blog. All transactions will take place within the Paycoin application. This compartmentalized process allows for greater ease of digital currency transactions, which for some has hindered participation in blockchain technologies.\\xa0 Paycoin is a blockchain payment project with the goal of high efficiency transactions for businesses and consumers. It is a subsidiary of Danal Fintech, a South Korean company specializing in mobile commerce solutions.\\xa0 According to Mitchell Cuevas, head of growth at the Stacks Foundation, the integration will entice business owners to accept Paycoin because it will reduce “friction with the preloaded wallet.” He claims that there is a “gravitation towards holding money in a place to participate in the upside of assets,” such as bitcoin returns on STX holdings.\\xa0 Related: Market Wrap: Bitcoin Flat at $37K as Investors Tangle With Bulls and Bears When compared to South Korean stablecoin Terra, which has proved successful in the nation, STX and Paycoin are far more volatile. According to Cuevas, their respective usages depend on “the level to which the user is risk averse.”\\xa0 “Korea is one of the most heavily regulated crypto markets,” he said, and that substantial trust in coins is essential to the success of the integration. “What',\n",
              "  '(Bloomberg) -- With at least nine applications for Bitcoins ETFs collecting dust in the Securities and Exchange Commission’s in-box and clients baying to buy crypto funds, U.S. issuers in the $6.4 trillion industry are cobbling together a growing number of workarounds. A slate of companies are releasing or planning “Bitcoin adjacent” products that skirt U.S. regulators’ refusal to allow the largest cryptocurrency to be put in an exchange-traded fund wrapper. Invesco became the latest on Wednesday, announcing a pair of funds packed with crypto-linked equities. It’s the only way U.S. firms can cash in on the unrelenting clamor for digital coins, and it may stay that way for a while. The SEC has already delayed its decision to approve or deny a Bitcoin ETF once this year and is expected to punt again at its next deadline on June 17. “There’s clearly strong demand from investors for exposure to the price of Bitcoin, and ETF issuers are simply looking to meet that demand,” said Nate Geraci, president of the ETF Store, an advisory firm. “The SEC is essentially forcing ETF issuers into the laboratory to create these Frankenstein products.” The Frankenfunds’ creators are being rewarded for their efforts. For instance, the Bitwise Crypto Industry Innovators ETF (ticker BITQ) has already drawn about $45 million in assets less than a month after its launch. That fund holds crypto-heavy companies like MicroStrategy Inc., Coinbase Global Inc., and Galaxy Digital Holdings Ltd. Then there’s a slate of older products finding new life amid the coin craze. The Amplify Transformational Data Sharing ETF (BLOK), an actively-managed fund with stocks like MicroStrategy and PayPal Holdings Inc., attracted more than $711 million this year already, as its price has risen 30%. A peer fund called the First Trust Indxx Innovative Transaction & Process ETF (LEGR), which invests in companies using or developing blockchain technology, is on pace for its best year of inflows yet. “There is a high demand for a Bitcoin product that has all the features that people love about ETFs -- that they trade on an exchange, that they’re liquid,” said Ross Mayfield,',\n",
              "  'Taproot, the most significant improvement to Bitcoin’s protocol in years, now has enough mining support to lock in activation. According to the parameters set forward by “Speedy Trial,” if at least 90% of the blocks mined in any of the designated 2-week difficulty periods “signal” their support for the upgrade, then the activation process can begin. To be more precise: 1,815\\xa0out of 2,016 blocks mined within a period have to include a little piece of encoded information that indicates that the miner who mined that block is in favor of the upgrade. During this second difficulty period, at block 687284, that benchmark was met. By the time that the difficulty period ends on Sunday, it is likely that Taproot will have locked in with over 99% of blocks signalling decisively in its favor. Related: South Koreans Can Pay With Bitcoin in Stacks, Paycoin Integration Taproot is Bitcoin’s most anticipated upgrade since Segregated Witness (SegWit) in 2017. Whereas the main focus of SegWit was scaling the Bitcoin protocol, Taproot will outfit Bitcoin with a new signature scheme known as Schnorr signatures. This small adjustment to the Bitcoin code opens up new possibilities for privacy, multisignature wallets and security, as well as scaling. Now that the threshold has been met, the end of this difficulty period on Sunday will mark the completion of the first phase of Speedy Trial. Speedy Trial is the process that the Bitcoin community of developers and stakeholders agreed to use to determine if there was enough support from the miners to go ahead with the Taproot soft fork. For months, even once it was clear that there was widespread support for the upgrade, there was still debate as to how it would be implemented. Any alteration to Bitcoin’s code require consensus; there is no one person or entity “in charge” that can unilaterally make those changes. Arriving at that consensus can sometimes be even more complicated than writing the code itself. In the case of Taproot, Speedy Trial, devised by David Harding and Russell O’Connor, was the solution that got the most community support. Related: Market Wrap:',\n",
              "  \"Bitcoin’s (BTC-USD) chances of falling below $10,000 have increased significantly since mid-April, according to betting aggregators US-Bookies.com. The odds that Bitcoin drops to $10,000 in 2021 were 8/11 (57.9% implied probability), a sharp increase from mid-April, where the odds were 4/1 (20%). “The latest trends have not indicated a positive outcome for the popular cryptocurrency,” a US-Bookies spokesperson said. Bitcoin rose over $2,000 Thursday after the Basel Committee recognized it as an asset class, but fell back down later in the day. “There are many factors that affect trader sentiment,” the spokesperson said. “But the most significant appear to be US monetary policy and the impact of pressure from mainland China.” China’s Qinghai province took an aggressive stance against crypto Wednesday by ordering all crypto miners to shut down. The region, which was a hub of mining activity, is the latest of several East Asian regions, including Xinjiang Inner Mongolia, to ban the practice. Financial sector analysts have identified Bitcoin's reduced market share as a crucial detail supporting bearish attitudes. The virtual currency now represents about 40% of the crypto market, down from 70%. It should be noted, the spokesperson said, that the market for betting on bitcoin is “very small and extends to a handful of jurisdictions globally where sportsbook betting on bitcoin is legal, like Europe.” Betting on bitcoin is illegal within the United States. The data came as little surprise to US-Bookies, as bitcoin’s predicted gloomy future is within the context of a broader market correction. “Cryptocurrency investors should be aware of the asset classes' volatility and these odds are aligned with the sharp correction in the market of late,” the spokesperson said. Ihsaan Fanusie is a writer at Yahoo Finance. Follow him on Twitter @IFanusie. More from Ihsaan: Connecticut to offer a $1,000 bonus for individuals re-entering job market Kids ‘should be masking, especially indoors:’ Doctor Elon Musk is ‘a tourist in crypto,' Celsius Network CEO says Only 20% of Americans familiar with NFTs, 4 million have used: Survey Read the latest cryptocurrency and bitcoin news from Yahoo Finance Read the latest financial and business news\",\n",
              "  'A team of strategists for JPMorgan, headed by Nikolaos Panigirtzoglou, believes bitcoin (BTC) is seeing a weak demand from big players.  According to JPMorgan, bitcoin futures curve is in what the team calls backwardation, which means that the spot price as it sits is higher than the futures contracts. Futures contracts require the buyer to purchase assets at a specific price at a fixed date sometime down the line. The strategists are concerned, because the last time the spot price was higher than futures contracts was in 2018 when the last bitcoin crash occurred. That crash saw cryptocurrencies fall nearly 80%, making it worse than even the dotcom bubble bursting at the turn of the millennium. This ostensibly suggests a bear market could be incoming, as there is a lack of investment interest from institutional buyers. The findings by JPMorgan are based on a 21-day rolling average of BTC futures over spot prices. The team stated: “This is an unusual development and a reflection of how weak bitcoin demand is at the moment from institutional investors that tend to use regulated CME futures contracts to gain exposure to bitcoin.” The team went on to warn that this might be “a bearish signal carrying some echoes of the retail-investor-driven froth of December 2017.” Another issue that the team expressed concern over was that bitcoin’s share of the global market dipped over the last few months from around 70% in January to nearly 42% today. Panigirtzoglou warned about the declining bitcoin market share in May, which was followed by a significant dive in valuation. One of the likely reasons for the slip in overall performance from bitcoin is the increased regulations that governments are placing on cryptocurrencies. It seems almost daily that a new country is announcing plans to expand rules and regulations surrounding the use and trading of cryptocurrencies. Last week, the Chairman of the United States Securities and Exchange Commission Gary Gensler called for greater protection for investors. Gensler, who formerly served as Obama’s head of the Commodity Futures Trading Commission, said that cryptocurrencies have “raised new issues of',\n",
              "  'Some bitcoin options traders are making outlandish wagers, betting on a rally to a six-figure price by year end even as the cryptocurrency continues to struggle following last month’s 35% drop. According to data provided by Laevitas, the dominant cryptocurrency options exchange Deribit saw a total of 425 bitcoin call option contracts, with a strike price of $200,000 and an expiration date of Dec. 31, change hands on Thursday. That strike price is roughly five times the current level. A call option is a derivative contract that gives the purchaser the right but not the obligation to buy the underlying asset at a predetermined price on or before a specific date. Theoretically, buying a call at the $200,000 strike expiring on Dec. 31 is a bet that the cryptocurrency will end the year above that level. Related: Locked In: Bitcoin&#8217;s Taproot Upgrade Gets Its 90% Mandate While the trade size is relatively small compared with similar gambles that CoinDesk has covered in the past, the wagers are still interesting for several reasons. To begin with, the $200,000 call options represent a long-term bet, with an expiration date a full six months away. And because the options are so far out-of-the-money (strike well above the spot market price), they are extremely cheap, currently trading at 0.018 BTC ($698) on Deribit. That makes the options the equivalent of a lottery ticket: Buyers stand to lose just $698 per lot if the market doesn’t move higher until Dec. 31. But the option would theoretically gain significant value if the bullish mood returns to the market. Such low-risk gambles are commonly observed during bull runs. For instance, traders piled into the $80,000 call option in March, when bitcoin was on a strong upward trajectory and trading at highs above $50,000. Related: South Koreans Can Pay With Bitcoin in Stacks, Paycoin Integration Bitcoin rose to an all-time high of nearly $65,000 in April, but the price has since tumbled and now appears to be consolidating under $40,000. At press time, the largest cryptocurrency was changing hands at around $37,500. Recently, the market has been filled'],\n",
              " 'DOGE': ['The Dogecoin price has flipped green after the sixth-biggest cryptocurrency shed about one-quarter of its value in the past week. Bitcoin is leading a market rebound today after regulatory jitters sent investors looking for the exit signs in recent days, a sell-off that spilled over to altcoins. Dogecoin investors have plenty to celebrate, however, after a mainstream investment app added support for the cryptocurrency. Neobank Revolut announced on June 8 that users can now trade the popular meme coin. Dogecoin is not the first cryptocurrency on the Revolut platform and bolsters the list of digital assets supported by the challenger bank to 30. The company is responding to user demand after seeing the size of crypto assets on its platform more than double from USD 48 million at year-end 2018 to USD 121 million the following year. In addition, with all the fuss about a bitcoin ETF in the United States, one company just made it easier for investors to add BTC to their retirement portfolio. iTrust Capital, a crypto IRA and 401(k) platform, has added support for Dogecoin. iTrust touted what it described as Dogecoin’s “scarce supply,” but a characteristic about DOGE is that there is unlimited supply. There is a cap on the number of Dogecoins that can be issued each year, however, and that is 5 billion. Nonetheless, compared to its larger rival bitcoin, which is debatably a deflationary asset, Dogecoin’s supply is deemed inflationary in nature. Ethereum Co-Founder Vitalik Buterin has become a rock star in the cryptocurrency community. His presence at the recent bitcoin conference in Miami had some pontificating that bitcoin needs a front-man similar to how Vitalik is the face of Ethereum. Satoshi Nakamoto is bitcoin’s creator, but he hasn’t been heard from since 2011 when he said that he had “moved on to other projects.” Vitalik in a recent podcast with Lex Fridman said that he turned USD 25K investment in Dogecoin into millions of dollars five years ago. DOGE was trading at USD 0.07 at the time compared to its current price of USD 0.32. He sold 50% of his holdings',\n",
              "  \"This article first appeared in the Morning Brief. Get the Morning Brief sent directly to your inbox every Monday to Friday by 6:30 a.m. ET. Subscribe Friday, May 21, 2021 The year isn't even half over yet, but it's already been a memorable 2021 for market watchers.\\xa0 The GameStop (GME) and meme stock drama, the latest bull cycle in cryptocurrencies, and Elon Musk tweeting have all created off-the-wall storylines that keep getting refreshed.\\xa0 And while some — if not most — of this is just noise for investors who are trying to build wealth over the long run, here at Yahoo Finance our data on tickers users are looking up give us a great read on how engaged readers and viewers have been on some of these trends.\\xa0 And the data leave no doubt: people are still crazy about crypto, Elon, and meme stocks. Yahoo Finance's Jared Blikre spun up some data on Thursday that showed the most popular tickers on Yahoo Finance over the last four weeks. And perhaps it's no surprise that the top ticker over the last month has been Dogecoin (DOGE-USD).\\xa0 Over this period, Elon Musk tweeted many times about Doge (including again on Thursday), hosted SNL and talked about Doge, and Federal Reserve Chair Jerome Powell was asked about Doge. Notably, the price of Doge is only up about 25% over the last month with most of Doge's big rally coming in early- to mid-April when the price rose from around $0.06 to $0.40 and eventually as high as $0.73. As of Thursday, Doge was trading near $0.40. As a reminder, Dogecoin is a joke. Explicitly.\\xa0 Two out of the next three tickers come to the Morning Brief as a little bit of a surprise — second-most popular in the last four weeks is AMC (AMC) while fourth-most is GameStop. Bitcoin (BTC-USD) is sandwiched between the two as the third-most popular ticker on Yahoo Finance over the last month.\\xa0 AMC and GameStop were no doubt the center of the action in the initial wallstreetbets, short squeeze, Robinhood drama of late January. GameStop shares, which traded\",\n",
              "  '(Bloomberg) -- Dogecoin, the Shiba Inu-themed cryptocurrency started as a joke in 2013, outperformed top rivals in the week as it launched on the Coinbase exchange. While the biggest cryptocurrencies Bitcoin and Ether were up 6.2% and 14.9% over the past seven days respectively, Dogecoin advanced 24% over the same period as of 7:50 a.m. in London, according to CoinGecko pricing. While Coinbase said weeks ago that it planned to add Dogecoin, the announcement that it now supports the meme-based token on Coinbase.com and in the Coinbase Android and iOS apps means Dogecoin is more accessible and continuing to establish itself. “This Dogecoin bounce comes during a period where the cryptoverse is seeing a consolidation of positions,” Edward Moya, senior market analyst at Oanda Corp., said in a note Wednesday where he cited the Coinbase development as bolstering the price. “So we should not be surprised if this recent surge fizzles -- or if it makes another attempt at the moon.” Dogecoin is up more than 14,000% in the past year, in a run-up that’s surprised even the crypto community and gives it the sixth-biggest market value. Its gains have been cited as an example of the power of retail traders, the attraction of memes and a case study in what can happen in a world where the Federal Reserve and other central banks are practicing relatively loose monetary policy to try to overcome Covid-19’s economic damage. And it wouldn’t be Dogecoin without a little social-media action to liven things up. There’s little denying the Twitter pronouncements of Tesla Inc. founder Elon Musk have moved the prices of Bitcoin and Dogecoin multiple times. Many in the Bitcoin community have been dismayed by the world’s third-richest man of late, for reasons including his U-turn on accepting Bitcoin as payment and a tweet alluding to a breakup with the biggest cryptocurrency. But some Dogecoin fans are actively courting him. “If anyone has a problem with Elon they’ll have to go through the #DogeArmy first,” one Twitter user quipped. And Billy Markus, a co-creator of Dogecoin who is no longer coding on the',\n",
              "  'The Dogecoin price was stuck in a narrow range over the weekend and into Monday, oscillating between USD 0.36 and USD 0.37 for most of the time. Crypto investors laid it on thick for Elon Musk in hopes that a social media campaign will spark a buying spree, but it appears to have taken bitcoin to flip the markets green. The hashtag ‘We Love You Elon’ is trending on Twitter, with more than 67,000 tweets since Sunday night. The movement, which was started by Dogecoin bull and YouTuber Matt Wallace, was designed to show gratitude to the Tesla chief for being the ‘Doge Father,’ as the crypto community refers to him. And while it didn’t translate to gains in the market, bitcoin bull Michael Saylor had it covered. The social media campaign captured the attention of Musk, who has shown his appreciation for the Twitter movement. The Tesla chief in true Dogecoin form responded with, “Wow, thanks!” to one of Wallace’s tweets and with hearts to another by Owen Sparks, a TSLA shareholder. Dogecoin’s internet meme mascot, a Shiba Inu Japanese breed dog named Doge, is known for two-word whimsical phrases such as “very Doge” and “much currency.” Despite Musk’s engagement with the Dogecoin community, the price didn’t budge much from USD 0.37 throughout the campaign, though it did remain stable. Over the weekend, the DOGE price remained stalled with much of the broader cryptocurrency market. After meandering between positive and negative territory on Monday, Dogecoin has finally flipped green, but it appears to have more to do with the rising tide of bitcoin lifting all top-10 crypto boats. MicroStrategy chief Michael Saylor announced that his company has proposed a private offering of USD 400 million senior secured notes to buy more bitcoin. Saylor is famous for buying the bitcoin dips, and the company now has a war chest of more than 92,000 BTC and counting. Meanwhile, the ‘We Love You Elon’ campaign ultimately muscled its way into the leading hashtag in some countries and rounded out the top five rankings in the United States. It usually doesn’t take much',\n",
              "  'There is probably a lot of trash in the speculative boom currently taking hold of markets. But hidden amid the meme stocks, SPACs, and crypto coins could be some valuable businesses. “Somewhere in the hundreds of SPACs and scores of meme stocks are some decent companies and potentially even a few huge opportunities,” DataTrek’s Nicholas Colas wrote in a note this week. “For example: Hertz, which was supposed to be a retail investor graveyard, actually exited bankruptcy with its equity value intact. The same exact thing happened with U-Haul about 20 years ago, by the way.” While many of the assets used for speculation may have similar price spikes as viral interest or short interest affect people’s perceptions, most of these things are all pretty different, with different stories and long term possibilities. Take Hertz. Last year, the company was bankrupt and shares were on a roller coaster — investors could try to double or triple their money in a day. But if an investor held on and didn’t sell shares out of boredom or when the stock stopped being compelling (Yahoo Finance traffic data showed interest and trading volume fell off in July 2020) they would be in a pretty good situation, returns-wise. Hertz had fallen from a June 2020 peak of over $6 to well under a dollar during the months after interest waned and was delisted from the NYSE in 2020. But in May, it ended up being worth over $6 a share when the company emerged from bankruptcy via auction, rewarding shareholders who stayed. The only thesis there would have been “this name-brand rental car company would get its mojo back when people start renting cars again,” not a huge jump. On the SPAC boom, Colas mused that most will probably fail or at least “dramatically underperform,” but that “somewhere in this barrage of moonshots there will almost certainly be a few huge winners that leverage disruptive technology.” According to a Reuters investigation, 100 SPACs, most of which began trading last year, gained just 2% from their first-traded prices, dramatically underperforming the S&P 500 index. But',\n",
              "  'Dogecoin rose by 5.15% on Wednesday. Reversing a 1.63% loss from Tuesday, Dogecoin ended the day at $0.3431. A bearish start to the day saw Dogecoin fall to an early morning intraday low $0.3126 before making a move. Steering clear of the first major support level at $0.3010, Dogecoin rallied to a late afternoon intraday high $0.3549. Dogecoin broke through the first major resistance level at $0.3467 before sliding back to sub-$0.34 levels. Finding late support, however, Dogecoin broke back through the first major resistance level before ending the day at $0.343 levels. At the time of writing, Dogecoin was down by 1.25% to $0.3388. A mixed start to the day saw Dogecoin rise to an early morning high $0.3451 before falling to a low $0.3369. Dogecoin left the major support and resistance levels untested early on. Dogecoin would need to avoid the $0.3369 pivot to bring the first major resistance level at $0.3611 into play. Support from the broader market would be needed, however, for Dogecoin to break out from Wednesday’s high $0.3549. Barring an extended crypto rally, the first major resistance level would likely cap any upside. In the event of a breakout, Dogecoin could test resistance at $0.40 before any pullback. The second major resistance level sits at $0.3792. A fall through the $0.3369 pivot would bring the first major support level at $0.3188 into play. Barring another extended sell-off, however, Dogecoin should steer clear of sub-$0.30 levels. The second major support level sits at $0.2946. A sustained fall through the 62% FIB of $0.2882 would form a near-term bearish trend from 8th May’s swing hi $0.7427. First Major Support Level: $0.3188 Pivot Level: $0.3369 First Major Resistance Level: $0.3611 23.6% FIB Retracement Level: $0.5691 38.2% FIB Retracement Level: $0.4618 62% FIB Retracement Level: $0.2882 Please let us know what you think in the comments below. Thanks, Bob This article was originally posted on FX Empire  Natural Gas Price Prediction – Prices Consolidate Ahead of Inventory Report   Asia-Pacific Shares Mixed; China PPI Higher than Expected, Japan’s Nikkei Weighed Down by US CPI Worries ',\n",
              "  'The recent revival of investor interest in so-called \"meme stocks\" like US cinema chain AMC (AMC) and retro smartphone maker BlackBerry (BB) may already be over, according to analysis of retail trading flows. Vanda Research said on Friday that its proprietary tools tracking retail investor flows in the US and UK suggested interest in meme stocks \"probably peaked on Wednesday.\" AMC\\'s stock close to doubled on Wednesday amid a flurry of interest in the stock from day traders and other amateur investors, many of whom share ideas on the Reddit forum r/WallStreetBets. AMC has become an in vogue stock among this band of investors and this week\\'s price action recalled similar retail price action seen in GameStop\\'s (GME) stock at the start of the year.\\xa0 Watch: AMC Stock Tanks After Company Files To Sell 11 Million Shares Read more: UK investors at risk as Brits pile into meme stock AMC In total, retail investors put $345m (£245m) into AMC over the last five trading days, according to Vanda. That was 328% above the one-month average. AMC\\'s share price surge came as the company announced it was raising new cash and deepening its relationship with retail investors though initiatives including free popcorn. But even AMC was alarmed by its stock movements — the company on Thursday said its share surge appeared to be \"unrelated to our underlying business\" and warned people not to buy its stock \"unless you are prepared to incur the risk of losing all or a substantial portion of your investment.\" The warning appears to have worked, with Vanda reporting a major drop-off in retail buying on Thursday. The stock sunk 17% and was down another 9.8% in the pre-market on Friday. \"AMC, by far the stock with the largest retail purchases, received $66m in new inflows, less than half of the $136m it had averaged from Monday to Wednesday,\" said Ben Onatibia, a senior strategist at Vanda. \"Some of the slack was picked up by BlackBerry, which experienced the largest day of retail buying this year ($110m). This behaviour reminds us of the crypto bubble, where investors',\n",
              "  \"Like most fads, Dogecoin is spreading like wildfire. If you want to get in on the DOGE craze, your options just expanded. What happened: iTrustCapital, a crypto IRA platform, just added the ability to invest directly in Dogecoin if you have a 401k or IRA account with them. Why it matters: Traders often try to buy DOGE low and sell it much higher. Every time you make a crypto trade, you need to pay taxes on the profits. When trading DOGE in an iTrustCapital Crypto IRA, trades are tax-free. You can open an iTrustCapital account here. Where is DOGE Going? While it’s impossible to say if DOGE is here to stay, we do encourage you to do your due diligence before trading and investing. Elon Musk, CEO of Tesla, has been known to prop the coin on his social media accounts which correlate with spikes in the asset. Will Elon continue to raise awareness about Dogecoin and crypto in general? It remains to be seen. How Else to Buy Dogecoin The first thing you need to buy Doge is an exchange account. Not sure which account to go with? Browse our reviews: Coinbase Review Gemini Review Webull Review eToro Review Robinhood Review Once your exchange account has been approved and funded you can start buying, selling and trading. If you’re trying to buy DOGE quickly, you should place a market order. Most exchanges use market orders by default, but some may use limit orders. Market orders purchase Dogecoin for you instantly at market price, and limit orders only execute at a specified price. See more from Benzinga Click here for options trades from Benzinga Mike Khouw Sees Unusual Options Activity In Clover Health Goldman Sachs Makes Move Into Blockchain With Latest Investment In Crypto Staking Platform Blockdaemon © 2021 Benzinga.com. Benzinga does not provide investment advice. All rights reserved. According to the Basel Committee on Banking Supervision, cryptocurrencies should have some of the strictest capital requirements, due to their risks. Most companies' success stories come as a result of wanting to accomplish a greater purpose. For HAVN Life Sciences Inc.\",\n",
              "  'If you’re bored with index funds and you’re ready to roll the dice on one of those sexy and mysterious new alternative investments, you have plenty of options. One of those options involves a Japanese dog, Elon Musk and what appears to be fake money from a toy cash register. Read: How Does Cryptocurrency Work – and Is It Safe?Find Out: Where Does Cryptocurrency Come From? That’s Dogecoin (DOGE), and it’s here to rescue anyone who couldn’t bear to wait one second longer for the latest next-big-thing cryptocurrency that promises to out-Bitcoin Bitcoin. Dogecoin is a joke — or at least it started out as one. Two software engineers — IBM’s Billy Markus and Adobe’s Jackson Palmer — created Dogecoin in 2013 to lampoon all the altcoin wannabes that popped up after Bitcoin rose to blockchain fame. As a logo, they chose a Shiba Inu from a meme called Doge, which went viral that same year. The Economy and Your Money: All You Need To Know Like Bitcoin and all cryptocurrency, Dogecoin is: Decentralized — it’s not issued or backed by a government or bank “Mined” independently and recorded on a blockchain Anonymous — privacy is part of the reason crypto is so popular  Unlike Bitcoin and other “deflationary” cryptocurrencies that exist in limited quantities, there is no cap on “inflationary” Dogecoin.  It started as tech-geek satire, but Palmer and Markus were skilled, experienced and imaginative professionals. Their blockchain, proof-of-work process and minting procedures were stable, efficient and secure. Crypto wonks recognized its potential and the fake currency began amassing a very real following.  More Economy Explained: Ethereum (ETH): What It Is, What It’s Worth and Should You Be Investing? It already had achieved cult status by the time Tesla CEO Elon Musk started tweeting about Dogecoin in 2021. The props from Musk made Dogecoin a household name and sent its value soaring. It’s now one of the most-used altcoins, particularly for tipping on social media.  Investors who are put off by the $36,000-plus asking price of a single Bitcoin will be happy to know that',\n",
              "  'Bitcoin continued on a volatile course on Friday after the top banking regulator proposed to classify the flagship crypto as the riskiest of assets. Bitcoin (BTC-USD) fell 2% to $37,258 (£26,308) in afternoon trade in London after reaching as high as $37,548 on Friday morning. It enjoyed a boost on Wednesday and Thursday from El Salvador making it legal tender, rallying as much as 8% following the news.\\xa0 The Basel Committee on Banking Supervision believes banks should set aside enough capital to cover losses on any bitcoin holdings in full and has issued a public consultation on proposals for the treatment of banks\\' cryptoasset exposures. The plans would make it very expensive for banks to hold digital currencies, which could hinder a wider market acceptance of tokens. One proposal is to attach a 1,250% risk to a bank’s exposure to bitcoins and certain other cryptos. Experts have said that the US \"needs to form\" a new crypto regulation commission to encompass both markets and institutions if it\\'s \"serious about regulating\" bitcoin and other crypto assets. \"Because most exchanges are unregulated, volume and price manipulation strategies are still rampant on most,\" said Carol Alexander, Professor of Finance at the University of Sussex. \"Crypto is characterised as the Wild West of financial markets at the moment – even though US regulators have been trying to rein in the sector their attempts have been underwhelming.\" Other major cryptos dwindled. Ethereum (ETH-USD) — the second biggest crypto by market cap — crashed over 4% to trade at $2,463. Meme token dogecoin (DOGE) also dropped 4% to $0.32.\\xa0 On Wednesday, El Salvador\\'s president Nayib Bukele announced it would accept bitcoin as legal tender. The move makes the Central American nation the first in the world to formally adopt the digital currency. Alexandra Clark, sales trader at Globalblock, said El Salvador’s decision to accept bitcoin as legal tender \"prompted Iran and India to change their tune on crypto.\"\\xa0 \"Indian authorities have scrapped their plans for a total ban and will instead move to classify cryptocurrencies as an alternative asset class and Iran is planning to introduce'],\n",
              " 'TSLA': ['Tesla (TSLA) stock has surged by 247% in the last year. However, in the past six months, the stock has been largely sideways. After a correction from all-time highs of $900, TSLA stock seems to be in a zone of consolidation. Among the very optimistic commentators, Cathie Wood believes that Tesla stock can touch $3,000 by FY2025. It might seem difficult to talk about the long-term stock price outlook. At the same time, considering the industry tailwinds and several company specific factors, it seems very likely that Tesla stock will remain in an uptrend. The global electric vehicle industry is forecasted to grow at a CAGR of 29% over the next ten years. Even if Tesla’s growth is in line with the industry average, the company is positioned for strong upside in revenue and cash flows. (See Tesla stock analysis on TipRanks) Further, being an industry leader, it’s very likely that Tesla’s growth will exceed the industry average. Therefore, the long-term bullish case for Tesla stock still seems to be intact. Manufacturing Presence as a Trigger for Growth  One factor that’s likely to help Tesla in boosting EBITDA margin and free cash flows is global manufacturing presence. In the United States, the company is building another manufacturing unit in Texas, in addition to its Fremont plant. The Texas facility is on track to commence production and delivery later this year. Additionally, Tesla’s Shanghai Gigafactory is already operational, creating a gradual increase in quarterly production output. The company’s Gigafactory in Europe is on track for production and deliveries in late 2021. With manufacturing in multiple locations, logistics cost is likely to decline. Further, as production ramps up, operating leverage will boost EBITDA margin. Tesla also plans entry into India. It will not be surprising if the company sets up another manufacturing facility in India. The country is still at an early stage of electric vehicle adoption and is likely to be another big market for Tesla over the next decade. Strong Numbers and Strong Products TSLA stock is increasingly attractive from a financial perspective. For Q1 2021, the company reported',\n",
              "  '(Bloomberg) -- Tesla Inc. has parted ways with Jerome Guillen, a 10-year veteran who most recently served as president of heavy trucking and was one of four top executives running the company alongside Chief Executive Officer Elon Musk. Guillen left the company June 3, according to a regulatory filing. He was a top lieutenant to Musk and played a key role in ramping up Model 3 production in 2018. The executive previously served as president of Tesla’s automotive business and was named head of heavy trucking in March. “That is a huge and unexpected loss,” Pierre Ferragu, an analyst at New Street Research who has a buy rating on Tesla shares, said in an email. “Jerome’s contribution to Tesla will remain part of the company and the company will continue to attract other top-guns.” Tesla pared an early gain Tuesday of as much as 3% to trade up 1.6% to $614.74 as of 10 a.m. in New York. The stock rallied in premarket trading after China’s Passenger Car Association said deliveries rebounded in May. Guillen joined Tesla in the fall of 2010 as the program director for the Model S, the breakthrough electric vehicle that laid the groundwork for the Model X sport utility vehicle and more mass market Model 3. He was 48 years old as of Tesla’s latest annual report. Guillen didn’t immediately respond to a request for comment. High Turnover Tesla has dealt with executive turnover for years. Guillen took a several-months-long leave of absence from the company in 2015 but returned in 2016 to lead the company’s Semi truck program. He was promoted in 2018 to lead auto operations. The executive is known for building a makeshift assembly line in a tent outside of Tesla’s auto plant in Fremont, California, that was instrumental to the company resolving early stumbles with the Model 3, a bet-the-company effort that almost bankrupted Tesla in 2018. “Tesla’s executive team has historically exhibited what we perceive to be a higher-than-average rate of turnover and -- as such -- are not overly concerned about these departures,” Ben Kallo, a Robert W. Baird',\n",
              "  'Stay in the know at a glance with the Top 10 daily stories (Bloomberg) -- Shares of the world’s largest electric-vehicle battery maker hit an all-time high Thursday in the wake of a flurry of news that spurred bullish prospects for the industry. Contemporary Amperex Technology Co., a Tesla Inc. supplier, jumped as much as 8.6% in Shenzhen, taking its gains from a low in March to more than 50%. CATL led advances in not just in EVs but green energy-related stocks as well. A BloombergNEF outlook report and China’s moves to boost the sector including People’s Bank of China Governor Yi Gang pledging increased support spurred the gains. Investor appetite is growing for the Chinese company that’s been a beneficiary of a worldwide push toward curbing carbon emissions. BloombergNEF analysts expect global annual passenger EV sales rising to 14 million in 2025 from 3.1 million in 2020 and lithium-battery demand growing rapidly to approach 4.5TWh annually by 2035. This year “marks the first major increase to our EV adoption outlook in the last five years,” driven by factors like rising policy support, accelerated investments and rising consumer adoption, BloombergNEF analysts wrote in a report. “Meeting this demand requires unprecedented but achievable increases in materials, components and cell production.” Chinese firms reported better-than-expected EV sales last month. Reuters reported that Apple Inc. is in early talks with CATL and BYD Co. about battery supply for its electric vehicle. Electric vehicle maker BYD, which traded Thursday without the right to receive the next dividend, jumped about 6% in Hong Kong, while solar module maker LONGi Green Energy Technology Co. rose as much as 7.8%. Battery material suppliers, Guangzhou Tinci Materials Technology Co. gained as much as 7.1% and Tianqi Lithium Corp. surged 3.6%. More stories like this are available on bloomberg.com Subscribe now to stay ahead with the most trusted business news source. ©2021 Bloomberg L.P. Related Quotes “There are many things that are open to debate in America but the right of all eligible citizens to vote is not one of them.\" U.S. Attorney General Merrick Garland on Friday vowed',\n",
              "  \"Yahoo Finance’s Myles Udland, Brian Sozzi, and Julie Hyman break down the latest delivery numbers for Tesla in China. MYLES UDLAND: So we talked at the top of the show about the stocks of today. But really, the meme stuck to rule them all is Tesla. That stock up a little bit in premarket trade this morning, up about 3% in fact. And that's coming after we continue to get, Julie, what to me seems like conflicting news on Tesla's sales trajectory in China. Last week we had a story out of The Information that orders had been cut in half, and now news today that deliveries surged some 29% last month. JULIE HYMAN: Yeah, it is confusing, isn't it? Deliveries just over 33,000, almost 33,500-- some of those were exported, by the way. About 11,000 of those cars were exported, many of them to Europe. So they're making cars in China that they are exporting elsewhere. But the rest of them were sold in China. So indeed, it is confusing that we're getting these conflicting reports. I think there was some other reporting as well besides The Information that they saw a decline in deliveries. And Tesla's business in China is important, right? It's a big market for them. They are only the third-largest electric vehicle maker, by the way, in China, behind the GM-SAIC joint venture and behind BYD. So they're number three behind those. But there have been some public relations issues for Tesla. There was a crash involving a Tesla. And there are crash involving cars all the time, but they got a lot of attention in China in particular. There's been some regulatory scrutiny there of Tesla as well. So will that show in the official June numbers? Will there be more of this conflicting reporting? That, of course, is unclear. But it's really interesting, because it is such an important market for them, to see what exactly is going on there and try and get some more clarity around their situation in China. BRIAN SOZZI: Yeah, guys, you're seeing the stock pop about 3%\",\n",
              "  '(Bloomberg) -- William Li is being mobbed. At a gala dinner in Shanghai, the founder of Chinese electric carmaker Nio Inc. can barely move forward in the buffet queue before being stopped for another selfie, handshake or hug. Swapping his usual attire of jeans and a T-shirt for a tailored grey suit and blue dress shirt, the tall 46-year-old happily obliges with a smile. Li manages to spoon a small amount of fried rice and vegetables onto his plate, but he’s not here for the food. Over the next three hours, Li poses for hundreds more photos, chatting with customers of the automaker he started just over six years ago and has built into a way of life — at least for the people who buy his cars — with clubhouses, a round-the-clock battery recharging service and even clothing, food and exercise equipment, all decked out in Nio’s geometric logo. As Li works the room, a video backdrop shows six performers, each wearing a different-colored Nio hoodie, singing a self-composed song dedicated to the company. “Meeting with Nio, we want to be better selves,’’ the not-so-catchy ditty goes. While other billionaire executives may cringe at spending their down time glad-handing customers, for Li this is core. Nio’s business model relies on creating a sense of allegiance among buyers, who then persuade friends and family to spread the word about its cars. Dubbed “Rippling Mode,’’ the strategy invokes the ever-widening circles caused by throwing a single stone into a pond, Li says. The scene in Shanghai was just what he was aiming for: a passionate customer base with the loyalty of Apple Inc. fans — and a dash of Elon Musk cult-of-personality thrown in. It’s an approach that’s turned Nio into Musk’s most visible nemesis in a country that seems to be minting Tesla adversaries every other day. While other electric vehicle companies may pump out more cars aimed at the mass market, Nio is targeting the premium buyers that Musk — who established his first Gigafactory outside the U.S. on the outskirts of Shanghai in 2019 — needs to realize',\n",
              "  \"Gravity Inc. CEO Moshe Cohen talks transforming New York City's iconic yellow cabs to Tesla Model Y taxis. - Moshe Cohen, he's the CEO of Gravity. And Moshe, I think all of us who live in New York City and even beyond are excited about something like this because you don't really think of New York City taxis as having the latest when it comes to tech. But tell us just about-- you launched this in the spring as a pilot program. How is it progressing? MOSHE COHEN: Yeah, so firstly, thank you for having me. It's great to be on with you guys. This is a first of EV fleets, not specifically Tesla. Tesla, as you know, has sort of been ahead of the curve with its development of cars and charging equipment. But very quickly, there's a lot of automakers that are catching up. We've seen the yellow taxi as an industry that has been a cornerstone of New York and of the country. And it's sort of had a bad 10 years. And there are a lot of great ideas that have been there, and it's a massive opportunity to integrate. MOSHE COHEN: What we've done is we've worked closely with the city, with the regulators, with the taxi and Limousine Commission and the commissioner to frankly help amend the rules. The rules that were written for internal combustion engines that were written around safety somehow preclude some very safe electric vehicles. So, it's been a process. It's sort of having the commissioner and the Taxi and Limousine Commission work with engineering and understanding what is that world look like with electric vehicles. And they've authorized a pilot, a broad pilot, for a broad group of vehicles of which Tesla Model Y is one. But we expect there to be others. - MOSHE, the one question that all New Yorkers ask this time of year with the taxis is does the AC work. I would assume in these vehicles, it does. But the potential for growth in these kinds of vehicles, it just seems like this is\",\n",
              "  '(Corrects to remove extraneous word \"then\" in para 2, adds period.) June 7 (Reuters) - Long-time Tesla Inc executive Jerome Guillen, who oversaw its Semi electric trucks slated to be launched this year, has left the company, Tesla said on Monday, barely three months after taking over the role. Guillen, who has been with the company for over a decade since starting as a Model S program director in 2010, oversaw Tesla\\'s entire vehicles business before being named president of the Tesla Heavy Trucking unit in March. He was one of Tesla\\'s top four leadership members, including CEO Elon Musk. Dan Levy, a Credit-Suisse analyst said in a note the departure is \"negative given Guillen previously viewed as central to Tesla\" as he was \"arguably key in stabilizing auto biz post Model 3 launch\" in 2017. Tesla is yet to begin delivering its battery-powered Semi electric commercial truck, with Musk saying in recent months that battery cell supply constraints could delay its mass production to 2022. Musk also said in January that Tesla would be able to produce the Semi when its new 4680 cells could be produced in volume, alleviating a battery shortage. Separately, Musk said on Sunday that Tesla has canceled its longest-range Model S Plaid+, which would use 4680 cells and whose production had been delayed to next year. \"They made a big deal about 4680 ... we are just upset the first (car with) 4680 apparently was abruptly canceled. This just raises more questions that they need to address,\" Louis Navellier, chief investment officer at Navellier, said. Tesla shares fell 0.7% in after market trading. Guillen was one of only a few long-serving executives at Tesla, which is known for the high turnover rate of its executives. RJ Johnson, who headed Tesla\\'s Energy operations to sell solar and energy storage products, left the company after less than two years, according to his LinkedIn profile. He moved to startup Stealth Mode. (Reporting by Eva Mathews in Bengaluru and Hyunjoo Jin in Berkeley; Editing by Anil D\\'Silva and Richard Pullin) Related Quotes (Bloomberg) -- South Africa agreed to',\n",
              "  '(Reuters) - Long-time Tesla Inc executive Jerome Guillen, who oversaw its Semi electric trucks slated to be launched this year, has left the company, Tesla said on Monday, barely three months after taking over the role. Guillen, who has been with the company for over a decade since starting as a Model S program director in 2010, oversaw Tesla\\'s entire vehicles business before being named president of the Tesla Heavy Trucking unit in March. He was one of Tesla\\'s top four leadership members, including CEO Elon Musk. Dan Levy, a Credit-Suisse analyst said in a note the departure is \"negative given Guillen previously viewed as central to Tesla\" as he was \"arguably key in stabilizing auto biz post Model 3 launch\" in 2017. Tesla is yet to begin delivering its battery-powered Semi electric commercial truck, with Musk saying in recent months that battery cell supply constraints could delay its mass production to 2022. Musk also said in January that Tesla would be able to produce the Semi when its new 4680 cells could be produced in volume, alleviating a battery shortage. Separately, Musk said on Sunday that Tesla has canceled its longest-range Model S Plaid+, which would use 4680 cells and whose production had been delayed to next year. \"They made a big deal about 4680 ... we are just upset the first (car with) 4680 apparently was abruptly canceled. This just raises more questions that they need to address,\" Louis Navellier, chief investment officer at Navellier, said. Tesla shares fell 0.7% in after market trading. Guillen was one of only a few long-serving executives at Tesla, which is known for the high turnover rate of its executives. RJ Johnson, who headed Tesla\\'s Energy operations to sell solar and energy storage products, left the company after less than two years, according to his LinkedIn profile. He moved to startup Stealth Mode. (This story corrects to remove extraneous word \"then\" in para 2, adds period.) (Reporting by Eva Mathews in Bengaluru and Hyunjoo Jin in Berkeley; Editing by Anil D\\'Silva and Richard Pullin) Related Quotes (Bloomberg) -- South Africa agreed to',\n",
              "  'Tesla TSLA CEO Elon Musk recently took to Twitter to announce that the company has decided to cancel the production of the promised Model S Plaid Plus.The company is still on course with the Plaid version of the car. According to Musk, Plaid Plus, the most expensive variant of its flagship sedan, is not needed as the Model S Plaid is adequate. Since September 2019, the U.S.-based electric vehicle (EV) behemoth had been teasing the release of the revamped electric sedan.The Tesla Model S Plaid has been flaunted as having three high-performance electric motors, accelerating the car from zero-to-60 mph in under two seconds, while reaching a top speed of 200-mph. Plaid claims to have a range between 390 and 412 miles, with 1,020 horsepower.The upgraded version — Model S Plaid Plus — with an even quicker pick-up and enhanced performance was due to hit the market by mid-2022. Plaid Plus had promised fans 1,100 horsepower, 520 miles of range on a fully-charged battery, and acceleration from 0 to 60 mph in less than two seconds.The prices for the Model S Plaid Plus was set to be $30,000 more expensive than the standard Plaid version, costing just under $150,000.Reportedly, the option to order the Model S Plaid Plus variant was removed from Tesla’s website during the last week of May. Now, Musk’s latest tweet confirms that the Plaid Plus model has been altogether cancelled.Earlier this month, Tesla had announced a special delivery event for Model S Plaid to be held on Jun 3 at its Fremont, CA factory. However, last week Musk confirmed on Twitter that the deliveries for Model S Plaid would be delayed until Jun 10 as the model needed another week of modification.This is not the first incident where the company has failed to meet the promised deadline. This January, Tesla had unveiled an upgraded version of the Model S and Model X, which included a new powertrain, a revamped interior and an updated exterior design to the automaker’s two flagship EVs. The red hot EV maker had promised the first deliveries of the updated vehicles in',\n",
              "  \"(Bloomberg) -- On a Wednesday afternoon in May, an Uber driver in San Francisco was about to run out of charge on his Nissan Leaf. Normally this would mean finding a place to plug in and wait for a half hour, at least. But this Leaf was different. Instead of plugging in, the driver pulled into a swapping station near Mission Bay, where a set of robot arms lifted the car off of the ground, unloaded the depleted batteries and replaced them with a fully charged set. Twelve minutes later the Leaf pulled away with 32 kilowatt hours of energy, enough to drive about 130 miles, for a cost of $13. A swap like this is a rare event in the U.S. The Leaf’s replaceable battery is made by Ample, one of the only companies offering a service that’s more popular in markets in Asia. In March, Ample announced that it had deployed five stations around the Bay Area. Nearly 100 Uber drivers are using them, the company says, making an average of 1.3 swaps per day. Ample’s operation is tiny compared to the 100,000 public EV chargers in the U.S.—not to mention the 150,000 gas stations running more than a million nozzles. Yet Ample’s founders Khaled Hassounah and John de Souza are convinced that it’s only a matter of time before the U.S. discovers that swapping is a necessary part of the transition to electric vehicles. China, which is home to roughly half of the 7 million passenger EVs on the road as of last year, has more than 600 swapping stations and is on pace to have 1,000 by year’s end, according to a tally by clean-energy research group BloombergNEF. “They've already made the determination that swapping has to be a significant part of the solution,” says Hassounah, “We don't have enough deployment yet to realize that we need this in the U.S.” Even in China, however, where the swapping industry dwarfs that of the U.S., the technology is still only a small piece of the charging infrastructure. In the U.S. most investment so far has gone into\"]}"
            ]
          },
          "metadata": {
            "tags": []
          },
          "execution_count": 21
        }
      ]
    },
    {
      "cell_type": "code",
      "metadata": {
        "colab": {
          "base_uri": "https://localhost:8080/",
          "height": 120
        },
        "id": "fo38rD5mq4c0",
        "outputId": "faa70668-ae17-4de0-dd4c-cb78ea7a9c72"
      },
      "source": [
        "articles['TSLA'][2]"
      ],
      "execution_count": 22,
      "outputs": [
        {
          "output_type": "execute_result",
          "data": {
            "application/vnd.google.colaboratory.intrinsic+json": {
              "type": "string"
            },
            "text/plain": [
              "'Stay in the know at a glance with the Top 10 daily stories (Bloomberg) -- Shares of the world’s largest electric-vehicle battery maker hit an all-time high Thursday in the wake of a flurry of news that spurred bullish prospects for the industry. Contemporary Amperex Technology Co., a Tesla Inc. supplier, jumped as much as 8.6% in Shenzhen, taking its gains from a low in March to more than 50%. CATL led advances in not just in EVs but green energy-related stocks as well. A BloombergNEF outlook report and China’s moves to boost the sector including People’s Bank of China Governor Yi Gang pledging increased support spurred the gains. Investor appetite is growing for the Chinese company that’s been a beneficiary of a worldwide push toward curbing carbon emissions. BloombergNEF analysts expect global annual passenger EV sales rising to 14 million in 2025 from 3.1 million in 2020 and lithium-battery demand growing rapidly to approach 4.5TWh annually by 2035. This year “marks the first major increase to our EV adoption outlook in the last five years,” driven by factors like rising policy support, accelerated investments and rising consumer adoption, BloombergNEF analysts wrote in a report. “Meeting this demand requires unprecedented but achievable increases in materials, components and cell production.” Chinese firms reported better-than-expected EV sales last month. Reuters reported that Apple Inc. is in early talks with CATL and BYD Co. about battery supply for its electric vehicle. Electric vehicle maker BYD, which traded Thursday without the right to receive the next dividend, jumped about 6% in Hong Kong, while solar module maker LONGi Green Energy Technology Co. rose as much as 7.8%. Battery material suppliers, Guangzhou Tinci Materials Technology Co. gained as much as 7.1% and Tianqi Lithium Corp. surged 3.6%. More stories like this are available on bloomberg.com Subscribe now to stay ahead with the most trusted business news source. ©2021 Bloomberg L.P. Related Quotes “There are many things that are open to debate in America but the right of all eligible citizens to vote is not one of them.\" U.S. Attorney General Merrick Garland on Friday vowed'"
            ]
          },
          "metadata": {
            "tags": []
          },
          "execution_count": 22
        }
      ]
    },
    {
      "cell_type": "markdown",
      "metadata": {
        "id": "f-4DkvWRq4c0"
      },
      "source": [
        "## 4.4. Summarise all Articles"
      ]
    },
    {
      "cell_type": "code",
      "metadata": {
        "id": "mooBgmplq4c1"
      },
      "source": [
        "def summarize(articles):\n",
        "    summaries = []\n",
        "    for article in articles:\n",
        "        input_ids = tokenizer.encode(article, return_tensors='pt')\n",
        "        output = model.generate(input_ids, max_length=55, num_beams=5, early_stopping=True)\n",
        "        summary = tokenizer.decode(output[0], skip_special_tokens=True)\n",
        "        summaries.append(summary)\n",
        "    return summaries"
      ],
      "execution_count": 23,
      "outputs": []
    },
    {
      "cell_type": "code",
      "metadata": {
        "colab": {
          "base_uri": "https://localhost:8080/"
        },
        "collapsed": true,
        "id": "cGMmfJYKq4c1",
        "outputId": "4f308869-8553-44ee-ae3c-b28235403db9"
      },
      "source": [
        "summaries = {ticker:summarize(articles[ticker]) for ticker in monitored_tickers}\n",
        "summaries"
      ],
      "execution_count": 24,
      "outputs": [
        {
          "output_type": "execute_result",
          "data": {
            "text/plain": [
              "{'BTC': ['‘Bitcoin is bad for crime,’ Hunter Horsley says. ‘Law enforcement is honing their investigative skills,’Trace says',\n",
              "  'Bitcoin price has been given four bearish reversal signals in the last five years.',\n",
              "  'China cracks down on miners using electricity. Tesla chief Elon Musk conspicuously absent at Bitcoin Mining Council',\n",
              "  'Authorities in Yunnan province launch probe. China accounts for over half of global bitcoin production',\n",
              "  'STX and Bitcoin will be accepted as methods of payment. Businesses that accept Paycoin will allow for customers to transact',\n",
              "  'Regulators have already delayed decision on at least nine Bitcoin ETF applications. Invesco releases two ‘Bitcoin adjacent’ funds',\n",
              "  'Hard fork expected to begin on Sunday. Miners have until Sunday to signal support for upgrade',\n",
              "  'The virtual currency’s chances of falling below $10,000 have increased. Bitcoin has lost 40% of its market share in recent years',\n",
              "  'Strategists at JPMorgan see backwardation in spot price. They warn of retail-investor-driven froth of December 2017',\n",
              "  'Call options with a strike price of $200,000 traded on Deribit. Trade size is relatively small compared with similar bets in past'],\n",
              " 'DOGE': ['Vitalik Buterin has become a rock star in the crypto community. Dogecoin has lost about one-quarter of its value in past week',\n",
              "  'Coin is most popular ticker on Yahoo Finance over the last month.',\n",
              "  'It’s up more than 14,000% in past year, making it sixth-biggest cryptocurrency. Dogecoin launched on Coinbase, making it more accessible',\n",
              "  'Musk’s ‘We Love You Elon’ hashtag is trending on Twitter. Bitcoin’s rise lifts all top-10 crypto boats',\n",
              "  'Hertz, U-Haul all had similar fortunes. SPACs, crypto coins could be ‘huge winners,’ Colas says',\n",
              "  'Dogecoin rallied to a late afternoon intraday high $0.3549. Reversing a 1.63% loss from Tuesday, Dogecoin ended the day at $0.3431',\n",
              "  'Vanda says retail buying may have peaked this week. Cinema chain AMC has warned investors not to buy its stock',\n",
              "  'iTrustCapital now allows people to invest in the asset. Elon Musk has been known to prop the coin on his social media accounts',\n",
              "  'Is Dogecoin worth $36,000-plus asking price? Decentralized, it’s not backed by a government or bank',\n",
              "  'Top banking regulator proposes cryptoasset classification. Ethereum tumbles after El Salvador becomes world’s first nation to adopt the currency'],\n",
              " 'TSLA': ['Cathie Wood believes that TSLA stock can touch $3,000 by FY2025. Manufacturing presence, China, India catalysts likely to boost earnings',\n",
              "  'Guillen was one of four top executives running the company. Executive previously served as president of Tesla’s automotive business',\n",
              "  'CATL leads advances in EV, green energy-related stocks. Apple in early talks with Chinese firms on EV supply',\n",
              "  'Tesla says it delivered 33,000 cars in China in June.',\n",
              "  'Li’s Nio is targeting premium buyers with ‘Rippling Mode’. China’s luxury electric vehicle market is booming',\n",
              "  \"Cohen's company is rolling out a fleet of Tesla Model Y taxis.\",\n",
              "  'Guillen was named president of the Tesla Heavy Trucking unit in March.',\n",
              "  'Guillen was named president of the Tesla Heavy Trucking unit in March.',\n",
              "  'Elon Musk tweets that Model S Plaid is adequate. Model S Plaid Plus was due to hit the market by mid-2022',\n",
              "  'Asia-based company is betting on U.S. demand. Swapping stations are a key part of EV transition']}"
            ]
          },
          "metadata": {
            "tags": []
          },
          "execution_count": 24
        }
      ]
    },
    {
      "cell_type": "code",
      "metadata": {
        "colab": {
          "base_uri": "https://localhost:8080/"
        },
        "id": "qQixQpPPq4c1",
        "outputId": "50cd2e4f-61ec-497c-f6ef-9879daeb40ab"
      },
      "source": [
        "summaries['BTC']"
      ],
      "execution_count": 25,
      "outputs": [
        {
          "output_type": "execute_result",
          "data": {
            "text/plain": [
              "['‘Bitcoin is bad for crime,’ Hunter Horsley says. ‘Law enforcement is honing their investigative skills,’Trace says',\n",
              " 'Bitcoin price has been given four bearish reversal signals in the last five years.',\n",
              " 'China cracks down on miners using electricity. Tesla chief Elon Musk conspicuously absent at Bitcoin Mining Council',\n",
              " 'Authorities in Yunnan province launch probe. China accounts for over half of global bitcoin production',\n",
              " 'STX and Bitcoin will be accepted as methods of payment. Businesses that accept Paycoin will allow for customers to transact',\n",
              " 'Regulators have already delayed decision on at least nine Bitcoin ETF applications. Invesco releases two ‘Bitcoin adjacent’ funds',\n",
              " 'Hard fork expected to begin on Sunday. Miners have until Sunday to signal support for upgrade',\n",
              " 'The virtual currency’s chances of falling below $10,000 have increased. Bitcoin has lost 40% of its market share in recent years',\n",
              " 'Strategists at JPMorgan see backwardation in spot price. They warn of retail-investor-driven froth of December 2017',\n",
              " 'Call options with a strike price of $200,000 traded on Deribit. Trade size is relatively small compared with similar bets in past']"
            ]
          },
          "metadata": {
            "tags": []
          },
          "execution_count": 25
        }
      ]
    },
    {
      "cell_type": "code",
      "metadata": {
        "colab": {
          "base_uri": "https://localhost:8080/"
        },
        "id": "nHU2sOSpOnw9",
        "outputId": "5f18fc7c-0d12-40d1-cca0-c33a2377f40b"
      },
      "source": [
        "summaries['DOGE']"
      ],
      "execution_count": 26,
      "outputs": [
        {
          "output_type": "execute_result",
          "data": {
            "text/plain": [
              "['Vitalik Buterin has become a rock star in the crypto community. Dogecoin has lost about one-quarter of its value in past week',\n",
              " 'Coin is most popular ticker on Yahoo Finance over the last month.',\n",
              " 'It’s up more than 14,000% in past year, making it sixth-biggest cryptocurrency. Dogecoin launched on Coinbase, making it more accessible',\n",
              " 'Musk’s ‘We Love You Elon’ hashtag is trending on Twitter. Bitcoin’s rise lifts all top-10 crypto boats',\n",
              " 'Hertz, U-Haul all had similar fortunes. SPACs, crypto coins could be ‘huge winners,’ Colas says',\n",
              " 'Dogecoin rallied to a late afternoon intraday high $0.3549. Reversing a 1.63% loss from Tuesday, Dogecoin ended the day at $0.3431',\n",
              " 'Vanda says retail buying may have peaked this week. Cinema chain AMC has warned investors not to buy its stock',\n",
              " 'iTrustCapital now allows people to invest in the asset. Elon Musk has been known to prop the coin on his social media accounts',\n",
              " 'Is Dogecoin worth $36,000-plus asking price? Decentralized, it’s not backed by a government or bank',\n",
              " 'Top banking regulator proposes cryptoasset classification. Ethereum tumbles after El Salvador becomes world’s first nation to adopt the currency']"
            ]
          },
          "metadata": {
            "tags": []
          },
          "execution_count": 26
        }
      ]
    },
    {
      "cell_type": "code",
      "metadata": {
        "colab": {
          "base_uri": "https://localhost:8080/"
        },
        "id": "HjephcoYOnjw",
        "outputId": "c7747677-1907-4702-e54f-5208ebf1ca01"
      },
      "source": [
        "summaries['TSLA']"
      ],
      "execution_count": 27,
      "outputs": [
        {
          "output_type": "execute_result",
          "data": {
            "text/plain": [
              "['Cathie Wood believes that TSLA stock can touch $3,000 by FY2025. Manufacturing presence, China, India catalysts likely to boost earnings',\n",
              " 'Guillen was one of four top executives running the company. Executive previously served as president of Tesla’s automotive business',\n",
              " 'CATL leads advances in EV, green energy-related stocks. Apple in early talks with Chinese firms on EV supply',\n",
              " 'Tesla says it delivered 33,000 cars in China in June.',\n",
              " 'Li’s Nio is targeting premium buyers with ‘Rippling Mode’. China’s luxury electric vehicle market is booming',\n",
              " \"Cohen's company is rolling out a fleet of Tesla Model Y taxis.\",\n",
              " 'Guillen was named president of the Tesla Heavy Trucking unit in March.',\n",
              " 'Guillen was named president of the Tesla Heavy Trucking unit in March.',\n",
              " 'Elon Musk tweets that Model S Plaid is adequate. Model S Plaid Plus was due to hit the market by mid-2022',\n",
              " 'Asia-based company is betting on U.S. demand. Swapping stations are a key part of EV transition']"
            ]
          },
          "metadata": {
            "tags": []
          },
          "execution_count": 27
        }
      ]
    },
    {
      "cell_type": "markdown",
      "metadata": {
        "id": "5lQF34dgq4c1"
      },
      "source": [
        "# 5. Adding Sentiment Analysis"
      ]
    },
    {
      "cell_type": "code",
      "metadata": {
        "id": "3LzV8RwEq4c2"
      },
      "source": [
        "from transformers import pipeline\n",
        "sentiment = pipeline('sentiment-analysis')"
      ],
      "execution_count": 28,
      "outputs": []
    },
    {
      "cell_type": "code",
      "metadata": {
        "colab": {
          "base_uri": "https://localhost:8080/"
        },
        "id": "JOubgBNiq4c2",
        "outputId": "f652ae1f-9833-43a1-b3a7-2c225ab48bfc"
      },
      "source": [
        "sentiment(summaries['BTC'])"
      ],
      "execution_count": 29,
      "outputs": [
        {
          "output_type": "execute_result",
          "data": {
            "text/plain": [
              "[{'label': 'NEGATIVE', 'score': 0.9627186059951782},\n",
              " {'label': 'NEGATIVE', 'score': 0.9975571632385254},\n",
              " {'label': 'NEGATIVE', 'score': 0.999688446521759},\n",
              " {'label': 'NEGATIVE', 'score': 0.9684471487998962},\n",
              " {'label': 'POSITIVE', 'score': 0.9654040336608887},\n",
              " {'label': 'NEGATIVE', 'score': 0.9960678815841675},\n",
              " {'label': 'NEGATIVE', 'score': 0.977043867111206},\n",
              " {'label': 'NEGATIVE', 'score': 0.9994444251060486},\n",
              " {'label': 'NEGATIVE', 'score': 0.9988926649093628},\n",
              " {'label': 'NEGATIVE', 'score': 0.9962055683135986}]"
            ]
          },
          "metadata": {
            "tags": []
          },
          "execution_count": 29
        }
      ]
    },
    {
      "cell_type": "code",
      "metadata": {
        "colab": {
          "base_uri": "https://localhost:8080/"
        },
        "collapsed": true,
        "id": "Lw9m5Lpxq4c2",
        "outputId": "f5018c85-863c-4e18-987b-d3f2555518d1"
      },
      "source": [
        "scores = {ticker:sentiment(summaries[ticker]) for ticker in monitored_tickers}\n",
        "scores"
      ],
      "execution_count": 30,
      "outputs": [
        {
          "output_type": "execute_result",
          "data": {
            "text/plain": [
              "{'BTC': [{'label': 'NEGATIVE', 'score': 0.9627186059951782},\n",
              "  {'label': 'NEGATIVE', 'score': 0.9975571632385254},\n",
              "  {'label': 'NEGATIVE', 'score': 0.999688446521759},\n",
              "  {'label': 'NEGATIVE', 'score': 0.9684471487998962},\n",
              "  {'label': 'POSITIVE', 'score': 0.9654040336608887},\n",
              "  {'label': 'NEGATIVE', 'score': 0.9960678815841675},\n",
              "  {'label': 'NEGATIVE', 'score': 0.977043867111206},\n",
              "  {'label': 'NEGATIVE', 'score': 0.9994444251060486},\n",
              "  {'label': 'NEGATIVE', 'score': 0.9988926649093628},\n",
              "  {'label': 'NEGATIVE', 'score': 0.9962055683135986}],\n",
              " 'DOGE': [{'label': 'NEGATIVE', 'score': 0.9957894682884216},\n",
              "  {'label': 'NEGATIVE', 'score': 0.866360604763031},\n",
              "  {'label': 'POSITIVE', 'score': 0.9972788691520691},\n",
              "  {'label': 'POSITIVE', 'score': 0.9989463090896606},\n",
              "  {'label': 'NEGATIVE', 'score': 0.9281707406044006},\n",
              "  {'label': 'NEGATIVE', 'score': 0.9952418208122253},\n",
              "  {'label': 'NEGATIVE', 'score': 0.9883205890655518},\n",
              "  {'label': 'POSITIVE', 'score': 0.974581241607666},\n",
              "  {'label': 'NEGATIVE', 'score': 0.9992754459381104},\n",
              "  {'label': 'NEGATIVE', 'score': 0.9982613921165466}],\n",
              " 'TSLA': [{'label': 'POSITIVE', 'score': 0.9955108761787415},\n",
              "  {'label': 'POSITIVE', 'score': 0.9989766478538513},\n",
              "  {'label': 'POSITIVE', 'score': 0.9945157766342163},\n",
              "  {'label': 'POSITIVE', 'score': 0.9928262829780579},\n",
              "  {'label': 'POSITIVE', 'score': 0.9985459446907043},\n",
              "  {'label': 'NEGATIVE', 'score': 0.9702958464622498},\n",
              "  {'label': 'POSITIVE', 'score': 0.923997700214386},\n",
              "  {'label': 'POSITIVE', 'score': 0.923997700214386},\n",
              "  {'label': 'POSITIVE', 'score': 0.9939759373664856},\n",
              "  {'label': 'POSITIVE', 'score': 0.9529753923416138}]}"
            ]
          },
          "metadata": {
            "tags": []
          },
          "execution_count": 30
        }
      ]
    },
    {
      "cell_type": "code",
      "metadata": {
        "colab": {
          "base_uri": "https://localhost:8080/"
        },
        "id": "Kp-PDa74q4c2",
        "outputId": "a4bc7f3d-59d5-4628-bab8-b654c30d1aad"
      },
      "source": [
        "print(summaries['DOGE'][3], scores['DOGE'][3]['label'], scores['DOGE'][3]['score'])"
      ],
      "execution_count": 31,
      "outputs": [
        {
          "output_type": "stream",
          "text": [
            "Musk’s ‘We Love You Elon’ hashtag is trending on Twitter. Bitcoin’s rise lifts all top-10 crypto boats POSITIVE 0.9989463090896606\n"
          ],
          "name": "stdout"
        }
      ]
    },
    {
      "cell_type": "code",
      "metadata": {
        "colab": {
          "base_uri": "https://localhost:8080/"
        },
        "id": "xJgU07kKq4c3",
        "outputId": "5c45aa28-11de-47ba-905b-3b0a0ecce71a"
      },
      "source": [
        "scores['BTC'][0]['score']"
      ],
      "execution_count": 32,
      "outputs": [
        {
          "output_type": "execute_result",
          "data": {
            "text/plain": [
              "0.9627186059951782"
            ]
          },
          "metadata": {
            "tags": []
          },
          "execution_count": 32
        }
      ]
    },
    {
      "cell_type": "markdown",
      "metadata": {
        "id": "UsX-ttg3q4c3"
      },
      "source": [
        "# 6. Exporting Results to CSV"
      ]
    },
    {
      "cell_type": "code",
      "metadata": {
        "colab": {
          "base_uri": "https://localhost:8080/"
        },
        "collapsed": true,
        "id": "QM2681Fjq4c3",
        "outputId": "2dafbd49-5151-4891-804d-fede2f3d89da"
      },
      "source": [
        "summaries"
      ],
      "execution_count": 43,
      "outputs": [
        {
          "output_type": "execute_result",
          "data": {
            "text/plain": [
              "{'BTC': ['‘Bitcoin is bad for crime,’ Hunter Horsley says. ‘Law enforcement is honing their investigative skills,’Trace says',\n",
              "  'Bitcoin price has been given four bearish reversal signals in the last five years.',\n",
              "  'China cracks down on miners using electricity. Tesla chief Elon Musk conspicuously absent at Bitcoin Mining Council',\n",
              "  'Authorities in Yunnan province launch probe. China accounts for over half of global bitcoin production',\n",
              "  'STX and Bitcoin will be accepted as methods of payment. Businesses that accept Paycoin will allow for customers to transact',\n",
              "  'Regulators have already delayed decision on at least nine Bitcoin ETF applications. Invesco releases two ‘Bitcoin adjacent’ funds',\n",
              "  'Hard fork expected to begin on Sunday. Miners have until Sunday to signal support for upgrade',\n",
              "  'The virtual currency’s chances of falling below $10,000 have increased. Bitcoin has lost 40% of its market share in recent years',\n",
              "  'Strategists at JPMorgan see backwardation in spot price. They warn of retail-investor-driven froth of December 2017',\n",
              "  'Call options with a strike price of $200,000 traded on Deribit. Trade size is relatively small compared with similar bets in past'],\n",
              " 'DOGE': ['Vitalik Buterin has become a rock star in the crypto community. Dogecoin has lost about one-quarter of its value in past week',\n",
              "  'Coin is most popular ticker on Yahoo Finance over the last month.',\n",
              "  'It’s up more than 14,000% in past year, making it sixth-biggest cryptocurrency. Dogecoin launched on Coinbase, making it more accessible',\n",
              "  'Musk’s ‘We Love You Elon’ hashtag is trending on Twitter. Bitcoin’s rise lifts all top-10 crypto boats',\n",
              "  'Hertz, U-Haul all had similar fortunes. SPACs, crypto coins could be ‘huge winners,’ Colas says',\n",
              "  'Dogecoin rallied to a late afternoon intraday high $0.3549. Reversing a 1.63% loss from Tuesday, Dogecoin ended the day at $0.3431',\n",
              "  'Vanda says retail buying may have peaked this week. Cinema chain AMC has warned investors not to buy its stock',\n",
              "  'iTrustCapital now allows people to invest in the asset. Elon Musk has been known to prop the coin on his social media accounts',\n",
              "  'Is Dogecoin worth $36,000-plus asking price? Decentralized, it’s not backed by a government or bank',\n",
              "  'Top banking regulator proposes cryptoasset classification. Ethereum tumbles after El Salvador becomes world’s first nation to adopt the currency'],\n",
              " 'TSLA': ['Cathie Wood believes that TSLA stock can touch $3,000 by FY2025. Manufacturing presence, China, India catalysts likely to boost earnings',\n",
              "  'Guillen was one of four top executives running the company. Executive previously served as president of Tesla’s automotive business',\n",
              "  'CATL leads advances in EV, green energy-related stocks. Apple in early talks with Chinese firms on EV supply',\n",
              "  'Tesla says it delivered 33,000 cars in China in June.',\n",
              "  'Li’s Nio is targeting premium buyers with ‘Rippling Mode’. China’s luxury electric vehicle market is booming',\n",
              "  \"Cohen's company is rolling out a fleet of Tesla Model Y taxis.\",\n",
              "  'Guillen was named president of the Tesla Heavy Trucking unit in March.',\n",
              "  'Guillen was named president of the Tesla Heavy Trucking unit in March.',\n",
              "  'Elon Musk tweets that Model S Plaid is adequate. Model S Plaid Plus was due to hit the market by mid-2022',\n",
              "  'Asia-based company is betting on U.S. demand. Swapping stations are a key part of EV transition']}"
            ]
          },
          "metadata": {
            "tags": []
          },
          "execution_count": 33
        },
        {
          "output_type": "execute_result",
          "data": {
            "text/plain": [
              "{'BTC': ['‘Bitcoin is bad for crime,’ Hunter Horsley says. ‘Law enforcement is honing their investigative skills,’Trace says',\n",
              "  'Bitcoin price has been given four bearish reversal signals in the last five years.',\n",
              "  'China cracks down on miners using electricity. Tesla chief Elon Musk conspicuously absent at Bitcoin Mining Council',\n",
              "  'Authorities in Yunnan province launch probe. China accounts for over half of global bitcoin production',\n",
              "  'STX and Bitcoin will be accepted as methods of payment. Businesses that accept Paycoin will allow for customers to transact',\n",
              "  'Regulators have already delayed decision on at least nine Bitcoin ETF applications. Invesco releases two ‘Bitcoin adjacent’ funds',\n",
              "  'Hard fork expected to begin on Sunday. Miners have until Sunday to signal support for upgrade',\n",
              "  'The virtual currency’s chances of falling below $10,000 have increased. Bitcoin has lost 40% of its market share in recent years',\n",
              "  'Strategists at JPMorgan see backwardation in spot price. They warn of retail-investor-driven froth of December 2017',\n",
              "  'Call options with a strike price of $200,000 traded on Deribit. Trade size is relatively small compared with similar bets in past'],\n",
              " 'DOGE': ['Vitalik Buterin has become a rock star in the crypto community. Dogecoin has lost about one-quarter of its value in past week',\n",
              "  'Coin is most popular ticker on Yahoo Finance over the last month.',\n",
              "  'It’s up more than 14,000% in past year, making it sixth-biggest cryptocurrency. Dogecoin launched on Coinbase, making it more accessible',\n",
              "  'Musk’s ‘We Love You Elon’ hashtag is trending on Twitter. Bitcoin’s rise lifts all top-10 crypto boats',\n",
              "  'Hertz, U-Haul all had similar fortunes. SPACs, crypto coins could be ‘huge winners,’ Colas says',\n",
              "  'Dogecoin rallied to a late afternoon intraday high $0.3549. Reversing a 1.63% loss from Tuesday, Dogecoin ended the day at $0.3431',\n",
              "  'Vanda says retail buying may have peaked this week. Cinema chain AMC has warned investors not to buy its stock',\n",
              "  'iTrustCapital now allows people to invest in the asset. Elon Musk has been known to prop the coin on his social media accounts',\n",
              "  'Is Dogecoin worth $36,000-plus asking price? Decentralized, it’s not backed by a government or bank',\n",
              "  'Top banking regulator proposes cryptoasset classification. Ethereum tumbles after El Salvador becomes world’s first nation to adopt the currency'],\n",
              " 'TSLA': ['Cathie Wood believes that TSLA stock can touch $3,000 by FY2025. Manufacturing presence, China, India catalysts likely to boost earnings',\n",
              "  'Guillen was one of four top executives running the company. Executive previously served as president of Tesla’s automotive business',\n",
              "  'CATL leads advances in EV, green energy-related stocks. Apple in early talks with Chinese firms on EV supply',\n",
              "  'Tesla says it delivered 33,000 cars in China in June.',\n",
              "  'Li’s Nio is targeting premium buyers with ‘Rippling Mode’. China’s luxury electric vehicle market is booming',\n",
              "  \"Cohen's company is rolling out a fleet of Tesla Model Y taxis.\",\n",
              "  'Guillen was named president of the Tesla Heavy Trucking unit in March.',\n",
              "  'Guillen was named president of the Tesla Heavy Trucking unit in March.',\n",
              "  'Elon Musk tweets that Model S Plaid is adequate. Model S Plaid Plus was due to hit the market by mid-2022',\n",
              "  'Asia-based company is betting on U.S. demand. Swapping stations are a key part of EV transition']}"
            ]
          },
          "metadata": {
            "tags": []
          },
          "execution_count": 43
        }
      ]
    },
    {
      "cell_type": "code",
      "metadata": {
        "colab": {
          "base_uri": "https://localhost:8080/"
        },
        "collapsed": true,
        "id": "O_1mey-lq4c3",
        "outputId": "b6001812-283f-4120-98fc-e6b2b432b210"
      },
      "source": [
        "scores"
      ],
      "execution_count": 44,
      "outputs": [
        {
          "output_type": "execute_result",
          "data": {
            "text/plain": [
              "{'BTC': [{'label': 'NEGATIVE', 'score': 0.9627186059951782},\n",
              "  {'label': 'NEGATIVE', 'score': 0.9975571632385254},\n",
              "  {'label': 'NEGATIVE', 'score': 0.999688446521759},\n",
              "  {'label': 'NEGATIVE', 'score': 0.9684471487998962},\n",
              "  {'label': 'POSITIVE', 'score': 0.9654040336608887},\n",
              "  {'label': 'NEGATIVE', 'score': 0.9960678815841675},\n",
              "  {'label': 'NEGATIVE', 'score': 0.977043867111206},\n",
              "  {'label': 'NEGATIVE', 'score': 0.9994444251060486},\n",
              "  {'label': 'NEGATIVE', 'score': 0.9988926649093628},\n",
              "  {'label': 'NEGATIVE', 'score': 0.9962055683135986}],\n",
              " 'DOGE': [{'label': 'NEGATIVE', 'score': 0.9957894682884216},\n",
              "  {'label': 'NEGATIVE', 'score': 0.866360604763031},\n",
              "  {'label': 'POSITIVE', 'score': 0.9972788691520691},\n",
              "  {'label': 'POSITIVE', 'score': 0.9989463090896606},\n",
              "  {'label': 'NEGATIVE', 'score': 0.9281707406044006},\n",
              "  {'label': 'NEGATIVE', 'score': 0.9952418208122253},\n",
              "  {'label': 'NEGATIVE', 'score': 0.9883205890655518},\n",
              "  {'label': 'POSITIVE', 'score': 0.974581241607666},\n",
              "  {'label': 'NEGATIVE', 'score': 0.9992754459381104},\n",
              "  {'label': 'NEGATIVE', 'score': 0.9982613921165466}],\n",
              " 'TSLA': [{'label': 'POSITIVE', 'score': 0.9955108761787415},\n",
              "  {'label': 'POSITIVE', 'score': 0.9989766478538513},\n",
              "  {'label': 'POSITIVE', 'score': 0.9945157766342163},\n",
              "  {'label': 'POSITIVE', 'score': 0.9928262829780579},\n",
              "  {'label': 'POSITIVE', 'score': 0.9985459446907043},\n",
              "  {'label': 'NEGATIVE', 'score': 0.9702958464622498},\n",
              "  {'label': 'POSITIVE', 'score': 0.923997700214386},\n",
              "  {'label': 'POSITIVE', 'score': 0.923997700214386},\n",
              "  {'label': 'POSITIVE', 'score': 0.9939759373664856},\n",
              "  {'label': 'POSITIVE', 'score': 0.9529753923416138}]}"
            ]
          },
          "metadata": {
            "tags": []
          },
          "execution_count": 34
        },
        {
          "output_type": "execute_result",
          "data": {
            "text/plain": [
              "{'BTC': [{'label': 'NEGATIVE', 'score': 0.9627186059951782},\n",
              "  {'label': 'NEGATIVE', 'score': 0.9975571632385254},\n",
              "  {'label': 'NEGATIVE', 'score': 0.999688446521759},\n",
              "  {'label': 'NEGATIVE', 'score': 0.9684471487998962},\n",
              "  {'label': 'POSITIVE', 'score': 0.9654040336608887},\n",
              "  {'label': 'NEGATIVE', 'score': 0.9960678815841675},\n",
              "  {'label': 'NEGATIVE', 'score': 0.977043867111206},\n",
              "  {'label': 'NEGATIVE', 'score': 0.9994444251060486},\n",
              "  {'label': 'NEGATIVE', 'score': 0.9988926649093628},\n",
              "  {'label': 'NEGATIVE', 'score': 0.9962055683135986}],\n",
              " 'DOGE': [{'label': 'NEGATIVE', 'score': 0.9957894682884216},\n",
              "  {'label': 'NEGATIVE', 'score': 0.866360604763031},\n",
              "  {'label': 'POSITIVE', 'score': 0.9972788691520691},\n",
              "  {'label': 'POSITIVE', 'score': 0.9989463090896606},\n",
              "  {'label': 'NEGATIVE', 'score': 0.9281707406044006},\n",
              "  {'label': 'NEGATIVE', 'score': 0.9952418208122253},\n",
              "  {'label': 'NEGATIVE', 'score': 0.9883205890655518},\n",
              "  {'label': 'POSITIVE', 'score': 0.974581241607666},\n",
              "  {'label': 'NEGATIVE', 'score': 0.9992754459381104},\n",
              "  {'label': 'NEGATIVE', 'score': 0.9982613921165466}],\n",
              " 'TSLA': [{'label': 'POSITIVE', 'score': 0.9955108761787415},\n",
              "  {'label': 'POSITIVE', 'score': 0.9989766478538513},\n",
              "  {'label': 'POSITIVE', 'score': 0.9945157766342163},\n",
              "  {'label': 'POSITIVE', 'score': 0.9928262829780579},\n",
              "  {'label': 'POSITIVE', 'score': 0.9985459446907043},\n",
              "  {'label': 'NEGATIVE', 'score': 0.9702958464622498},\n",
              "  {'label': 'POSITIVE', 'score': 0.923997700214386},\n",
              "  {'label': 'POSITIVE', 'score': 0.923997700214386},\n",
              "  {'label': 'POSITIVE', 'score': 0.9939759373664856},\n",
              "  {'label': 'POSITIVE', 'score': 0.9529753923416138}]}"
            ]
          },
          "metadata": {
            "tags": []
          },
          "execution_count": 44
        }
      ]
    },
    {
      "cell_type": "code",
      "metadata": {
        "colab": {
          "base_uri": "https://localhost:8080/"
        },
        "collapsed": true,
        "id": "dh-gSwUVq4c6",
        "outputId": "644ce9bb-97aa-482a-e35b-c526615e33fd"
      },
      "source": [
        "cleaned_urls"
      ],
      "execution_count": 45,
      "outputs": [
        {
          "output_type": "execute_result",
          "data": {
            "text/plain": [
              "{'BTC': ['https://finance.yahoo.com/news/bitcoin-is-bad-for-crime-says-crypto-asset-manager-210045513.html',\n",
              "  'https://finance.yahoo.com/news/using-macd-analyze-btc-price-111400297.html',\n",
              "  'https://finance.yahoo.com/video/although-bitcoin-very-volatile-only-204141433.html',\n",
              "  'https://finance.yahoo.com/news/chinas-cryptocurrency-mining-crackdown-spreads-091422332.html',\n",
              "  'https://finance.yahoo.com/news/south-koreans-pay-bitcoin-stacks-222632410.html',\n",
              "  'https://finance.yahoo.com/news/wannabe-bitcoin-etfs-mushrooming-getting-130000561.html',\n",
              "  'https://finance.yahoo.com/news/locked-bitcoin-taproot-upgrade-gets-120837972.html',\n",
              "  'https://finance.yahoo.com/news/betting-markets-see-more-pain-for-bitcoin-investors-bet-on-drop-to-10-k-oddsmakers-142311201.html',\n",
              "  'https://finance.yahoo.com/news/jpmorgan-predicts-bitcoin-2021-slide-101400075.html',\n",
              "  'https://finance.yahoo.com/news/bitcoin-200k-end-crypto-options-144311059.html'],\n",
              " 'DOGE': ['https://finance.yahoo.com/news/dogecoin-follows-bitcoin-lead-flips-135422542.html',\n",
              "  'https://finance.yahoo.com/news/yahoo-finance-users-love-dogecoin-morning-brief-101645082.html',\n",
              "  'https://finance.yahoo.com/news/dogecoin-bolstered-coinbase-addition-musk-070126645.html',\n",
              "  'https://finance.yahoo.com/news/doge-price-finds-green-bitcoin-134109136.html',\n",
              "  'https://finance.yahoo.com/news/meme-stock-frenzy-is-distracting-investors-from-huge-opportunities-datatrek-says-173646965.html',\n",
              "  'https://finance.yahoo.com/news/dogecoin-daily-tech-analysis-june-004641031.html',\n",
              "  'https://finance.yahoo.com/news/amc-reddit-meme-stocks-blackberry-gamestop-nokia-vanda-track-retail-flows-peak-stock-price-085430511.html',\n",
              "  'https://finance.yahoo.com/news/dogecoin-doge-available-itrustcapital-crypto-124859279.html',\n",
              "  'https://finance.yahoo.com/news/dogecoin-popularity-still-worth-investment-110021113.html',\n",
              "  'https://finance.yahoo.com/news/cryptocurrency-bitcoin-ethereum-dogecoin-basel-committee-regulation-080051879.html'],\n",
              " 'TSLA': ['https://finance.yahoo.com/news/tesla-could-geared-upside-135916325.html',\n",
              "  'https://finance.yahoo.com/news/telsa-executive-top-musk-lieutenant-225536969.html',\n",
              "  'https://finance.yahoo.com/news/tesla-battery-supplier-jumps-record-065416370.html',\n",
              "  'https://finance.yahoo.com/video/tesla-china-deliveries-surge-29-133917490.html',\n",
              "  'https://finance.yahoo.com/news/elon-musks-china-nemesis-survived-063010688.html',\n",
              "  'https://finance.yahoo.com/video/gravity-brings-tesla-yellow-taxis-131657644.html',\n",
              "  'https://finance.yahoo.com/news/1-tesla-veteran-trucking-chief-002022879.html',\n",
              "  'https://finance.yahoo.com/news/teslas-heavy-trucking-unit-chief-220647362.html',\n",
              "  'https://finance.yahoo.com/news/tesla-tsla-pulls-plug-model-130501352.html',\n",
              "  'https://finance.yahoo.com/news/california-startup-now-offers-full-154803601.html']}"
            ]
          },
          "metadata": {
            "tags": []
          },
          "execution_count": 35
        },
        {
          "output_type": "execute_result",
          "data": {
            "text/plain": [
              "{'BTC': ['https://finance.yahoo.com/news/bitcoin-is-bad-for-crime-says-crypto-asset-manager-210045513.html',\n",
              "  'https://finance.yahoo.com/news/using-macd-analyze-btc-price-111400297.html',\n",
              "  'https://finance.yahoo.com/video/although-bitcoin-very-volatile-only-204141433.html',\n",
              "  'https://finance.yahoo.com/news/chinas-cryptocurrency-mining-crackdown-spreads-091422332.html',\n",
              "  'https://finance.yahoo.com/news/south-koreans-pay-bitcoin-stacks-222632410.html',\n",
              "  'https://finance.yahoo.com/news/wannabe-bitcoin-etfs-mushrooming-getting-130000561.html',\n",
              "  'https://finance.yahoo.com/news/locked-bitcoin-taproot-upgrade-gets-120837972.html',\n",
              "  'https://finance.yahoo.com/news/betting-markets-see-more-pain-for-bitcoin-investors-bet-on-drop-to-10-k-oddsmakers-142311201.html',\n",
              "  'https://finance.yahoo.com/news/jpmorgan-predicts-bitcoin-2021-slide-101400075.html',\n",
              "  'https://finance.yahoo.com/news/bitcoin-200k-end-crypto-options-144311059.html'],\n",
              " 'DOGE': ['https://finance.yahoo.com/news/dogecoin-follows-bitcoin-lead-flips-135422542.html',\n",
              "  'https://finance.yahoo.com/news/yahoo-finance-users-love-dogecoin-morning-brief-101645082.html',\n",
              "  'https://finance.yahoo.com/news/dogecoin-bolstered-coinbase-addition-musk-070126645.html',\n",
              "  'https://finance.yahoo.com/news/doge-price-finds-green-bitcoin-134109136.html',\n",
              "  'https://finance.yahoo.com/news/meme-stock-frenzy-is-distracting-investors-from-huge-opportunities-datatrek-says-173646965.html',\n",
              "  'https://finance.yahoo.com/news/dogecoin-daily-tech-analysis-june-004641031.html',\n",
              "  'https://finance.yahoo.com/news/amc-reddit-meme-stocks-blackberry-gamestop-nokia-vanda-track-retail-flows-peak-stock-price-085430511.html',\n",
              "  'https://finance.yahoo.com/news/dogecoin-doge-available-itrustcapital-crypto-124859279.html',\n",
              "  'https://finance.yahoo.com/news/dogecoin-popularity-still-worth-investment-110021113.html',\n",
              "  'https://finance.yahoo.com/news/cryptocurrency-bitcoin-ethereum-dogecoin-basel-committee-regulation-080051879.html'],\n",
              " 'TSLA': ['https://finance.yahoo.com/news/tesla-could-geared-upside-135916325.html',\n",
              "  'https://finance.yahoo.com/news/telsa-executive-top-musk-lieutenant-225536969.html',\n",
              "  'https://finance.yahoo.com/news/tesla-battery-supplier-jumps-record-065416370.html',\n",
              "  'https://finance.yahoo.com/video/tesla-china-deliveries-surge-29-133917490.html',\n",
              "  'https://finance.yahoo.com/news/elon-musks-china-nemesis-survived-063010688.html',\n",
              "  'https://finance.yahoo.com/video/gravity-brings-tesla-yellow-taxis-131657644.html',\n",
              "  'https://finance.yahoo.com/news/1-tesla-veteran-trucking-chief-002022879.html',\n",
              "  'https://finance.yahoo.com/news/teslas-heavy-trucking-unit-chief-220647362.html',\n",
              "  'https://finance.yahoo.com/news/tesla-tsla-pulls-plug-model-130501352.html',\n",
              "  'https://finance.yahoo.com/news/california-startup-now-offers-full-154803601.html']}"
            ]
          },
          "metadata": {
            "tags": []
          },
          "execution_count": 45
        }
      ]
    },
    {
      "cell_type": "code",
      "metadata": {
        "colab": {
          "base_uri": "https://localhost:8080/"
        },
        "id": "U2abUv72q4c6",
        "outputId": "ef19e3c9-f3ca-486b-ad2a-8a0de1dbef0d"
      },
      "source": [
        "range(len(summaries['DOGE']))"
      ],
      "execution_count": 46,
      "outputs": [
        {
          "output_type": "execute_result",
          "data": {
            "text/plain": [
              "range(0, 10)"
            ]
          },
          "metadata": {
            "tags": []
          },
          "execution_count": 36
        },
        {
          "output_type": "execute_result",
          "data": {
            "text/plain": [
              "range(0, 10)"
            ]
          },
          "metadata": {
            "tags": []
          },
          "execution_count": 46
        }
      ]
    },
    {
      "cell_type": "code",
      "metadata": {
        "colab": {
          "base_uri": "https://localhost:8080/",
          "height": 53
        },
        "id": "sq5lKQl2q4c7",
        "outputId": "c99ade57-066b-44f8-e0a7-c56241193de7"
      },
      "source": [
        "summaries['DOGE'][3]"
      ],
      "execution_count": 47,
      "outputs": [
        {
          "output_type": "execute_result",
          "data": {
            "application/vnd.google.colaboratory.intrinsic+json": {
              "type": "string"
            },
            "text/plain": [
              "'Musk’s ‘We Love You Elon’ hashtag is trending on Twitter. Bitcoin’s rise lifts all top-10 crypto boats'"
            ]
          },
          "metadata": {
            "tags": []
          },
          "execution_count": 37
        },
        {
          "output_type": "execute_result",
          "data": {
            "application/vnd.google.colaboratory.intrinsic+json": {
              "type": "string"
            },
            "text/plain": [
              "'Musk’s ‘We Love You Elon’ hashtag is trending on Twitter. Bitcoin’s rise lifts all top-10 crypto boats'"
            ]
          },
          "metadata": {
            "tags": []
          },
          "execution_count": 47
        }
      ]
    },
    {
      "cell_type": "code",
      "metadata": {
        "id": "LugLMdluq4c7"
      },
      "source": [
        "def create_output_array(summaries, scores, urls):\n",
        "    output = []\n",
        "    for ticker in monitored_tickers:\n",
        "        for counter in range(len(summaries[ticker])):\n",
        "            output_this = [\n",
        "                ticker,\n",
        "                summaries[ticker][counter],\n",
        "                scores[ticker][counter]['label'],\n",
        "                scores[ticker][counter]['score'],\n",
        "                urls[ticker][counter]\n",
        "            ]\n",
        "            output.append(output_this)\n",
        "    return output"
      ],
      "execution_count": 48,
      "outputs": []
    },
    {
      "cell_type": "code",
      "metadata": {
        "colab": {
          "base_uri": "https://localhost:8080/"
        },
        "collapsed": true,
        "id": "lyHkfqdWq4c7",
        "outputId": "7ecf8ca6-aab1-48d9-c7d9-07e03acdbe85"
      },
      "source": [
        "final_output = create_output_array(summaries, scores, cleaned_urls)\n",
        "final_output"
      ],
      "execution_count": 49,
      "outputs": [
        {
          "output_type": "execute_result",
          "data": {
            "text/plain": [
              "[['DOGE',\n",
              "  'Vitalik Buterin has become a rock star in the crypto community. Dogecoin has lost about one-quarter of its value in past week',\n",
              "  'NEGATIVE',\n",
              "  0.9957894682884216,\n",
              "  'https://finance.yahoo.com/news/dogecoin-follows-bitcoin-lead-flips-135422542.html'],\n",
              " ['DOGE',\n",
              "  'Coin is most popular ticker on Yahoo Finance over the last month.',\n",
              "  'NEGATIVE',\n",
              "  0.866360604763031,\n",
              "  'https://finance.yahoo.com/news/yahoo-finance-users-love-dogecoin-morning-brief-101645082.html'],\n",
              " ['DOGE',\n",
              "  'It’s up more than 14,000% in past year, making it sixth-biggest cryptocurrency. Dogecoin launched on Coinbase, making it more accessible',\n",
              "  'POSITIVE',\n",
              "  0.9972788691520691,\n",
              "  'https://finance.yahoo.com/news/dogecoin-bolstered-coinbase-addition-musk-070126645.html'],\n",
              " ['DOGE',\n",
              "  'Musk’s ‘We Love You Elon’ hashtag is trending on Twitter. Bitcoin’s rise lifts all top-10 crypto boats',\n",
              "  'POSITIVE',\n",
              "  0.9989463090896606,\n",
              "  'https://finance.yahoo.com/news/doge-price-finds-green-bitcoin-134109136.html'],\n",
              " ['DOGE',\n",
              "  'Hertz, U-Haul all had similar fortunes. SPACs, crypto coins could be ‘huge winners,’ Colas says',\n",
              "  'NEGATIVE',\n",
              "  0.9281707406044006,\n",
              "  'https://finance.yahoo.com/news/meme-stock-frenzy-is-distracting-investors-from-huge-opportunities-datatrek-says-173646965.html'],\n",
              " ['DOGE',\n",
              "  'Dogecoin rallied to a late afternoon intraday high $0.3549. Reversing a 1.63% loss from Tuesday, Dogecoin ended the day at $0.3431',\n",
              "  'NEGATIVE',\n",
              "  0.9952418208122253,\n",
              "  'https://finance.yahoo.com/news/dogecoin-daily-tech-analysis-june-004641031.html'],\n",
              " ['DOGE',\n",
              "  'Vanda says retail buying may have peaked this week. Cinema chain AMC has warned investors not to buy its stock',\n",
              "  'NEGATIVE',\n",
              "  0.9883205890655518,\n",
              "  'https://finance.yahoo.com/news/amc-reddit-meme-stocks-blackberry-gamestop-nokia-vanda-track-retail-flows-peak-stock-price-085430511.html'],\n",
              " ['DOGE',\n",
              "  'iTrustCapital now allows people to invest in the asset. Elon Musk has been known to prop the coin on his social media accounts',\n",
              "  'POSITIVE',\n",
              "  0.974581241607666,\n",
              "  'https://finance.yahoo.com/news/dogecoin-doge-available-itrustcapital-crypto-124859279.html'],\n",
              " ['DOGE',\n",
              "  'Is Dogecoin worth $36,000-plus asking price? Decentralized, it’s not backed by a government or bank',\n",
              "  'NEGATIVE',\n",
              "  0.9992754459381104,\n",
              "  'https://finance.yahoo.com/news/dogecoin-popularity-still-worth-investment-110021113.html'],\n",
              " ['DOGE',\n",
              "  'Top banking regulator proposes cryptoasset classification. Ethereum tumbles after El Salvador becomes world’s first nation to adopt the currency',\n",
              "  'NEGATIVE',\n",
              "  0.9982613921165466,\n",
              "  'https://finance.yahoo.com/news/cryptocurrency-bitcoin-ethereum-dogecoin-basel-committee-regulation-080051879.html'],\n",
              " ['TSLA',\n",
              "  'Cathie Wood believes that TSLA stock can touch $3,000 by FY2025. Manufacturing presence, China, India catalysts likely to boost earnings',\n",
              "  'POSITIVE',\n",
              "  0.9955108761787415,\n",
              "  'https://finance.yahoo.com/news/tesla-could-geared-upside-135916325.html'],\n",
              " ['TSLA',\n",
              "  'Guillen was one of four top executives running the company. Executive previously served as president of Tesla’s automotive business',\n",
              "  'POSITIVE',\n",
              "  0.9989766478538513,\n",
              "  'https://finance.yahoo.com/news/telsa-executive-top-musk-lieutenant-225536969.html'],\n",
              " ['TSLA',\n",
              "  'CATL leads advances in EV, green energy-related stocks. Apple in early talks with Chinese firms on EV supply',\n",
              "  'POSITIVE',\n",
              "  0.9945157766342163,\n",
              "  'https://finance.yahoo.com/news/tesla-battery-supplier-jumps-record-065416370.html'],\n",
              " ['TSLA',\n",
              "  'Tesla says it delivered 33,000 cars in China in June.',\n",
              "  'POSITIVE',\n",
              "  0.9928262829780579,\n",
              "  'https://finance.yahoo.com/video/tesla-china-deliveries-surge-29-133917490.html'],\n",
              " ['TSLA',\n",
              "  'Li’s Nio is targeting premium buyers with ‘Rippling Mode’. China’s luxury electric vehicle market is booming',\n",
              "  'POSITIVE',\n",
              "  0.9985459446907043,\n",
              "  'https://finance.yahoo.com/news/elon-musks-china-nemesis-survived-063010688.html'],\n",
              " ['TSLA',\n",
              "  \"Cohen's company is rolling out a fleet of Tesla Model Y taxis.\",\n",
              "  'NEGATIVE',\n",
              "  0.9702958464622498,\n",
              "  'https://finance.yahoo.com/video/gravity-brings-tesla-yellow-taxis-131657644.html'],\n",
              " ['TSLA',\n",
              "  'Guillen was named president of the Tesla Heavy Trucking unit in March.',\n",
              "  'POSITIVE',\n",
              "  0.923997700214386,\n",
              "  'https://finance.yahoo.com/news/1-tesla-veteran-trucking-chief-002022879.html'],\n",
              " ['TSLA',\n",
              "  'Guillen was named president of the Tesla Heavy Trucking unit in March.',\n",
              "  'POSITIVE',\n",
              "  0.923997700214386,\n",
              "  'https://finance.yahoo.com/news/teslas-heavy-trucking-unit-chief-220647362.html'],\n",
              " ['TSLA',\n",
              "  'Elon Musk tweets that Model S Plaid is adequate. Model S Plaid Plus was due to hit the market by mid-2022',\n",
              "  'POSITIVE',\n",
              "  0.9939759373664856,\n",
              "  'https://finance.yahoo.com/news/tesla-tsla-pulls-plug-model-130501352.html'],\n",
              " ['TSLA',\n",
              "  'Asia-based company is betting on U.S. demand. Swapping stations are a key part of EV transition',\n",
              "  'POSITIVE',\n",
              "  0.9529753923416138,\n",
              "  'https://finance.yahoo.com/news/california-startup-now-offers-full-154803601.html'],\n",
              " ['BTC',\n",
              "  '‘Bitcoin is bad for crime,’ Hunter Horsley says. ‘Law enforcement is honing their investigative skills,’Trace says',\n",
              "  'NEGATIVE',\n",
              "  0.9627186059951782,\n",
              "  'https://finance.yahoo.com/news/bitcoin-is-bad-for-crime-says-crypto-asset-manager-210045513.html'],\n",
              " ['BTC',\n",
              "  'Bitcoin price has been given four bearish reversal signals in the last five years.',\n",
              "  'NEGATIVE',\n",
              "  0.9975571632385254,\n",
              "  'https://finance.yahoo.com/news/using-macd-analyze-btc-price-111400297.html'],\n",
              " ['BTC',\n",
              "  'China cracks down on miners using electricity. Tesla chief Elon Musk conspicuously absent at Bitcoin Mining Council',\n",
              "  'NEGATIVE',\n",
              "  0.999688446521759,\n",
              "  'https://finance.yahoo.com/video/although-bitcoin-very-volatile-only-204141433.html'],\n",
              " ['BTC',\n",
              "  'Authorities in Yunnan province launch probe. China accounts for over half of global bitcoin production',\n",
              "  'NEGATIVE',\n",
              "  0.9684471487998962,\n",
              "  'https://finance.yahoo.com/news/chinas-cryptocurrency-mining-crackdown-spreads-091422332.html'],\n",
              " ['BTC',\n",
              "  'STX and Bitcoin will be accepted as methods of payment. Businesses that accept Paycoin will allow for customers to transact',\n",
              "  'POSITIVE',\n",
              "  0.9654040336608887,\n",
              "  'https://finance.yahoo.com/news/south-koreans-pay-bitcoin-stacks-222632410.html'],\n",
              " ['BTC',\n",
              "  'Regulators have already delayed decision on at least nine Bitcoin ETF applications. Invesco releases two ‘Bitcoin adjacent’ funds',\n",
              "  'NEGATIVE',\n",
              "  0.9960678815841675,\n",
              "  'https://finance.yahoo.com/news/wannabe-bitcoin-etfs-mushrooming-getting-130000561.html'],\n",
              " ['BTC',\n",
              "  'Hard fork expected to begin on Sunday. Miners have until Sunday to signal support for upgrade',\n",
              "  'NEGATIVE',\n",
              "  0.977043867111206,\n",
              "  'https://finance.yahoo.com/news/locked-bitcoin-taproot-upgrade-gets-120837972.html'],\n",
              " ['BTC',\n",
              "  'The virtual currency’s chances of falling below $10,000 have increased. Bitcoin has lost 40% of its market share in recent years',\n",
              "  'NEGATIVE',\n",
              "  0.9994444251060486,\n",
              "  'https://finance.yahoo.com/news/betting-markets-see-more-pain-for-bitcoin-investors-bet-on-drop-to-10-k-oddsmakers-142311201.html'],\n",
              " ['BTC',\n",
              "  'Strategists at JPMorgan see backwardation in spot price. They warn of retail-investor-driven froth of December 2017',\n",
              "  'NEGATIVE',\n",
              "  0.9988926649093628,\n",
              "  'https://finance.yahoo.com/news/jpmorgan-predicts-bitcoin-2021-slide-101400075.html'],\n",
              " ['BTC',\n",
              "  'Call options with a strike price of $200,000 traded on Deribit. Trade size is relatively small compared with similar bets in past',\n",
              "  'NEGATIVE',\n",
              "  0.9962055683135986,\n",
              "  'https://finance.yahoo.com/news/bitcoin-200k-end-crypto-options-144311059.html']]"
            ]
          },
          "metadata": {
            "tags": []
          },
          "execution_count": 39
        },
        {
          "output_type": "execute_result",
          "data": {
            "text/plain": [
              "[['DOGE',\n",
              "  'Vitalik Buterin has become a rock star in the crypto community. Dogecoin has lost about one-quarter of its value in past week',\n",
              "  'NEGATIVE',\n",
              "  0.9957894682884216,\n",
              "  'https://finance.yahoo.com/news/dogecoin-follows-bitcoin-lead-flips-135422542.html'],\n",
              " ['DOGE',\n",
              "  'Coin is most popular ticker on Yahoo Finance over the last month.',\n",
              "  'NEGATIVE',\n",
              "  0.866360604763031,\n",
              "  'https://finance.yahoo.com/news/yahoo-finance-users-love-dogecoin-morning-brief-101645082.html'],\n",
              " ['DOGE',\n",
              "  'It’s up more than 14,000% in past year, making it sixth-biggest cryptocurrency. Dogecoin launched on Coinbase, making it more accessible',\n",
              "  'POSITIVE',\n",
              "  0.9972788691520691,\n",
              "  'https://finance.yahoo.com/news/dogecoin-bolstered-coinbase-addition-musk-070126645.html'],\n",
              " ['DOGE',\n",
              "  'Musk’s ‘We Love You Elon’ hashtag is trending on Twitter. Bitcoin’s rise lifts all top-10 crypto boats',\n",
              "  'POSITIVE',\n",
              "  0.9989463090896606,\n",
              "  'https://finance.yahoo.com/news/doge-price-finds-green-bitcoin-134109136.html'],\n",
              " ['DOGE',\n",
              "  'Hertz, U-Haul all had similar fortunes. SPACs, crypto coins could be ‘huge winners,’ Colas says',\n",
              "  'NEGATIVE',\n",
              "  0.9281707406044006,\n",
              "  'https://finance.yahoo.com/news/meme-stock-frenzy-is-distracting-investors-from-huge-opportunities-datatrek-says-173646965.html'],\n",
              " ['DOGE',\n",
              "  'Dogecoin rallied to a late afternoon intraday high $0.3549. Reversing a 1.63% loss from Tuesday, Dogecoin ended the day at $0.3431',\n",
              "  'NEGATIVE',\n",
              "  0.9952418208122253,\n",
              "  'https://finance.yahoo.com/news/dogecoin-daily-tech-analysis-june-004641031.html'],\n",
              " ['DOGE',\n",
              "  'Vanda says retail buying may have peaked this week. Cinema chain AMC has warned investors not to buy its stock',\n",
              "  'NEGATIVE',\n",
              "  0.9883205890655518,\n",
              "  'https://finance.yahoo.com/news/amc-reddit-meme-stocks-blackberry-gamestop-nokia-vanda-track-retail-flows-peak-stock-price-085430511.html'],\n",
              " ['DOGE',\n",
              "  'iTrustCapital now allows people to invest in the asset. Elon Musk has been known to prop the coin on his social media accounts',\n",
              "  'POSITIVE',\n",
              "  0.974581241607666,\n",
              "  'https://finance.yahoo.com/news/dogecoin-doge-available-itrustcapital-crypto-124859279.html'],\n",
              " ['DOGE',\n",
              "  'Is Dogecoin worth $36,000-plus asking price? Decentralized, it’s not backed by a government or bank',\n",
              "  'NEGATIVE',\n",
              "  0.9992754459381104,\n",
              "  'https://finance.yahoo.com/news/dogecoin-popularity-still-worth-investment-110021113.html'],\n",
              " ['DOGE',\n",
              "  'Top banking regulator proposes cryptoasset classification. Ethereum tumbles after El Salvador becomes world’s first nation to adopt the currency',\n",
              "  'NEGATIVE',\n",
              "  0.9982613921165466,\n",
              "  'https://finance.yahoo.com/news/cryptocurrency-bitcoin-ethereum-dogecoin-basel-committee-regulation-080051879.html'],\n",
              " ['TSLA',\n",
              "  'Cathie Wood believes that TSLA stock can touch $3,000 by FY2025. Manufacturing presence, China, India catalysts likely to boost earnings',\n",
              "  'POSITIVE',\n",
              "  0.9955108761787415,\n",
              "  'https://finance.yahoo.com/news/tesla-could-geared-upside-135916325.html'],\n",
              " ['TSLA',\n",
              "  'Guillen was one of four top executives running the company. Executive previously served as president of Tesla’s automotive business',\n",
              "  'POSITIVE',\n",
              "  0.9989766478538513,\n",
              "  'https://finance.yahoo.com/news/telsa-executive-top-musk-lieutenant-225536969.html'],\n",
              " ['TSLA',\n",
              "  'CATL leads advances in EV, green energy-related stocks. Apple in early talks with Chinese firms on EV supply',\n",
              "  'POSITIVE',\n",
              "  0.9945157766342163,\n",
              "  'https://finance.yahoo.com/news/tesla-battery-supplier-jumps-record-065416370.html'],\n",
              " ['TSLA',\n",
              "  'Tesla says it delivered 33,000 cars in China in June.',\n",
              "  'POSITIVE',\n",
              "  0.9928262829780579,\n",
              "  'https://finance.yahoo.com/video/tesla-china-deliveries-surge-29-133917490.html'],\n",
              " ['TSLA',\n",
              "  'Li’s Nio is targeting premium buyers with ‘Rippling Mode’. China’s luxury electric vehicle market is booming',\n",
              "  'POSITIVE',\n",
              "  0.9985459446907043,\n",
              "  'https://finance.yahoo.com/news/elon-musks-china-nemesis-survived-063010688.html'],\n",
              " ['TSLA',\n",
              "  \"Cohen's company is rolling out a fleet of Tesla Model Y taxis.\",\n",
              "  'NEGATIVE',\n",
              "  0.9702958464622498,\n",
              "  'https://finance.yahoo.com/video/gravity-brings-tesla-yellow-taxis-131657644.html'],\n",
              " ['TSLA',\n",
              "  'Guillen was named president of the Tesla Heavy Trucking unit in March.',\n",
              "  'POSITIVE',\n",
              "  0.923997700214386,\n",
              "  'https://finance.yahoo.com/news/1-tesla-veteran-trucking-chief-002022879.html'],\n",
              " ['TSLA',\n",
              "  'Guillen was named president of the Tesla Heavy Trucking unit in March.',\n",
              "  'POSITIVE',\n",
              "  0.923997700214386,\n",
              "  'https://finance.yahoo.com/news/teslas-heavy-trucking-unit-chief-220647362.html'],\n",
              " ['TSLA',\n",
              "  'Elon Musk tweets that Model S Plaid is adequate. Model S Plaid Plus was due to hit the market by mid-2022',\n",
              "  'POSITIVE',\n",
              "  0.9939759373664856,\n",
              "  'https://finance.yahoo.com/news/tesla-tsla-pulls-plug-model-130501352.html'],\n",
              " ['TSLA',\n",
              "  'Asia-based company is betting on U.S. demand. Swapping stations are a key part of EV transition',\n",
              "  'POSITIVE',\n",
              "  0.9529753923416138,\n",
              "  'https://finance.yahoo.com/news/california-startup-now-offers-full-154803601.html'],\n",
              " ['BTC',\n",
              "  '‘Bitcoin is bad for crime,’ Hunter Horsley says. ‘Law enforcement is honing their investigative skills,’Trace says',\n",
              "  'NEGATIVE',\n",
              "  0.9627186059951782,\n",
              "  'https://finance.yahoo.com/news/bitcoin-is-bad-for-crime-says-crypto-asset-manager-210045513.html'],\n",
              " ['BTC',\n",
              "  'Bitcoin price has been given four bearish reversal signals in the last five years.',\n",
              "  'NEGATIVE',\n",
              "  0.9975571632385254,\n",
              "  'https://finance.yahoo.com/news/using-macd-analyze-btc-price-111400297.html'],\n",
              " ['BTC',\n",
              "  'China cracks down on miners using electricity. Tesla chief Elon Musk conspicuously absent at Bitcoin Mining Council',\n",
              "  'NEGATIVE',\n",
              "  0.999688446521759,\n",
              "  'https://finance.yahoo.com/video/although-bitcoin-very-volatile-only-204141433.html'],\n",
              " ['BTC',\n",
              "  'Authorities in Yunnan province launch probe. China accounts for over half of global bitcoin production',\n",
              "  'NEGATIVE',\n",
              "  0.9684471487998962,\n",
              "  'https://finance.yahoo.com/news/chinas-cryptocurrency-mining-crackdown-spreads-091422332.html'],\n",
              " ['BTC',\n",
              "  'STX and Bitcoin will be accepted as methods of payment. Businesses that accept Paycoin will allow for customers to transact',\n",
              "  'POSITIVE',\n",
              "  0.9654040336608887,\n",
              "  'https://finance.yahoo.com/news/south-koreans-pay-bitcoin-stacks-222632410.html'],\n",
              " ['BTC',\n",
              "  'Regulators have already delayed decision on at least nine Bitcoin ETF applications. Invesco releases two ‘Bitcoin adjacent’ funds',\n",
              "  'NEGATIVE',\n",
              "  0.9960678815841675,\n",
              "  'https://finance.yahoo.com/news/wannabe-bitcoin-etfs-mushrooming-getting-130000561.html'],\n",
              " ['BTC',\n",
              "  'Hard fork expected to begin on Sunday. Miners have until Sunday to signal support for upgrade',\n",
              "  'NEGATIVE',\n",
              "  0.977043867111206,\n",
              "  'https://finance.yahoo.com/news/locked-bitcoin-taproot-upgrade-gets-120837972.html'],\n",
              " ['BTC',\n",
              "  'The virtual currency’s chances of falling below $10,000 have increased. Bitcoin has lost 40% of its market share in recent years',\n",
              "  'NEGATIVE',\n",
              "  0.9994444251060486,\n",
              "  'https://finance.yahoo.com/news/betting-markets-see-more-pain-for-bitcoin-investors-bet-on-drop-to-10-k-oddsmakers-142311201.html'],\n",
              " ['BTC',\n",
              "  'Strategists at JPMorgan see backwardation in spot price. They warn of retail-investor-driven froth of December 2017',\n",
              "  'NEGATIVE',\n",
              "  0.9988926649093628,\n",
              "  'https://finance.yahoo.com/news/jpmorgan-predicts-bitcoin-2021-slide-101400075.html'],\n",
              " ['BTC',\n",
              "  'Call options with a strike price of $200,000 traded on Deribit. Trade size is relatively small compared with similar bets in past',\n",
              "  'NEGATIVE',\n",
              "  0.9962055683135986,\n",
              "  'https://finance.yahoo.com/news/bitcoin-200k-end-crypto-options-144311059.html']]"
            ]
          },
          "metadata": {
            "tags": []
          },
          "execution_count": 49
        }
      ]
    },
    {
      "cell_type": "code",
      "metadata": {
        "id": "lUwOp9V3q4c7"
      },
      "source": [
        "final_output.insert(0, ['Ticker', 'Summary', 'Label', 'Confidence', 'URL'])"
      ],
      "execution_count": 50,
      "outputs": []
    },
    {
      "cell_type": "code",
      "metadata": {
        "colab": {
          "base_uri": "https://localhost:8080/"
        },
        "collapsed": true,
        "id": "SAQ0Bgv3q4c8",
        "outputId": "97859e1e-5fcd-4a2c-c339-a474bf6bbe47"
      },
      "source": [
        "final_output"
      ],
      "execution_count": 51,
      "outputs": [
        {
          "output_type": "execute_result",
          "data": {
            "text/plain": [
              "[['Ticker', 'Summary', 'Label', 'Confidence', 'URL'],\n",
              " ['DOGE',\n",
              "  'Vitalik Buterin has become a rock star in the crypto community. Dogecoin has lost about one-quarter of its value in past week',\n",
              "  'NEGATIVE',\n",
              "  0.9957894682884216,\n",
              "  'https://finance.yahoo.com/news/dogecoin-follows-bitcoin-lead-flips-135422542.html'],\n",
              " ['DOGE',\n",
              "  'Coin is most popular ticker on Yahoo Finance over the last month.',\n",
              "  'NEGATIVE',\n",
              "  0.866360604763031,\n",
              "  'https://finance.yahoo.com/news/yahoo-finance-users-love-dogecoin-morning-brief-101645082.html'],\n",
              " ['DOGE',\n",
              "  'It’s up more than 14,000% in past year, making it sixth-biggest cryptocurrency. Dogecoin launched on Coinbase, making it more accessible',\n",
              "  'POSITIVE',\n",
              "  0.9972788691520691,\n",
              "  'https://finance.yahoo.com/news/dogecoin-bolstered-coinbase-addition-musk-070126645.html'],\n",
              " ['DOGE',\n",
              "  'Musk’s ‘We Love You Elon’ hashtag is trending on Twitter. Bitcoin’s rise lifts all top-10 crypto boats',\n",
              "  'POSITIVE',\n",
              "  0.9989463090896606,\n",
              "  'https://finance.yahoo.com/news/doge-price-finds-green-bitcoin-134109136.html'],\n",
              " ['DOGE',\n",
              "  'Hertz, U-Haul all had similar fortunes. SPACs, crypto coins could be ‘huge winners,’ Colas says',\n",
              "  'NEGATIVE',\n",
              "  0.9281707406044006,\n",
              "  'https://finance.yahoo.com/news/meme-stock-frenzy-is-distracting-investors-from-huge-opportunities-datatrek-says-173646965.html'],\n",
              " ['DOGE',\n",
              "  'Dogecoin rallied to a late afternoon intraday high $0.3549. Reversing a 1.63% loss from Tuesday, Dogecoin ended the day at $0.3431',\n",
              "  'NEGATIVE',\n",
              "  0.9952418208122253,\n",
              "  'https://finance.yahoo.com/news/dogecoin-daily-tech-analysis-june-004641031.html'],\n",
              " ['DOGE',\n",
              "  'Vanda says retail buying may have peaked this week. Cinema chain AMC has warned investors not to buy its stock',\n",
              "  'NEGATIVE',\n",
              "  0.9883205890655518,\n",
              "  'https://finance.yahoo.com/news/amc-reddit-meme-stocks-blackberry-gamestop-nokia-vanda-track-retail-flows-peak-stock-price-085430511.html'],\n",
              " ['DOGE',\n",
              "  'iTrustCapital now allows people to invest in the asset. Elon Musk has been known to prop the coin on his social media accounts',\n",
              "  'POSITIVE',\n",
              "  0.974581241607666,\n",
              "  'https://finance.yahoo.com/news/dogecoin-doge-available-itrustcapital-crypto-124859279.html'],\n",
              " ['DOGE',\n",
              "  'Is Dogecoin worth $36,000-plus asking price? Decentralized, it’s not backed by a government or bank',\n",
              "  'NEGATIVE',\n",
              "  0.9992754459381104,\n",
              "  'https://finance.yahoo.com/news/dogecoin-popularity-still-worth-investment-110021113.html'],\n",
              " ['DOGE',\n",
              "  'Top banking regulator proposes cryptoasset classification. Ethereum tumbles after El Salvador becomes world’s first nation to adopt the currency',\n",
              "  'NEGATIVE',\n",
              "  0.9982613921165466,\n",
              "  'https://finance.yahoo.com/news/cryptocurrency-bitcoin-ethereum-dogecoin-basel-committee-regulation-080051879.html'],\n",
              " ['TSLA',\n",
              "  'Cathie Wood believes that TSLA stock can touch $3,000 by FY2025. Manufacturing presence, China, India catalysts likely to boost earnings',\n",
              "  'POSITIVE',\n",
              "  0.9955108761787415,\n",
              "  'https://finance.yahoo.com/news/tesla-could-geared-upside-135916325.html'],\n",
              " ['TSLA',\n",
              "  'Guillen was one of four top executives running the company. Executive previously served as president of Tesla’s automotive business',\n",
              "  'POSITIVE',\n",
              "  0.9989766478538513,\n",
              "  'https://finance.yahoo.com/news/telsa-executive-top-musk-lieutenant-225536969.html'],\n",
              " ['TSLA',\n",
              "  'CATL leads advances in EV, green energy-related stocks. Apple in early talks with Chinese firms on EV supply',\n",
              "  'POSITIVE',\n",
              "  0.9945157766342163,\n",
              "  'https://finance.yahoo.com/news/tesla-battery-supplier-jumps-record-065416370.html'],\n",
              " ['TSLA',\n",
              "  'Tesla says it delivered 33,000 cars in China in June.',\n",
              "  'POSITIVE',\n",
              "  0.9928262829780579,\n",
              "  'https://finance.yahoo.com/video/tesla-china-deliveries-surge-29-133917490.html'],\n",
              " ['TSLA',\n",
              "  'Li’s Nio is targeting premium buyers with ‘Rippling Mode’. China’s luxury electric vehicle market is booming',\n",
              "  'POSITIVE',\n",
              "  0.9985459446907043,\n",
              "  'https://finance.yahoo.com/news/elon-musks-china-nemesis-survived-063010688.html'],\n",
              " ['TSLA',\n",
              "  \"Cohen's company is rolling out a fleet of Tesla Model Y taxis.\",\n",
              "  'NEGATIVE',\n",
              "  0.9702958464622498,\n",
              "  'https://finance.yahoo.com/video/gravity-brings-tesla-yellow-taxis-131657644.html'],\n",
              " ['TSLA',\n",
              "  'Guillen was named president of the Tesla Heavy Trucking unit in March.',\n",
              "  'POSITIVE',\n",
              "  0.923997700214386,\n",
              "  'https://finance.yahoo.com/news/1-tesla-veteran-trucking-chief-002022879.html'],\n",
              " ['TSLA',\n",
              "  'Guillen was named president of the Tesla Heavy Trucking unit in March.',\n",
              "  'POSITIVE',\n",
              "  0.923997700214386,\n",
              "  'https://finance.yahoo.com/news/teslas-heavy-trucking-unit-chief-220647362.html'],\n",
              " ['TSLA',\n",
              "  'Elon Musk tweets that Model S Plaid is adequate. Model S Plaid Plus was due to hit the market by mid-2022',\n",
              "  'POSITIVE',\n",
              "  0.9939759373664856,\n",
              "  'https://finance.yahoo.com/news/tesla-tsla-pulls-plug-model-130501352.html'],\n",
              " ['TSLA',\n",
              "  'Asia-based company is betting on U.S. demand. Swapping stations are a key part of EV transition',\n",
              "  'POSITIVE',\n",
              "  0.9529753923416138,\n",
              "  'https://finance.yahoo.com/news/california-startup-now-offers-full-154803601.html'],\n",
              " ['BTC',\n",
              "  '‘Bitcoin is bad for crime,’ Hunter Horsley says. ‘Law enforcement is honing their investigative skills,’Trace says',\n",
              "  'NEGATIVE',\n",
              "  0.9627186059951782,\n",
              "  'https://finance.yahoo.com/news/bitcoin-is-bad-for-crime-says-crypto-asset-manager-210045513.html'],\n",
              " ['BTC',\n",
              "  'Bitcoin price has been given four bearish reversal signals in the last five years.',\n",
              "  'NEGATIVE',\n",
              "  0.9975571632385254,\n",
              "  'https://finance.yahoo.com/news/using-macd-analyze-btc-price-111400297.html'],\n",
              " ['BTC',\n",
              "  'China cracks down on miners using electricity. Tesla chief Elon Musk conspicuously absent at Bitcoin Mining Council',\n",
              "  'NEGATIVE',\n",
              "  0.999688446521759,\n",
              "  'https://finance.yahoo.com/video/although-bitcoin-very-volatile-only-204141433.html'],\n",
              " ['BTC',\n",
              "  'Authorities in Yunnan province launch probe. China accounts for over half of global bitcoin production',\n",
              "  'NEGATIVE',\n",
              "  0.9684471487998962,\n",
              "  'https://finance.yahoo.com/news/chinas-cryptocurrency-mining-crackdown-spreads-091422332.html'],\n",
              " ['BTC',\n",
              "  'STX and Bitcoin will be accepted as methods of payment. Businesses that accept Paycoin will allow for customers to transact',\n",
              "  'POSITIVE',\n",
              "  0.9654040336608887,\n",
              "  'https://finance.yahoo.com/news/south-koreans-pay-bitcoin-stacks-222632410.html'],\n",
              " ['BTC',\n",
              "  'Regulators have already delayed decision on at least nine Bitcoin ETF applications. Invesco releases two ‘Bitcoin adjacent’ funds',\n",
              "  'NEGATIVE',\n",
              "  0.9960678815841675,\n",
              "  'https://finance.yahoo.com/news/wannabe-bitcoin-etfs-mushrooming-getting-130000561.html'],\n",
              " ['BTC',\n",
              "  'Hard fork expected to begin on Sunday. Miners have until Sunday to signal support for upgrade',\n",
              "  'NEGATIVE',\n",
              "  0.977043867111206,\n",
              "  'https://finance.yahoo.com/news/locked-bitcoin-taproot-upgrade-gets-120837972.html'],\n",
              " ['BTC',\n",
              "  'The virtual currency’s chances of falling below $10,000 have increased. Bitcoin has lost 40% of its market share in recent years',\n",
              "  'NEGATIVE',\n",
              "  0.9994444251060486,\n",
              "  'https://finance.yahoo.com/news/betting-markets-see-more-pain-for-bitcoin-investors-bet-on-drop-to-10-k-oddsmakers-142311201.html'],\n",
              " ['BTC',\n",
              "  'Strategists at JPMorgan see backwardation in spot price. They warn of retail-investor-driven froth of December 2017',\n",
              "  'NEGATIVE',\n",
              "  0.9988926649093628,\n",
              "  'https://finance.yahoo.com/news/jpmorgan-predicts-bitcoin-2021-slide-101400075.html'],\n",
              " ['BTC',\n",
              "  'Call options with a strike price of $200,000 traded on Deribit. Trade size is relatively small compared with similar bets in past',\n",
              "  'NEGATIVE',\n",
              "  0.9962055683135986,\n",
              "  'https://finance.yahoo.com/news/bitcoin-200k-end-crypto-options-144311059.html']]"
            ]
          },
          "metadata": {
            "tags": []
          },
          "execution_count": 41
        },
        {
          "output_type": "execute_result",
          "data": {
            "text/plain": [
              "[['Ticker', 'Summary', 'Label', 'Confidence', 'URL'],\n",
              " ['DOGE',\n",
              "  'Vitalik Buterin has become a rock star in the crypto community. Dogecoin has lost about one-quarter of its value in past week',\n",
              "  'NEGATIVE',\n",
              "  0.9957894682884216,\n",
              "  'https://finance.yahoo.com/news/dogecoin-follows-bitcoin-lead-flips-135422542.html'],\n",
              " ['DOGE',\n",
              "  'Coin is most popular ticker on Yahoo Finance over the last month.',\n",
              "  'NEGATIVE',\n",
              "  0.866360604763031,\n",
              "  'https://finance.yahoo.com/news/yahoo-finance-users-love-dogecoin-morning-brief-101645082.html'],\n",
              " ['DOGE',\n",
              "  'It’s up more than 14,000% in past year, making it sixth-biggest cryptocurrency. Dogecoin launched on Coinbase, making it more accessible',\n",
              "  'POSITIVE',\n",
              "  0.9972788691520691,\n",
              "  'https://finance.yahoo.com/news/dogecoin-bolstered-coinbase-addition-musk-070126645.html'],\n",
              " ['DOGE',\n",
              "  'Musk’s ‘We Love You Elon’ hashtag is trending on Twitter. Bitcoin’s rise lifts all top-10 crypto boats',\n",
              "  'POSITIVE',\n",
              "  0.9989463090896606,\n",
              "  'https://finance.yahoo.com/news/doge-price-finds-green-bitcoin-134109136.html'],\n",
              " ['DOGE',\n",
              "  'Hertz, U-Haul all had similar fortunes. SPACs, crypto coins could be ‘huge winners,’ Colas says',\n",
              "  'NEGATIVE',\n",
              "  0.9281707406044006,\n",
              "  'https://finance.yahoo.com/news/meme-stock-frenzy-is-distracting-investors-from-huge-opportunities-datatrek-says-173646965.html'],\n",
              " ['DOGE',\n",
              "  'Dogecoin rallied to a late afternoon intraday high $0.3549. Reversing a 1.63% loss from Tuesday, Dogecoin ended the day at $0.3431',\n",
              "  'NEGATIVE',\n",
              "  0.9952418208122253,\n",
              "  'https://finance.yahoo.com/news/dogecoin-daily-tech-analysis-june-004641031.html'],\n",
              " ['DOGE',\n",
              "  'Vanda says retail buying may have peaked this week. Cinema chain AMC has warned investors not to buy its stock',\n",
              "  'NEGATIVE',\n",
              "  0.9883205890655518,\n",
              "  'https://finance.yahoo.com/news/amc-reddit-meme-stocks-blackberry-gamestop-nokia-vanda-track-retail-flows-peak-stock-price-085430511.html'],\n",
              " ['DOGE',\n",
              "  'iTrustCapital now allows people to invest in the asset. Elon Musk has been known to prop the coin on his social media accounts',\n",
              "  'POSITIVE',\n",
              "  0.974581241607666,\n",
              "  'https://finance.yahoo.com/news/dogecoin-doge-available-itrustcapital-crypto-124859279.html'],\n",
              " ['DOGE',\n",
              "  'Is Dogecoin worth $36,000-plus asking price? Decentralized, it’s not backed by a government or bank',\n",
              "  'NEGATIVE',\n",
              "  0.9992754459381104,\n",
              "  'https://finance.yahoo.com/news/dogecoin-popularity-still-worth-investment-110021113.html'],\n",
              " ['DOGE',\n",
              "  'Top banking regulator proposes cryptoasset classification. Ethereum tumbles after El Salvador becomes world’s first nation to adopt the currency',\n",
              "  'NEGATIVE',\n",
              "  0.9982613921165466,\n",
              "  'https://finance.yahoo.com/news/cryptocurrency-bitcoin-ethereum-dogecoin-basel-committee-regulation-080051879.html'],\n",
              " ['TSLA',\n",
              "  'Cathie Wood believes that TSLA stock can touch $3,000 by FY2025. Manufacturing presence, China, India catalysts likely to boost earnings',\n",
              "  'POSITIVE',\n",
              "  0.9955108761787415,\n",
              "  'https://finance.yahoo.com/news/tesla-could-geared-upside-135916325.html'],\n",
              " ['TSLA',\n",
              "  'Guillen was one of four top executives running the company. Executive previously served as president of Tesla’s automotive business',\n",
              "  'POSITIVE',\n",
              "  0.9989766478538513,\n",
              "  'https://finance.yahoo.com/news/telsa-executive-top-musk-lieutenant-225536969.html'],\n",
              " ['TSLA',\n",
              "  'CATL leads advances in EV, green energy-related stocks. Apple in early talks with Chinese firms on EV supply',\n",
              "  'POSITIVE',\n",
              "  0.9945157766342163,\n",
              "  'https://finance.yahoo.com/news/tesla-battery-supplier-jumps-record-065416370.html'],\n",
              " ['TSLA',\n",
              "  'Tesla says it delivered 33,000 cars in China in June.',\n",
              "  'POSITIVE',\n",
              "  0.9928262829780579,\n",
              "  'https://finance.yahoo.com/video/tesla-china-deliveries-surge-29-133917490.html'],\n",
              " ['TSLA',\n",
              "  'Li’s Nio is targeting premium buyers with ‘Rippling Mode’. China’s luxury electric vehicle market is booming',\n",
              "  'POSITIVE',\n",
              "  0.9985459446907043,\n",
              "  'https://finance.yahoo.com/news/elon-musks-china-nemesis-survived-063010688.html'],\n",
              " ['TSLA',\n",
              "  \"Cohen's company is rolling out a fleet of Tesla Model Y taxis.\",\n",
              "  'NEGATIVE',\n",
              "  0.9702958464622498,\n",
              "  'https://finance.yahoo.com/video/gravity-brings-tesla-yellow-taxis-131657644.html'],\n",
              " ['TSLA',\n",
              "  'Guillen was named president of the Tesla Heavy Trucking unit in March.',\n",
              "  'POSITIVE',\n",
              "  0.923997700214386,\n",
              "  'https://finance.yahoo.com/news/1-tesla-veteran-trucking-chief-002022879.html'],\n",
              " ['TSLA',\n",
              "  'Guillen was named president of the Tesla Heavy Trucking unit in March.',\n",
              "  'POSITIVE',\n",
              "  0.923997700214386,\n",
              "  'https://finance.yahoo.com/news/teslas-heavy-trucking-unit-chief-220647362.html'],\n",
              " ['TSLA',\n",
              "  'Elon Musk tweets that Model S Plaid is adequate. Model S Plaid Plus was due to hit the market by mid-2022',\n",
              "  'POSITIVE',\n",
              "  0.9939759373664856,\n",
              "  'https://finance.yahoo.com/news/tesla-tsla-pulls-plug-model-130501352.html'],\n",
              " ['TSLA',\n",
              "  'Asia-based company is betting on U.S. demand. Swapping stations are a key part of EV transition',\n",
              "  'POSITIVE',\n",
              "  0.9529753923416138,\n",
              "  'https://finance.yahoo.com/news/california-startup-now-offers-full-154803601.html'],\n",
              " ['BTC',\n",
              "  '‘Bitcoin is bad for crime,’ Hunter Horsley says. ‘Law enforcement is honing their investigative skills,’Trace says',\n",
              "  'NEGATIVE',\n",
              "  0.9627186059951782,\n",
              "  'https://finance.yahoo.com/news/bitcoin-is-bad-for-crime-says-crypto-asset-manager-210045513.html'],\n",
              " ['BTC',\n",
              "  'Bitcoin price has been given four bearish reversal signals in the last five years.',\n",
              "  'NEGATIVE',\n",
              "  0.9975571632385254,\n",
              "  'https://finance.yahoo.com/news/using-macd-analyze-btc-price-111400297.html'],\n",
              " ['BTC',\n",
              "  'China cracks down on miners using electricity. Tesla chief Elon Musk conspicuously absent at Bitcoin Mining Council',\n",
              "  'NEGATIVE',\n",
              "  0.999688446521759,\n",
              "  'https://finance.yahoo.com/video/although-bitcoin-very-volatile-only-204141433.html'],\n",
              " ['BTC',\n",
              "  'Authorities in Yunnan province launch probe. China accounts for over half of global bitcoin production',\n",
              "  'NEGATIVE',\n",
              "  0.9684471487998962,\n",
              "  'https://finance.yahoo.com/news/chinas-cryptocurrency-mining-crackdown-spreads-091422332.html'],\n",
              " ['BTC',\n",
              "  'STX and Bitcoin will be accepted as methods of payment. Businesses that accept Paycoin will allow for customers to transact',\n",
              "  'POSITIVE',\n",
              "  0.9654040336608887,\n",
              "  'https://finance.yahoo.com/news/south-koreans-pay-bitcoin-stacks-222632410.html'],\n",
              " ['BTC',\n",
              "  'Regulators have already delayed decision on at least nine Bitcoin ETF applications. Invesco releases two ‘Bitcoin adjacent’ funds',\n",
              "  'NEGATIVE',\n",
              "  0.9960678815841675,\n",
              "  'https://finance.yahoo.com/news/wannabe-bitcoin-etfs-mushrooming-getting-130000561.html'],\n",
              " ['BTC',\n",
              "  'Hard fork expected to begin on Sunday. Miners have until Sunday to signal support for upgrade',\n",
              "  'NEGATIVE',\n",
              "  0.977043867111206,\n",
              "  'https://finance.yahoo.com/news/locked-bitcoin-taproot-upgrade-gets-120837972.html'],\n",
              " ['BTC',\n",
              "  'The virtual currency’s chances of falling below $10,000 have increased. Bitcoin has lost 40% of its market share in recent years',\n",
              "  'NEGATIVE',\n",
              "  0.9994444251060486,\n",
              "  'https://finance.yahoo.com/news/betting-markets-see-more-pain-for-bitcoin-investors-bet-on-drop-to-10-k-oddsmakers-142311201.html'],\n",
              " ['BTC',\n",
              "  'Strategists at JPMorgan see backwardation in spot price. They warn of retail-investor-driven froth of December 2017',\n",
              "  'NEGATIVE',\n",
              "  0.9988926649093628,\n",
              "  'https://finance.yahoo.com/news/jpmorgan-predicts-bitcoin-2021-slide-101400075.html'],\n",
              " ['BTC',\n",
              "  'Call options with a strike price of $200,000 traded on Deribit. Trade size is relatively small compared with similar bets in past',\n",
              "  'NEGATIVE',\n",
              "  0.9962055683135986,\n",
              "  'https://finance.yahoo.com/news/bitcoin-200k-end-crypto-options-144311059.html']]"
            ]
          },
          "metadata": {
            "tags": []
          },
          "execution_count": 51
        }
      ]
    },
    {
      "cell_type": "code",
      "metadata": {
        "id": "QsnSu5Zfq4c8"
      },
      "source": [
        "import csv\n",
        "with open('Final_Result.csv', mode='w', newline='') as f:\n",
        "    csv_writer = csv.writer(f, delimiter=',', quotechar='\"', quoting=csv.QUOTE_MINIMAL)\n",
        "    csv_writer.writerows(final_output)"
      ],
      "execution_count": 52,
      "outputs": []
    }
  ]
}